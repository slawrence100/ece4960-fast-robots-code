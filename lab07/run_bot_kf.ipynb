{
 "cells": [
  {
   "cell_type": "markdown",
   "metadata": {},
   "source": [
    "## Execute PID Control"
   ]
  },
  {
   "cell_type": "markdown",
   "metadata": {},
   "source": [
    "### Setup and Connect"
   ]
  },
  {
   "cell_type": "code",
   "execution_count": 1,
   "metadata": {},
   "outputs": [
    {
     "name": "stdout",
     "output_type": "stream",
     "text": [
      "2022-03-21 21:26:00,788 |\u001b[32m INFO     \u001b[0m|: Looking for Artemis Nano Peripheral Device: C0:07:21:8D:B3:44\n"
     ]
    },
    {
     "ename": "Exception",
     "evalue": "Could not find device with address: C0:07:21:8D:B3:44 and service uuid: 9a48ecba-2e92-082f-c079-9e75aae428b1",
     "output_type": "error",
     "traceback": [
      "\u001b[0;31m---------------------------------------------------------------------------\u001b[0m",
      "\u001b[0;31mException\u001b[0m                                 Traceback (most recent call last)",
      "Input \u001b[0;32mIn [1]\u001b[0m, in \u001b[0;36m<module>\u001b[0;34m\u001b[0m\n\u001b[1;32m     11\u001b[0m LOG\u001b[38;5;241m.\u001b[39mpropagate \u001b[38;5;241m=\u001b[39m \u001b[38;5;28;01mFalse\u001b[39;00m\n\u001b[1;32m     12\u001b[0m ble \u001b[38;5;241m=\u001b[39m get_ble_controller()\n\u001b[0;32m---> 13\u001b[0m \u001b[43mble\u001b[49m\u001b[38;5;241;43m.\u001b[39;49m\u001b[43mconnect\u001b[49m\u001b[43m(\u001b[49m\u001b[43m)\u001b[49m\n",
      "File \u001b[0;32m~/Documents/Classes/2022-sp/ECE-4960/ece4960-fast-robots-code/lab07/ble.py:58\u001b[0m, in \u001b[0;36mBaseBLEController.connect\u001b[0;34m(self, max_retries)\u001b[0m\n\u001b[1;32m     55\u001b[0m retry_ctr \u001b[38;5;241m=\u001b[39m \u001b[38;5;241m0\u001b[39m\n\u001b[1;32m     57\u001b[0m \u001b[38;5;28;01mwhile\u001b[39;00m retry_ctr \u001b[38;5;241m<\u001b[39m max_retries:\n\u001b[0;32m---> 58\u001b[0m     success \u001b[38;5;241m=\u001b[39m \u001b[38;5;28;43mself\u001b[39;49m\u001b[38;5;241;43m.\u001b[39;49m\u001b[43m_wait\u001b[49m\u001b[43m(\u001b[49m\u001b[38;5;28;43mself\u001b[39;49m\u001b[38;5;241;43m.\u001b[39;49m\u001b[43mdevice\u001b[49m\u001b[38;5;241;43m.\u001b[39;49m\u001b[43m_connect\u001b[49m\u001b[43m(\u001b[49m\u001b[43m)\u001b[49m\u001b[43m)\u001b[49m\n\u001b[1;32m     59\u001b[0m     \u001b[38;5;28;01mif\u001b[39;00m success:\n\u001b[1;32m     60\u001b[0m         \u001b[38;5;28;01mbreak\u001b[39;00m\n",
      "File \u001b[0;32m~/Documents/Classes/2022-sp/ECE-4960/ece4960-fast-robots-code/lab07/base_ble.py:27\u001b[0m, in \u001b[0;36mwait_b\u001b[0;34m(coroutine)\u001b[0m\n\u001b[1;32m     26\u001b[0m \u001b[38;5;28;01mdef\u001b[39;00m \u001b[38;5;21mwait_b\u001b[39m(coroutine):\n\u001b[0;32m---> 27\u001b[0m     \u001b[38;5;28;01mreturn\u001b[39;00m \u001b[43masyncio\u001b[49m\u001b[38;5;241;43m.\u001b[39;49m\u001b[43mrun\u001b[49m\u001b[43m(\u001b[49m\u001b[43mcoroutine\u001b[49m\u001b[43m)\u001b[49m\n",
      "File \u001b[0;32m~/Documents/Classes/2022-sp/ECE-4960/ece4960-fast-robots-code/venv/lib/python3.9/site-packages/nest_asyncio.py:38\u001b[0m, in \u001b[0;36m_patch_asyncio.<locals>.run\u001b[0;34m(main, debug)\u001b[0m\n\u001b[1;32m     36\u001b[0m task \u001b[38;5;241m=\u001b[39m asyncio\u001b[38;5;241m.\u001b[39mensure_future(main)\n\u001b[1;32m     37\u001b[0m \u001b[38;5;28;01mtry\u001b[39;00m:\n\u001b[0;32m---> 38\u001b[0m     \u001b[38;5;28;01mreturn\u001b[39;00m \u001b[43mloop\u001b[49m\u001b[38;5;241;43m.\u001b[39;49m\u001b[43mrun_until_complete\u001b[49m\u001b[43m(\u001b[49m\u001b[43mtask\u001b[49m\u001b[43m)\u001b[49m\n\u001b[1;32m     39\u001b[0m \u001b[38;5;28;01mfinally\u001b[39;00m:\n\u001b[1;32m     40\u001b[0m     \u001b[38;5;28;01mif\u001b[39;00m \u001b[38;5;129;01mnot\u001b[39;00m task\u001b[38;5;241m.\u001b[39mdone():\n",
      "File \u001b[0;32m~/Documents/Classes/2022-sp/ECE-4960/ece4960-fast-robots-code/venv/lib/python3.9/site-packages/nest_asyncio.py:81\u001b[0m, in \u001b[0;36m_patch_loop.<locals>.run_until_complete\u001b[0;34m(self, future)\u001b[0m\n\u001b[1;32m     78\u001b[0m \u001b[38;5;28;01mif\u001b[39;00m \u001b[38;5;129;01mnot\u001b[39;00m f\u001b[38;5;241m.\u001b[39mdone():\n\u001b[1;32m     79\u001b[0m     \u001b[38;5;28;01mraise\u001b[39;00m \u001b[38;5;167;01mRuntimeError\u001b[39;00m(\n\u001b[1;32m     80\u001b[0m         \u001b[38;5;124m'\u001b[39m\u001b[38;5;124mEvent loop stopped before Future completed.\u001b[39m\u001b[38;5;124m'\u001b[39m)\n\u001b[0;32m---> 81\u001b[0m \u001b[38;5;28;01mreturn\u001b[39;00m \u001b[43mf\u001b[49m\u001b[38;5;241;43m.\u001b[39;49m\u001b[43mresult\u001b[49m\u001b[43m(\u001b[49m\u001b[43m)\u001b[49m\n",
      "File \u001b[0;32m/Library/Frameworks/Python.framework/Versions/3.9/lib/python3.9/asyncio/futures.py:201\u001b[0m, in \u001b[0;36mFuture.result\u001b[0;34m(self)\u001b[0m\n\u001b[1;32m    199\u001b[0m \u001b[38;5;28mself\u001b[39m\u001b[38;5;241m.\u001b[39m__log_traceback \u001b[38;5;241m=\u001b[39m \u001b[38;5;28;01mFalse\u001b[39;00m\n\u001b[1;32m    200\u001b[0m \u001b[38;5;28;01mif\u001b[39;00m \u001b[38;5;28mself\u001b[39m\u001b[38;5;241m.\u001b[39m_exception \u001b[38;5;129;01mis\u001b[39;00m \u001b[38;5;129;01mnot\u001b[39;00m \u001b[38;5;28;01mNone\u001b[39;00m:\n\u001b[0;32m--> 201\u001b[0m     \u001b[38;5;28;01mraise\u001b[39;00m \u001b[38;5;28mself\u001b[39m\u001b[38;5;241m.\u001b[39m_exception\n\u001b[1;32m    202\u001b[0m \u001b[38;5;28;01mreturn\u001b[39;00m \u001b[38;5;28mself\u001b[39m\u001b[38;5;241m.\u001b[39m_result\n",
      "File \u001b[0;32m/Library/Frameworks/Python.framework/Versions/3.9/lib/python3.9/asyncio/tasks.py:256\u001b[0m, in \u001b[0;36mTask.__step\u001b[0;34m(***failed resolving arguments***)\u001b[0m\n\u001b[1;32m    252\u001b[0m \u001b[38;5;28;01mtry\u001b[39;00m:\n\u001b[1;32m    253\u001b[0m     \u001b[38;5;28;01mif\u001b[39;00m exc \u001b[38;5;129;01mis\u001b[39;00m \u001b[38;5;28;01mNone\u001b[39;00m:\n\u001b[1;32m    254\u001b[0m         \u001b[38;5;66;03m# We use the `send` method directly, because coroutines\u001b[39;00m\n\u001b[1;32m    255\u001b[0m         \u001b[38;5;66;03m# don't have `__iter__` and `__next__` methods.\u001b[39;00m\n\u001b[0;32m--> 256\u001b[0m         result \u001b[38;5;241m=\u001b[39m \u001b[43mcoro\u001b[49m\u001b[38;5;241;43m.\u001b[39;49m\u001b[43msend\u001b[49m\u001b[43m(\u001b[49m\u001b[38;5;28;43;01mNone\u001b[39;49;00m\u001b[43m)\u001b[49m\n\u001b[1;32m    257\u001b[0m     \u001b[38;5;28;01melse\u001b[39;00m:\n\u001b[1;32m    258\u001b[0m         result \u001b[38;5;241m=\u001b[39m coro\u001b[38;5;241m.\u001b[39mthrow(exc)\n",
      "File \u001b[0;32m~/Documents/Classes/2022-sp/ECE-4960/ece4960-fast-robots-code/lab07/base_ble.py:77\u001b[0m, in \u001b[0;36mBLEAsyncDevice._connect\u001b[0;34m(self)\u001b[0m\n\u001b[1;32m     75\u001b[0m LOG\u001b[38;5;241m.\u001b[39minfo(\u001b[38;5;124m'\u001b[39m\u001b[38;5;124mLooking for Artemis Nano Peripheral Device: \u001b[39m\u001b[38;5;132;01m{}\u001b[39;00m\u001b[38;5;124m'\u001b[39m\u001b[38;5;241m.\u001b[39mformat(\u001b[38;5;28mself\u001b[39m\u001b[38;5;241m.\u001b[39maddress))\n\u001b[1;32m     76\u001b[0m success \u001b[38;5;241m=\u001b[39m \u001b[38;5;28;01mFalse\u001b[39;00m\n\u001b[0;32m---> 77\u001b[0m device \u001b[38;5;241m=\u001b[39m \u001b[38;5;28;01mawait\u001b[39;00m \u001b[38;5;28mself\u001b[39m\u001b[38;5;241m.\u001b[39m_get_ble_device()\n\u001b[1;32m     78\u001b[0m \u001b[38;5;28mself\u001b[39m\u001b[38;5;241m.\u001b[39mclient \u001b[38;5;241m=\u001b[39m BleakClient(device)\n\u001b[1;32m     79\u001b[0m \u001b[38;5;28;01mtry\u001b[39;00m:\n",
      "File \u001b[0;32m~/Documents/Classes/2022-sp/ECE-4960/ece4960-fast-robots-code/lab07/base_ble.py:64\u001b[0m, in \u001b[0;36mBLEAsyncDevice._get_ble_device\u001b[0;34m(self, timeout)\u001b[0m\n\u001b[1;32m     61\u001b[0m             \u001b[38;5;28;01mbreak\u001b[39;00m\n\u001b[1;32m     63\u001b[0m \u001b[38;5;28;01mif\u001b[39;00m device \u001b[38;5;241m==\u001b[39m \u001b[38;5;28;01mNone\u001b[39;00m:\n\u001b[0;32m---> 64\u001b[0m     \u001b[38;5;28;01mraise\u001b[39;00m \u001b[38;5;167;01mException\u001b[39;00m(\u001b[38;5;124m'\u001b[39m\u001b[38;5;124mCould not find device with address: \u001b[39m\u001b[38;5;132;01m{}\u001b[39;00m\u001b[38;5;124m and service uuid: \u001b[39m\u001b[38;5;132;01m{}\u001b[39;00m\u001b[38;5;124m'\u001b[39m\u001b[38;5;241m.\u001b[39mformat(\u001b[38;5;28mself\u001b[39m\u001b[38;5;241m.\u001b[39maddress, \u001b[38;5;28mself\u001b[39m\u001b[38;5;241m.\u001b[39mservice_uuid))\n\u001b[1;32m     65\u001b[0m \u001b[38;5;28;01melse\u001b[39;00m:\n\u001b[1;32m     66\u001b[0m     \u001b[38;5;28;01mreturn\u001b[39;00m device\n",
      "\u001b[0;31mException\u001b[0m: Could not find device with address: C0:07:21:8D:B3:44 and service uuid: 9a48ecba-2e92-082f-c079-9e75aae428b1"
     ]
    }
   ],
   "source": [
    "%load_ext autoreload\n",
    "%autoreload 2\n",
    "\n",
    "from ble import get_ble_controller\n",
    "from base_ble import LOG\n",
    "from cmd_types import CMD\n",
    "import time\n",
    "import numpy as np\n",
    "import matplotlib.pyplot as plt\n",
    "\n",
    "LOG.propagate = False\n",
    "ble = get_ble_controller()\n",
    "ble.connect()"
   ]
  },
  {
   "cell_type": "markdown",
   "metadata": {},
   "source": [
    "### Define Robot Controller Class"
   ]
  },
  {
   "cell_type": "code",
   "execution_count": null,
   "metadata": {},
   "outputs": [],
   "source": [
    "class RobotControl():\n",
    "    # Initialize Function\n",
    "    def __init__(self, ble):\n",
    "        self.ble = ble\n",
    "        self.notifiers_on = False\n",
    "        self.TOF_HISTORY_LEN = 60\n",
    "        self.IMU_HISTORY_LEN = 300\n",
    "\n",
    "        # A variable to store the latest sensor value\n",
    "        self.latest_tof_front_reading = None\n",
    "        \n",
    "        # A list to store the history of all the sensor values\n",
    "        # Each item in the list is a tuple (value, time)\n",
    "        # WARNING: The list could grow really fast; you need to deal with this accordingly.\n",
    "        self.tof1_readings = [] # TODO change these to a bounded queue\n",
    "        self.tof2_readings = []\n",
    "        self.imu_readings = []\n",
    "        self.bot_pid_debug = []\n",
    "        \n",
    "        # A variable to store the latest imu reading\n",
    "        self.latest_imu_reading = None\n",
    "        \n",
    "        # Activate notifications (if required)\n",
    "        self.setup_notify()\n",
    "    \n",
    "    # A function to activate various notifications (if required)\n",
    "    def setup_notify(self):\n",
    "        # Code to setup various notify events\n",
    "        # Ex:\n",
    "        ble.start_notify(ble.uuid['RX_TOF1'], self.tof1_callback_handler)\n",
    "        ble.start_notify(ble.uuid['RX_TOF2'], self.tof2_callback_handler)\n",
    "        ble.start_notify(ble.uuid['RX_IMU'], self.imu_callback_handler)\n",
    "        ble.start_notify(ble.uuid['RX_MOTOR_PID'], self.motor_pid_callback_handler)\n",
    "        self.notifiers_on = True\n",
    "\n",
    "    def stop_notify(self):\n",
    "        ble.stop_notify(ble.uuid['RX_TOF1'])\n",
    "        ble.stop_notify(ble.uuid['RX_TOF2'])\n",
    "        ble.stop_notify(ble.uuid['RX_IMU'])\n",
    "        ble.stop_notify(ble.uuid['RX_MOTOR_PID'])\n",
    "        self.notifiers_on = False\n",
    "    \n",
    "    def tof1_callback_handler(self, uuid, byte_array):\n",
    "        self.tof1_readings.append( self.ble.bytearray_to_float(byte_array) )\n",
    "\n",
    "    def tof2_callback_handler(self, uuid, byte_array):\n",
    "        self.tof2_readings.append( ( self.ble.bytearray_to_float(byte_array), time.time() ) )\n",
    "    \n",
    "    def imu_callback_handler(self, uuid, byte_array):\n",
    "        self.imu_readings.append( (self.ble.bytearray_to_string(byte_array), time.time()) )\n",
    "\n",
    "    def motor_pid_callback_handler(self, uuid, byte_array):\n",
    "        self.bot_pid_debug.append( self.ble.bytearray_to_float(byte_array) )\n",
    "\n",
    "    # An example function to fetch the front TOF sensor reading\n",
    "    # Here we assume RX_TOF1 is a valid UUID defined in connection.yaml and\n",
    "    # in the Arduino code as well\n",
    "    def get_front_tof(self):\n",
    "        ble.send_command(CMD.GET_FRONT_TOF, None)\n",
    "        return self.tof1_readings[-1]\n",
    "\n",
    "    \n",
    "    # An example function to fetch the IMU readings as a string\n",
    "    # Here we assume RX_IMU is a valid UUID defined in connection.yaml and\n",
    "    # in the Arduino code as wellt\n",
    "    # def get_imu(self):\n",
    "    #     self.latest_imu_reading = self.ble.receive_string(self.ble.uuid['RX_IMU'])\n",
    "    #     pass\n",
    "    \n",
    "    def start_pid(self, setpoint):\n",
    "        ble.send_command(CMD.START_PID, setpoint)\n",
    "\n",
    "    def stop_pid(self):\n",
    "        ble.send_command(CMD.STOP_PID, None)\n",
    "\n",
    "    # A function to instruct the robot to move forward\n",
    "    def move_forward(self, speed):\n",
    "        ble.send_command(CMD.MOVE_FORWARD, speed)\n",
    "    \n",
    "    def set_motor_calibration(self, new_val):\n",
    "        ble.send_command(CMD.SET_MOTOR_CALIB, new_val)\n",
    "    \n",
    "    # A function to stop robot motion\n",
    "    def stop(self):\n",
    "        ble.send_command(CMD.STOP, None)\n",
    "\n",
    "    def start_data_collection(self):\n",
    "        ble.send_command(CMD.START_DATA_COLLECTION, None)\n",
    "    \n",
    "    def stop_data_collection(self):\n",
    "        temp_notif = self.notifiers_on\n",
    "        if not temp_notif:\n",
    "            self.setup_notify()\n",
    "        ble.send_command(CMD.STOP_DATA_COLLECTION, None)\n",
    "        for i in range(self.TOF_HISTORY_LEN):\n",
    "            ble.send_command(CMD.GET_TOF1_DATA, i)\n",
    "            ble.send_command(CMD.GET_PID_DATA, i)\n",
    "        if not temp_notif:\n",
    "            self.stop_notify()\n",
    "\n",
    "    \"\"\"\n",
    "    Step response, but hard break at step_stop\n",
    "    \"\"\"\n",
    "    def start_step_response(self, step_stop):\n",
    "        ble.send_command(CMD.START_STEP_RESPONSE, step_stop)\n",
    "    \n",
    "    def stop_step_response(self):\n",
    "        ble.send_command(CMD.STOP_STEP_RESPONSE, None)\n",
    "\n"
   ]
  },
  {
   "cell_type": "markdown",
   "metadata": {},
   "source": [
    "### Run PID"
   ]
  },
  {
   "cell_type": "code",
   "execution_count": null,
   "metadata": {},
   "outputs": [
    {
     "name": "stdout",
     "output_type": "stream",
     "text": [
      "motor_raw = [0.0, 32583.0, 141.0, 32678.0, 141.0, 32777.0, 141.0, 32886.0, 141.0, 32999.0, 141.0, 33098.0, 141.0, 33198.0, 141.0, 33305.0, 141.0, 33400.0, 141.0, 33505.0, 141.0, 33609.0, 141.0, 33714.0, 141.0, 33817.0, 141.0, 33922.0, 141.0, 34024.0, 141.0, 34130.0, 141.0, 34233.0, 141.0, 34339.0, 0.0, 34435.0, 0.0, 34541.0, 141.0, 34639.0, 141.0, 34736.0, 141.0, 34800.0, 141.0, 34867.0, 141.0, 34974.0, 141.0, 35071.0, 141.0, 35179.0, 141.0, 35282.0, 141.0, 35388.0, 141.0, 35501.0, 141.0, 35599.0, 141.0, 35708.0, 141.0, 35803.0, 0.0, 35915.0, 0.0, 0.0, 0.0, 0.0, 0.0, 0.0, 0.0, 0.0, 0.0, 0.0, 0.0, 0.0, 0.0, 0.0, 0.0, 0.0, 0.0, 0.0, 0.0, 0.0, 0.0, 0.0, 0.0, 0.0, 0.0, 0.0, 0.0, 0.0, 0.0, 0.0, 0.0, 0.0, 0.0, 0.0, 0.0, 0.0, 0.0, 0.0, 0.0, 0.0, 0.0, 0.0, 0.0, 0.0, 0.0, 0.0, 0.0, 0.0, 0.0, 0.0, 0.0, 0.0]\n",
      "tof_raw = [353.0, 32583.0, 3682.0, 32678.0, 4079.0, 32777.0, 3875.0, 32886.0, 3847.0, 32999.0, 3678.0, 33098.0, 810.0, 33198.0, 3349.0, 33305.0, 2761.0, 33400.0, 2799.0, 33505.0, 2587.0, 33609.0, 2317.0, 33714.0, 2051.0, 33817.0, 1776.0, 33922.0, 1478.0, 34024.0, 1147.0, 34130.0, 815.0, 34233.0, 467.0, 34339.0, 104.0, 34435.0, 227.0, 34541.0, 1712.0, 34639.0, 2084.0, 34736.0, 3952.0, 34800.0, 1647.0, 34867.0, 1812.0, 34974.0, 1796.0, 35071.0, 1676.0, 35179.0, 1527.0, 35282.0, 1340.0, 35388.0, 1118.0, 35501.0, 929.0, 35599.0, 734.0, 35708.0, 535.0, 35803.0, 291.0, 35915.0, 0.0, 0.0, 0.0, 0.0, 0.0, 0.0, 0.0, 0.0, 0.0, 0.0, 0.0, 0.0, 0.0, 0.0, 0.0, 0.0, 0.0, 0.0, 0.0, 0.0, 0.0, 0.0, 0.0, 0.0, 0.0, 0.0, 0.0, 0.0, 0.0, 0.0, 0.0, 0.0, 0.0, 0.0, 0.0, 0.0, 0.0, 0.0, 0.0, 0.0, 0.0, 0.0, 0.0, 0.0, 0.0, 0.0, 0.0, 0.0, 0.0, 0.0, 0.0, 0.0]\n"
     ]
    }
   ],
   "source": [
    "bot = RobotControl(ble)\n",
    "bot.stop_notify()\n",
    "bot.set_motor_calibration(1.8)\n",
    "bot.start_data_collection()\n",
    "bot.start_step_response(400)\n",
    "# bot.start_pid(0.035) # OLD: 0.05\n",
    "time.sleep(2.5)\n",
    "bot.stop_step_response()\n",
    "bot.stop()\n",
    "bot.stop_data_collection()\n",
    "\n",
    "\n",
    "print(f\"motor_raw = {bot.bot_pid_debug}\")\n",
    "print(f\"tof_raw = {bot.tof1_readings}\")"
   ]
  },
  {
   "cell_type": "markdown",
   "metadata": {},
   "source": [
    "### Visualize"
   ]
  },
  {
   "cell_type": "code",
   "execution_count": null,
   "metadata": {},
   "outputs": [
    {
     "name": "stdout",
     "output_type": "stream",
     "text": [
      "67\n",
      "34 data points\n"
     ]
    }
   ],
   "source": [
    "tof_times = []\n",
    "tof_vals = []\n",
    "pid_vals = []\n",
    "pid_times = []\n",
    "\n",
    "last_data_point = 0\n",
    "for i in reversed(range(len(bot.tof1_readings))):\n",
    "  if i % 2 == 0: continue\n",
    "  if bot.tof1_readings[i] == 0: continue\n",
    "  last_data_point = i\n",
    "  break\n",
    "print(last_data_point)\n",
    "# Manual override in case of crash\n",
    "# last_data_point = 99\n",
    "for i,val in enumerate(bot.tof1_readings[:last_data_point+1]):\n",
    "  if i % 2 == 0:\n",
    "    tof_vals.append(val) # Even index, so this is a distance\n",
    "  else:\n",
    "    tof_times.append(val)\n",
    "\n",
    "for i,val in enumerate(bot.bot_pid_debug[:last_data_point+1]):\n",
    "  if i % 2 == 0:\n",
    "    pid_vals.append(val) # Even index, so this is a distance\n",
    "  else:\n",
    "    pid_times.append(val)\n",
    "\n",
    "tof_times = [(x - tof_times[0]) / 1000 for x in tof_times]\n",
    "tof_vals = [x / 1000 for x in tof_vals]\n",
    "pid_times = [(x - pid_times[0]) / 1000 for x in pid_times]\n",
    "print(f\"{len(tof_times)} data points\")"
   ]
  },
  {
   "cell_type": "markdown",
   "metadata": {},
   "source": [
    "### Time of Flight Reading vs Time"
   ]
  },
  {
   "cell_type": "code",
   "execution_count": null,
   "metadata": {},
   "outputs": [
    {
     "data": {
      "text/plain": [
       "Text(0.5, 1.0, 'ToF Distance vs Time')"
      ]
     },
     "execution_count": 7,
     "metadata": {},
     "output_type": "execute_result"
    },
    {
     "data": {
      "image/png": "[encoded data removed]",
      "text/plain": [
       "<Figure size 432x288 with 1 Axes>"
      ]
     },
     "metadata": {
      "needs_background": "light"
     },
     "output_type": "display_data"
    }
   ],
   "source": [
    "plt.plot(tof_times, tof_vals)\n",
    "plt.xlabel(\"Time [s]\")\n",
    "plt.ylabel(\"ToF Distance [m]\")\n",
    "plt.title(\"ToF Distance vs Time\")"
   ]
  },
  {
   "cell_type": "markdown",
   "metadata": {},
   "source": [
    "### Velocity vs Time"
   ]
  },
  {
   "cell_type": "code",
   "execution_count": null,
   "metadata": {},
   "outputs": [
    {
     "name": "stdout",
     "output_type": "stream",
     "text": [
      "Max Velocity: 34.402985074627004\n"
     ]
    },
    {
     "data": {
      "text/plain": [
       "(0.0, 5.0)"
      ]
     },
     "execution_count": 8,
     "metadata": {},
     "output_type": "execute_result"
    },
    {
     "data": {
      "image/png": "[encoded data removed]",
      "text/plain": [
       "<Figure size 432x288 with 1 Axes>"
      ]
     },
     "metadata": {
      "needs_background": "light"
     },
     "output_type": "display_data"
    }
   ],
   "source": [
    "# Positive velocity means towards the wall\n",
    "tof_dx = np.diff(tof_vals)\n",
    "tof_dt = np.diff(tof_times)\n",
    "tof_vel = tof_dx / tof_dt\n",
    "print(f\"Max Velocity: {-1 * min(tof_vel)}\")\n",
    "plt.plot(tof_times[:-1], -1 * tof_vel)\n",
    "plt.title(\"TOF-computed Velocity vs Time\")\n",
    "plt.xlabel(\"Time [s]\")\n",
    "plt.ylabel(\"Velocity [m/s]\")\n",
    "plt.ylim(0,5)\n",
    "# TODO filter this somehow, noisy values make the graph look bad but your ToF distance graph makes sense\n",
    "# There's a steady state in here somewhere, just filter it! It should be between 1.25 and 1.50 m/s, roughly"
   ]
  },
  {
   "cell_type": "markdown",
   "metadata": {},
   "source": [
    "### PID Input vs Time"
   ]
  },
  {
   "cell_type": "code",
   "execution_count": null,
   "metadata": {},
   "outputs": [
    {
     "data": {
      "text/plain": [
       "Text(0.5, 1.0, 'PID input vs Time')"
      ]
     },
     "execution_count": 9,
     "metadata": {},
     "output_type": "execute_result"
    },
    {
     "data": {
      "image/png": "[encoded data removed]",
      "text/plain": [
       "<Figure size 432x288 with 1 Axes>"
      ]
     },
     "metadata": {
      "needs_background": "light"
     },
     "output_type": "display_data"
    }
   ],
   "source": [
    "plt.plot(pid_times, pid_vals)\n",
    "plt.xlabel(\"Time [s]\")\n",
    "plt.ylabel(\"Motor Input Power\")\n",
    "plt.title(\"PID input vs Time\")"
   ]
  },
  {
   "cell_type": "markdown",
   "metadata": {},
   "source": [
    "## Run Kalman Filter"
   ]
  },
  {
   "cell_type": "code",
   "execution_count": null,
   "metadata": {},
   "outputs": [
    {
     "ename": "IndexError",
     "evalue": "list index out of range",
     "output_type": "error",
     "traceback": [
      "\u001b[0;31m---------------------------------------------------------------------------\u001b[0m",
      "\u001b[0;31mIndexError\u001b[0m                                Traceback (most recent call last)",
      "Input \u001b[0;32mIn [10]\u001b[0m, in \u001b[0;36m<module>\u001b[0;34m\u001b[0m\n\u001b[1;32m     13\u001b[0m Sigma_z \u001b[38;5;241m=\u001b[39m np\u001b[38;5;241m.\u001b[39marray([[sigma_4\u001b[38;5;241m*\u001b[39m\u001b[38;5;241m*\u001b[39m\u001b[38;5;241m2\u001b[39m]])\n\u001b[1;32m     14\u001b[0m C \u001b[38;5;241m=\u001b[39m np\u001b[38;5;241m.\u001b[39marray([[\u001b[38;5;241m-\u001b[39m\u001b[38;5;241m1\u001b[39m,\u001b[38;5;241m0\u001b[39m]]) \u001b[38;5;66;03m# Measurement is -1 * (distance to wall)\u001b[39;00m\n\u001b[0;32m---> 16\u001b[0m x \u001b[38;5;241m=\u001b[39m np\u001b[38;5;241m.\u001b[39marray([[\u001b[38;5;241m-\u001b[39m\u001b[38;5;241m1\u001b[39m \u001b[38;5;241m*\u001b[39m \u001b[43mkf_tof\u001b[49m\u001b[43m[\u001b[49m\u001b[38;5;241;43m0\u001b[39;49m\u001b[43m]\u001b[49m],[\u001b[38;5;241m0\u001b[39m]]) \u001b[38;5;66;03m# TODO initial state\u001b[39;00m\n\u001b[1;32m     18\u001b[0m A \u001b[38;5;241m=\u001b[39m \u001b[38;5;28;01mNone\u001b[39;00m \u001b[38;5;66;03m# TODO compute A and B\u001b[39;00m\n\u001b[1;32m     19\u001b[0m B \u001b[38;5;241m=\u001b[39m \u001b[38;5;28;01mNone\u001b[39;00m\n",
      "\u001b[0;31mIndexError\u001b[0m: list index out of range"
     ]
    },
    {
     "name": "stdout",
     "output_type": "stream",
     "text": [
      "2022-03-20 17:26:55,637 |\u001b[32m INFO     \u001b[0m|: Disconnected from 7AE0A3CC-63D5-13D9-39BA-D29A7DC67D14\n"
     ]
    }
   ],
   "source": [
    "# data\n",
    "kf_tof = []\n",
    "kf_times = []\n",
    "\n",
    "# TODO fill in parameters\n",
    "sigma_1 = 0.1\n",
    "sigma_2 = 0.1\n",
    "sigma_4 = 0.1 # Measurement noise\n",
    "n = 1 # state space dimension\n",
    "dt = None\n",
    "\n",
    "Sigma_u = np.array([[sigma_1**2,0],[0,sigma_2**2]]) # We assume uncorrelated noise, therefore a diagonal matrix works.\n",
    "Sigma_z = np.array([[sigma_4**2]])\n",
    "C = np.array([[-1,0]]) # Measurement is -1 * (distance to wall)\n",
    "\n",
    "x = np.array([[-1 * kf_tof[0]],[0]]) # TODO initial state\n",
    "\n",
    "A = None # TODO compute A and B\n",
    "B = None\n",
    "Ad = np.eye(n) + dt * A \n",
    "Bd = dt * B\n",
    "\n",
    "def kf(mu,sigma,u,y):\n",
    "    \n",
    "    mu_p = A.dot(mu) + B.dot(u) \n",
    "    sigma_p = A.dot(sigma.dot(A.transpose())) + Sigma_u\n",
    "    \n",
    "    y_m = y-C.dot(mu_p)\n",
    "    sigma_m = C.dot(sigma_p.dot(C.transpose())) + Sigma_z\n",
    "    kkf_gain = sigma_p.dot(C.transpose().dot(np.linalg.inv(sigma_m)))\n",
    "\n",
    "    mu = mu_p + kkf_gain.dot(y_m)    \n",
    "    sigma=(np.eye(3)-kkf_gain.dot(C)).dot(sigma_p)\n",
    "\n",
    "    return mu,sigma\n",
    "\n"
   ]
  }
 ],
 "metadata": {
  "interpreter": {
   "hash": "c92a079c0bb7fb2cb166ddd5a6b27da4a5137dff8bdf590f4a10d0d53cdddbd5"
  },
  "kernelspec": {
   "display_name": "Python 3.9.10 ('venv': venv)",
   "language": "python",
   "name": "python3"
  },
  "language_info": {
   "codemirror_mode": {
    "name": "ipython",
    "version": 3
   },
   "file_extension": ".py",
   "mimetype": "text/x-python",
   "name": "python",
   "nbconvert_exporter": "python",
   "pygments_lexer": "ipython3",
   "version": "3.9.10"
  },
  "orig_nbformat": 4
 },
 "nbformat": 4,
 "nbformat_minor": 2
}
