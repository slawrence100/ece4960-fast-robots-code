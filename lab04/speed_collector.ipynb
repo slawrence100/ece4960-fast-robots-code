{
 "cells": [
  {
   "cell_type": "markdown",
   "metadata": {},
   "source": [
    "# Speed Data Collection"
   ]
  },
  {
   "cell_type": "markdown",
   "metadata": {},
   "source": [
    "## Setup"
   ]
  },
  {
   "cell_type": "code",
   "execution_count": 139,
   "metadata": {},
   "outputs": [
    {
     "name": "stdout",
     "output_type": "stream",
     "text": [
      "The autoreload extension is already loaded. To reload it, use:\n",
      "  %reload_ext autoreload\n",
      "2022-02-17 21:58:09,973 |\u001b[32m INFO     \u001b[0m|: Already connected to a BLE device\n"
     ]
    }
   ],
   "source": [
    "%load_ext autoreload\n",
    "%autoreload 2\n",
    "\n",
    "from ble import get_ble_controller\n",
    "from base_ble import LOG\n",
    "from cmd_types import CMD\n",
    "import time\n",
    "import numpy as np\n",
    "import matplotlib.pyplot as plt\n",
    "LOG.propagate = False\n",
    "\n",
    "# Get ArtemisBLEController object\n",
    "ble = get_ble_controller()\n",
    "\n",
    "# Connect to the Artemis Device\n",
    "ble.connect()"
   ]
  },
  {
   "cell_type": "markdown",
   "metadata": {},
   "source": [
    "## Get the Serial Monitor for data collection stuff"
   ]
  },
  {
   "cell_type": "code",
   "execution_count": 140,
   "metadata": {},
   "outputs": [
    {
     "name": "stdout",
     "output_type": "stream",
     "text": [
      "[bytearray(b'556317:3313'), bytearray(b'556411:3313'), bytearray(b'556509:3322'), bytearray(b'556606:3307'), bytearray(b'556711:3317'), bytearray(b'556807:3323'), bytearray(b'556913:3306'), bytearray(b'557007:3324'), bytearray(b'557113:3256'), bytearray(b'557207:2672'), bytearray(b'557304:1844'), bytearray(b'557410:1364'), bytearray(b'557504:874'), bytearray(b'557610:506'), bytearray(b'557704:422'), bytearray(b'557812:447'), bytearray(b'557906:715'), bytearray(b'558010:710'), bytearray(b'558103:848'), bytearray(b'558207:794'), bytearray(b'558300:788'), bytearray(b'558404:782'), bytearray(b'558497:784'), bytearray(b'558604:786'), bytearray(b'558700:787'), bytearray(b'558804:783'), bytearray(b'558900:787'), bytearray(b'559004:782'), bytearray(b'559100:782'), bytearray(b'559204:780')]\n"
     ]
    }
   ],
   "source": [
    "data = []\n",
    "\n",
    "# Record received float notifications \n",
    "def handle_recv_str(uuid, val):\n",
    "  global data\n",
    "  data.append(val)\n",
    "\n",
    "ble.start_notify(ble.uuid['RX_STRING'], handle_recv_str)\n",
    "\n",
    "# Wait for three seconds before stopping notifications\n",
    "# to avoid flooding the notebook output\n",
    "time.sleep(3)\n",
    "ble.stop_notify(ble.uuid['RX_STRING'])\n",
    "print(data)\n"
   ]
  },
  {
   "cell_type": "code",
   "execution_count": 141,
   "metadata": {},
   "outputs": [
    {
     "name": "stdout",
     "output_type": "stream",
     "text": [
      "Time (ms): [556317, 556411, 556509, 556606, 556711, 556807, 556913, 557007, 557113, 557207, 557304, 557410, 557504, 557610, 557704, 557812, 557906, 558010, 558103, 558207, 558300, 558404, 558497, 558604, 558700, 558804, 558900, 559004, 559100, 559204]\n",
      "Distance (mm): [3313, 3313, 3322, 3307, 3317, 3323, 3306, 3324, 3256, 2672, 1844, 1364, 874, 506, 422, 447, 715, 710, 848, 794, 788, 782, 784, 786, 787, 783, 787, 782, 782, 780]\n"
     ]
    }
   ],
   "source": [
    "new_data = [n.decode() for n in data]\n",
    "times = []\n",
    "distances = []\n",
    "for d in new_data:\n",
    "  s = d.split(\":\")\n",
    "  times.append(int(s[0]))\n",
    "  distances.append(int(s[1]))\n",
    "\n",
    "print(f\"Time (ms): {times}\")\n",
    "print(f\"Distance (mm): {distances}\")\n"
   ]
  },
  {
   "cell_type": "markdown",
   "metadata": {},
   "source": [
    "## Plots"
   ]
  },
  {
   "cell_type": "markdown",
   "metadata": {},
   "source": [
    "### Position vs Time"
   ]
  },
  {
   "cell_type": "code",
   "execution_count": 142,
   "metadata": {},
   "outputs": [
    {
     "data": {
      "text/plain": [
       "Text(0, 0.5, 'Distance from wall, mm')"
      ]
     },
     "execution_count": 142,
     "metadata": {},
     "output_type": "execute_result"
    },
    {
     "data": {
      "image/png": "[encoded data removed]",
      "text/plain": [
       "<Figure size 432x288 with 1 Axes>"
      ]
     },
     "metadata": {
      "needs_background": "light"
     },
     "output_type": "display_data"
    },
    {
     "name": "stdout",
     "output_type": "stream",
     "text": [
      "2022-02-17 22:01:45,735 |\u001b[32m INFO     \u001b[0m|: Disconnected from 7AE0A3CC-63D5-13D9-39BA-D29A7DC67D14\n"
     ]
    }
   ],
   "source": [
    "plt.plot(times, distances)\n",
    "plt.title(\"Car position vs time\")\n",
    "plt.xlabel(\"Time (mm)\")\n",
    "plt.ylabel(\"Distance from wall, mm\")"
   ]
  }
 ],
 "metadata": {
  "interpreter": {
   "hash": "feebae980b510c01681d62b7e50a9cb8dad3f45f58ebdfbf9a9c0b7f7c41403b"
  },
  "kernelspec": {
   "display_name": "Python 3.9.10 ('venv': venv)",
   "language": "python",
   "name": "python3"
  },
  "language_info": {
   "codemirror_mode": {
    "name": "ipython",
    "version": 3
   },
   "file_extension": ".py",
   "mimetype": "text/x-python",
   "name": "python",
   "nbconvert_exporter": "python",
   "pygments_lexer": "ipython3",
   "version": "3.9.10"
  },
  "orig_nbformat": 4
 },
 "nbformat": 4,
 "nbformat_minor": 2
}
