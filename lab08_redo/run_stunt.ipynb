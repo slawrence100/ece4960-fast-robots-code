{
 "cells": [
  {
   "cell_type": "markdown",
   "metadata": {},
   "source": [
    "## Execute Task A Stunt"
   ]
  },
  {
   "cell_type": "markdown",
   "metadata": {},
   "source": [
    "### Setup and Connect"
   ]
  },
  {
   "cell_type": "code",
   "execution_count": 1,
   "metadata": {},
   "outputs": [],
   "source": [
    "%load_ext autoreload\n",
    "%autoreload 2\n",
    "\n",
    "from ble import get_ble_controller\n",
    "from base_ble import LOG\n",
    "from cmd_types import CMD\n",
    "import time\n",
    "import numpy as np\n",
    "import matplotlib.pyplot as plt\n",
    "\n",
    "class RobotControl():\n",
    "    # Initialize Function\n",
    "    def __init__(self, ble):\n",
    "        self.ble = ble\n",
    "        self.notifiers_on = False\n",
    "        self.TOF_HISTORY_LEN = 60\n",
    "        self.IMU_HISTORY_LEN = 300\n",
    "        self.calibration_factor = 0\n",
    "\n",
    "        # A variable to store the latest sensor value\n",
    "        self.latest_tof_front_reading = None\n",
    "        \n",
    "        # A list to store the history of all the sensor values\n",
    "        # Each item in the list is a tuple (value, time)\n",
    "        # WARNING: The list could grow really fast; you need to deal with this accordingly.\n",
    "        self.tof1_readings = []\n",
    "        self.imu_readings = []\n",
    "        self.bot_pid_debug = []\n",
    "        \n",
    "        # A variable to store the latest imu reading\n",
    "        self.latest_imu_reading = None\n",
    "        \n",
    "        # Activate notifications (if required)\n",
    "        self.setup_notify()\n",
    "    \n",
    "    # A function to activate various notifications (if required)\n",
    "    def setup_notify(self):\n",
    "        ble.start_notify(ble.uuid['RX_TOF1'], self.tof1_callback_handler)\n",
    "        ble.start_notify(ble.uuid['RX_IMU_PITCH'], self.imu_pitch_callback_handler)\n",
    "        ble.start_notify(ble.uuid['RX_MOTOR_PID'], self.motor_pid_callback_handler)\n",
    "        self.notifiers_on = True\n",
    "\n",
    "    def stop_notify(self):\n",
    "        ble.stop_notify(ble.uuid['RX_TOF1'])\n",
    "        ble.stop_notify(ble.uuid['RX_IMU_PITCH'])\n",
    "        ble.stop_notify(ble.uuid['RX_MOTOR_PID'])\n",
    "        self.notifiers_on = False\n",
    "    \n",
    "    def tof1_callback_handler(self, uuid, byte_array):\n",
    "        self.tof1_readings.append( self.ble.bytearray_to_float(byte_array) )\n",
    "    \n",
    "    def imu_pitch_callback_handler(self, uuid, byte_array):\n",
    "        self.imu_readings.append( self.ble.bytearray_to_float(byte_array) )\n",
    "\n",
    "    def motor_pid_callback_handler(self, uuid, byte_array):\n",
    "        self.bot_pid_debug.append( self.ble.bytearray_to_float(byte_array) )\n",
    "\n",
    "    def move_forward(self, speed):\n",
    "        ble.send_command(CMD.MOVE_FORWARD, speed)\n",
    "    \n",
    "    def move_backward(self, speed):\n",
    "        ble.send_command(CMD.MOVE_BACKWARD, speed)\n",
    "\n",
    "    def tof1_callback_handler(self, uuid, byte_array):\n",
    "        new_tof = self.ble.bytearray_to_float(byte_array)\n",
    "        # print(f\"Got TOF data: {new_tof}\")\n",
    "        self.tof1_readings.append(new_tof)\n",
    "\n",
    "    def imu_pitch_callback_handler(self, uuid, byte_array):\n",
    "        new_angle = self.ble.bytearray_to_float(byte_array)\n",
    "        # print(f\"Got angle data: {new_angle}\")\n",
    "        self.imu_readings.append( new_angle )\n",
    "        \n",
    "    def set_params(self, pid_p_rot, pid_min_power_rot, pid_p_fwd, pid_min_power_fwd, imu_hz):\n",
    "        self.ble.send_command(CMD.SET_PID, f\"{pid_p_rot}|{pid_min_power_rot}|{pid_p_fwd}|{pid_min_power_fwd}|{imu_hz}\"); \n",
    "\n",
    "    def set_motor_calib(self, calib_rot, calib_fwd):\n",
    "        self.ble.send_command(CMD.SET_MOTOR_CALIB, f\"{calib_rot}|{calib_fwd}\")\n",
    "        \n",
    "    def move_distance(self, dist_mm):\n",
    "        self.ble.send_command(CMD.MOVE_DISTANCE, dist_mm)\n",
    "\n",
    "    def turn_degrees(self, angle):\n",
    "        self.ble.send_command(CMD.TURN_DEGREES, angle)\n",
    "    \n",
    "    def stop(self):\n",
    "        self.ble.send_command(CMD.STOP, None)\n",
    "\n",
    "    def do_stunt(self, dist):\n",
    "        self.ble.send_command(CMD.DO_STUNT, dist)\n",
    "    \n",
    "    def get_data(self, expected_len):\n",
    "        # ble.send_command(CMD.GET_DATA, None)\n",
    "        while len(self.tof1_readings) < expected_len or len(self.bot_pid_debug) < expected_len \\\n",
    "            or len(self.imu_readings) < expected_len:\n",
    "            print(f\"Awaiting data: {len(self.tof1_readings)} / {expected_len}\")\n",
    "            time.sleep(1)\n",
    "            ble.send_command(CMD.GET_DATA, None)\n",
    "\n",
    "    def spin(self, left, right, time_ms):\n",
    "        l = left\n",
    "        r = right\n",
    "        self.ble.send_command(CMD.SPIN, f\"{l}|{r}|{time_ms}\")\n",
    "        time.sleep(time_ms / 1000)\n",
    "\n",
    "    def turn_degrees(self, angle):\n",
    "        self.ble.send_command(CMD.TURN_DEGREES, angle)\n",
    "        \n",
    "    def move_duration(self, power, duration, pause=False):\n",
    "        self.ble.send_command(CMD.MOVE_DURATION, f\"{power}|{duration}\")\n",
    "        time.sleep(duration / 1000)\n",
    "        if pause:\n",
    "            self.move_duration(0,250, pause=False)\n",
    "            \n",
    "\n",
    "    def dist_to_time(self, d):\n",
    "        # distance (cm) to time (ms)\n",
    "        # return round(69.04669* (d**0.644513))\n",
    "        return round(60 * (d**0.644513))\n",
    "    \n",
    "    def move_dist_as_duration(self, dist, pause=False):\n",
    "        t = self.dist_to_time(dist / 10)\n",
    "        self.move_duration(75, t, pause=pause)\n",
    "    \n",
    "    def do_timed_stunt(self, fwd_time, fwd_power_l, fwd_power_r, back_mid_stop, back_time, back_power_l, back_power_r):\n",
    "        back_stop_code = 1 if back_mid_stop else 0\n",
    "        self.ble.send_command(CMD.DO_TIMED_STUNT, f\"{fwd_time}|{fwd_power_l}|{fwd_power_r}|{back_stop_code}|{back_time}|{back_power_l}|{back_power_r}\")\n",
    "\n",
    "    def clear_data(self):\n",
    "        self.tof1_readings = []\n",
    "        self.imu_readings = []\n",
    "        self.bot_pid_debug = []\n"
   ]
  },
  {
   "cell_type": "markdown",
   "metadata": {},
   "source": [
    "### Define Robot Controller Class"
   ]
  },
  {
   "cell_type": "code",
   "execution_count": 2,
   "metadata": {},
   "outputs": [
    {
     "name": "stdout",
     "output_type": "stream",
     "text": [
      "2022-05-17 13:57:06,814 |\u001b[32m INFO     \u001b[0m|: Looking for Artemis Nano Peripheral Device: C0:07:21:8D:B3:44\n",
      "2022-05-17 13:57:10,293 |\u001b[32m INFO     \u001b[0m|: Connected to C0:07:21:8D:B3:44\n"
     ]
    }
   ],
   "source": [
    "LOG.propagate = False\n",
    "ble = get_ble_controller()\n",
    "ble.connect()\n",
    "time.sleep(3)"
   ]
  },
  {
   "cell_type": "markdown",
   "metadata": {},
   "source": [
    "### Run Stunt"
   ]
  },
  {
   "cell_type": "code",
   "execution_count": 3,
   "metadata": {},
   "outputs": [],
   "source": [
    "bot = RobotControl(ble)"
   ]
  },
  {
   "cell_type": "code",
   "execution_count": 20,
   "metadata": {},
   "outputs": [],
   "source": [
    "# def set_params(self, pid_p_rot, pid_min_power_rot, pid_p_fwd, pid_min_power_fwd, imu_hz):\n",
    "bot.set_params(1.5, 80, 0.4, 35, 60)\n",
    "bot.set_motor_calib(1.4, 1.3)\n",
    "\n",
    "# Open-Loop Stunt (drift into spot)\n",
    "# bot.move_duration(100,500)\n",
    "# bot.spin(80,-80,900)\n",
    "# bot.move_duration(100,1800)\n",
    "# bot.spin(100,80,500)\n",
    "\n",
    "# Parallel park\n",
    "# bot.move_duration(0,500)\n",
    "# bot.move_duration(100, 900)\n",
    "# bot.stop()\n",
    "# bot.turn_degrees(45)\n",
    "# bot.stop()\n",
    "# bot.move_duration(0,500)\n",
    "# bot.spin(-80,-80,800)\n",
    "# bot.stop()\n",
    "# bot.move_duration(0,500)\n",
    "# bot.turn_degrees(-40)\n",
    "# bot.stop()\n",
    "\n",
    "# Real stunt, like the flip thingy?\n",
    "\n",
    "# bot.spin(150,150,1000)\n",
    "# bot.spin(-200,-200,1000)\n",
    "# bot.stop()\n",
    "\n",
    "# bot.move_distance(1000)\n",
    "\n",
    "# bot.do_timed_stunt( 900,170,0, \\\n",
    "#   True, \\\n",
    "#   1000, 255, 0)\n",
    "\n",
    "# bot.move_distance(100)\n",
    "bot.do_stunt(870)\n",
    "bot.stop()"
   ]
  },
  {
   "cell_type": "code",
   "execution_count": 26,
   "metadata": {},
   "outputs": [
    {
     "name": "stdout",
     "output_type": "stream",
     "text": [
      "Awaiting data: 0 / 300\n",
      "Awaiting data: 0 / 300\n",
      "Awaiting data: 38 / 300\n",
      "Awaiting data: 73 / 300\n",
      "Awaiting data: 109 / 300\n",
      "Awaiting data: 146 / 300\n",
      "Awaiting data: 182 / 300\n",
      "Awaiting data: 219 / 300\n",
      "Awaiting data: 255 / 300\n",
      "Awaiting data: 292 / 300\n",
      "Awaiting data: 300 / 300\n",
      "Awaiting data: 300 / 300\n",
      "Awaiting data: 300 / 300\n",
      "Awaiting data: 300 / 300\n",
      "Awaiting data: 300 / 300\n",
      "Awaiting data: 300 / 300\n",
      "Awaiting data: 300 / 300\n",
      "Awaiting data: 300 / 300\n",
      "Awaiting data: 300 / 300\n",
      "Awaiting data: 300 / 300\n",
      "Awaiting data: 300 / 300\n",
      "Awaiting data: 300 / 300\n",
      "Awaiting data: 300 / 300\n",
      "Awaiting data: 300 / 300\n",
      "Awaiting data: 300 / 300\n",
      "Awaiting data: 300 / 300\n",
      "Awaiting data: 300 / 300\n",
      "Awaiting data: 300 / 300\n"
     ]
    }
   ],
   "source": [
    "bot.clear_data()\n",
    "bot.get_data(300)"
   ]
  },
  {
   "cell_type": "code",
   "execution_count": 27,
   "metadata": {},
   "outputs": [
    {
     "name": "stdout",
     "output_type": "stream",
     "text": [
      "TOF: [1677.0, 1693.0, 1657.0, 1558.0, 1410.0, 1223.0, 1042.0, 819.0, 582.0, 361.0, 174.0, 60.0, 26.0, 95.0, 196.0, 334.0, 505.0, 714.0, 949.0, 1175.0, 1417.0, 1642.0, 1859.0, 1992.0, 2023.0, 2048.0, 2003.0, 1892.0, 1766.0, 1589.0, 1374.0, 1141.0, 903.0, 630.0, 379.0, 181.0, 55.0, 28.0, 545.0, 229.0, 456.0, 2381.0, 640.0, 259.0, 268.0, 36.0, 155.0, 2656.0, 3963.0, 4277.0, 458.0, 1964.0, 1031.0, 1825.0, 576.0, 541.0, 375.0, 462.0, 505.0, 492.0, 553.0, 872.0, 723.0, 352.0, 180.0, 699.0, 1006.0, 232.0, 95.0, 63.0, 42.0, 18.0, 0.0, 73.0, 74.0, 75.0, 76.0, 77.0, 78.0, 79.0, 80.0, 81.0, 82.0, 83.0, 84.0, 85.0, 86.0, 87.0, 88.0, 89.0, 90.0, 91.0, 92.0, 93.0, 94.0, 95.0, 96.0, 97.0, 98.0, 99.0, 100.0, 101.0, 102.0, 103.0, 104.0, 105.0, 106.0, 107.0, 108.0, 109.0, 110.0, 111.0, 112.0, 113.0, 114.0, 115.0, 116.0, 117.0, 118.0, 119.0, 120.0, 121.0, 122.0, 123.0, 124.0, 125.0, 126.0, 127.0, 128.0, 129.0, 130.0, 131.0, 132.0, 133.0, 134.0, 135.0, 136.0, 137.0, 138.0, 139.0, 140.0, 141.0, 142.0, 143.0, 144.0, 145.0, 146.0, 147.0, 148.0, 149.0, 150.0, 151.0, 152.0, 153.0, 154.0, 155.0, 156.0, 157.0, 158.0, 159.0, 160.0, 161.0, 162.0, 163.0, 164.0, 165.0, 166.0, 167.0, 168.0, 169.0, 170.0, 171.0, 172.0, 173.0, 174.0, 175.0, 176.0, 177.0, 178.0, 179.0, 180.0, 181.0, 182.0, 183.0, 184.0, 185.0, 186.0, 187.0, 188.0, 189.0, 190.0, 191.0, 192.0, 193.0, 194.0, 195.0, 196.0, 197.0, 198.0, 199.0, 200.0, 201.0, 202.0, 203.0, 204.0, 205.0, 206.0, 207.0, 208.0, 209.0, 210.0, 211.0, 212.0, 213.0, 214.0, 215.0, 216.0, 217.0, 218.0, 219.0, 220.0, 221.0, 222.0, 223.0, 224.0, 225.0, 226.0, 227.0, 228.0, 229.0, 230.0, 231.0, 232.0, 233.0, 234.0, 235.0, 236.0, 237.0, 238.0, 239.0, 240.0, 241.0, 242.0, 243.0, 244.0, 245.0, 246.0, 247.0, 248.0, 249.0, 250.0, 251.0, 252.0, 253.0, 254.0, 255.0, 256.0, 257.0, 258.0, 259.0, 260.0, 261.0, 262.0, 263.0, 264.0, 265.0, 266.0, 267.0, 268.0, 269.0, 270.0, 271.0, 272.0, 273.0, 274.0, 275.0, 276.0, 277.0, 278.0, 279.0, 280.0, 281.0, 282.0, 283.0, 284.0, 285.0, 286.0, 287.0, 288.0, 289.0, 290.0, 291.0, 292.0, 293.0, 294.0, 295.0, 296.0, 297.0, 298.0, 299.0, 1677.0, 1693.0, 1657.0, 1558.0, 1410.0, 1223.0, 1042.0, 819.0, 582.0, 361.0, 174.0, 60.0, 26.0, 95.0, 196.0, 334.0, 505.0, 714.0, 949.0, 1175.0, 1417.0, 1642.0, 1859.0, 1992.0, 2023.0, 2048.0, 2003.0, 1892.0, 1766.0, 1589.0, 1374.0, 1141.0, 903.0, 630.0, 379.0, 181.0, 55.0, 28.0, 545.0, 229.0, 456.0, 2381.0, 640.0, 259.0, 268.0, 36.0, 155.0, 2656.0, 3963.0, 4277.0, 458.0, 1964.0, 1031.0, 1825.0, 576.0, 541.0, 375.0, 462.0, 505.0, 492.0, 553.0, 872.0, 723.0, 352.0, 180.0, 699.0, 1006.0, 232.0, 95.0, 63.0, 42.0, 18.0, 0.0, 73.0, 74.0, 75.0, 76.0, 77.0, 78.0, 79.0, 80.0, 81.0, 82.0, 83.0, 84.0, 85.0, 86.0, 87.0, 88.0, 89.0, 90.0, 91.0, 92.0]\n",
      "PID: [322.0, 329.0, 314.0, 275.0, 216.0, 141.0, 68.0, -20.0, -115.0, -203.0, -278.0, -324.0, -337.0, -310.0, -269.0, -214.0, -146.0, -62.0, 31.0, 122.0, 218.0, 308.0, 395.0, 448.0, 461.0, 471.0, 453.0, 408.0, 358.0, 287.0, 201.0, 108.0, 13.0, 255.0, 255.0, 255.0, 255.0, 255.0, 255.0, 255.0, 255.0, 255.0, 255.0, 255.0, 255.0, -333.0, -286.0, 714.0, 1237.0, 1362.0, -164.0, 437.0, 64.0, 382.0, -117.0, -131.0, -198.0, -163.0, -146.0, -151.0, -126.0, 0.0, 255.0, 255.0, 255.0, 255.0, 255.0, 255.0, 255.0, 255.0, 255.0, 255.0, 255.0, 73.0, 74.0, 75.0, 76.0, 77.0, 78.0, 79.0, 80.0, 81.0, 82.0, 83.0, 84.0, 85.0, 86.0, 87.0, 88.0, 89.0, 90.0, 91.0, 92.0, 93.0, 94.0, 95.0, 96.0, 97.0, 98.0, 99.0, 100.0, 101.0, 102.0, 103.0, 104.0, 105.0, 106.0, 107.0, 108.0, 109.0, 110.0, 111.0, 112.0, 113.0, 114.0, 115.0, 116.0, 117.0, 118.0, 119.0, 120.0, 121.0, 122.0, 123.0, 124.0, 125.0, 126.0, 127.0, 128.0, 129.0, 130.0, 131.0, 132.0, 133.0, 134.0, 135.0, 136.0, 137.0, 138.0, 139.0, 140.0, 141.0, 142.0, 143.0, 144.0, 145.0, 146.0, 147.0, 148.0, 149.0, 150.0, 151.0, 152.0, 153.0, 154.0, 155.0, 156.0, 157.0, 158.0, 159.0, 160.0, 161.0, 162.0, 163.0, 164.0, 165.0, 166.0, 167.0, 168.0, 169.0, 170.0, 171.0, 172.0, 173.0, 174.0, 175.0, 176.0, 177.0, 178.0, 179.0, 180.0, 181.0, 182.0, 183.0, 184.0, 185.0, 186.0, 187.0, 188.0, 189.0, 190.0, 191.0, 192.0, 193.0, 194.0, 195.0, 196.0, 197.0, 198.0, 199.0, 200.0, 201.0, 202.0, 203.0, 204.0, 205.0, 206.0, 207.0, 208.0, 209.0, 210.0, 211.0, 212.0, 213.0, 214.0, 215.0, 216.0, 217.0, 218.0, 219.0, 220.0, 221.0, 222.0, 223.0, 224.0, 225.0, 226.0, 227.0, 228.0, 229.0, 230.0, 231.0, 232.0, 233.0, 234.0, 235.0, 236.0, 237.0, 238.0, 239.0, 240.0, 241.0, 242.0, 243.0, 244.0, 245.0, 246.0, 247.0, 248.0, 249.0, 250.0, 251.0, 252.0, 253.0, 254.0, 255.0, 256.0, 257.0, 258.0, 259.0, 260.0, 261.0, 262.0, 263.0, 264.0, 265.0, 266.0, 267.0, 268.0, 269.0, 270.0, 271.0, 272.0, 273.0, 274.0, 275.0, 276.0, 277.0, 278.0, 279.0, 280.0, 281.0, 282.0, 283.0, 284.0, 285.0, 286.0, 287.0, 288.0, 289.0, 290.0, 291.0, 292.0, 293.0, 294.0, 295.0, 296.0, 297.0, 298.0, 299.0]\n",
      "IMU (times): [490440.0, 490538.0, 490635.0, 490732.0, 490834.0, 490928.0, 491028.0, 491125.0, 491222.0, 491325.0, 491426.0, 491522.0, 491622.0, 491717.0, 491818.0, 491913.0, 492017.0, 492110.0, 492208.0, 492305.0, 492405.0, 492501.0, 492598.0, 492699.0, 492795.0, 492892.0, 492991.0, 493088.0, 493187.0, 493283.0, 493381.0, 493479.0, 493576.0, 493675.0, 493773.0, 493873.0, 493971.0, 494069.0, 494129.0, 494225.0, 494323.0, 494378.0, 494477.0, 494575.0, 494675.0, 466326.0, 466423.0, 466522.0, 466575.0, 466629.0, 466685.0, 466740.0, 466793.0, 466853.0, 466907.0, 467008.0, 467104.0, 467203.0, 467260.0, 467354.0, 467409.0, 467467.0, 467524.0, 467621.0, 467721.0, 467818.0, 467916.0, 468017.0, 468112.0, 468211.0, 468310.0, 468408.0, 468508.0, 73.0, 74.0, 75.0, 76.0, 77.0, 78.0, 79.0, 80.0, 81.0, 82.0, 83.0, 84.0, 85.0, 86.0, 87.0, 88.0, 89.0, 90.0, 91.0, 92.0, 93.0, 94.0, 95.0, 96.0, 97.0, 98.0, 99.0, 100.0, 101.0, 102.0, 103.0, 104.0, 105.0, 106.0, 107.0, 108.0, 109.0, 110.0, 111.0, 112.0, 113.0, 114.0, 115.0, 116.0, 117.0, 118.0, 119.0, 120.0, 121.0, 122.0, 123.0, 124.0, 125.0, 126.0, 127.0, 128.0, 129.0, 130.0, 131.0, 132.0, 133.0, 134.0, 135.0, 136.0, 137.0, 138.0, 139.0, 140.0, 141.0, 142.0, 143.0, 144.0, 145.0, 146.0, 147.0, 148.0, 149.0, 150.0, 151.0, 152.0, 153.0, 154.0, 155.0, 156.0, 157.0, 158.0, 159.0, 160.0, 161.0, 162.0, 163.0, 164.0, 165.0, 166.0, 167.0, 168.0, 169.0, 170.0, 171.0, 172.0, 173.0, 174.0, 175.0, 176.0, 177.0, 178.0, 179.0, 180.0, 181.0, 182.0, 183.0, 184.0, 185.0, 186.0, 187.0, 188.0, 189.0, 190.0, 191.0, 192.0, 193.0, 194.0, 195.0, 196.0, 197.0, 198.0, 199.0, 200.0, 201.0, 202.0, 203.0, 204.0, 205.0, 206.0, 207.0, 208.0, 209.0, 210.0, 211.0, 212.0, 213.0, 214.0, 215.0, 216.0, 217.0, 218.0, 219.0, 220.0, 221.0, 222.0, 223.0, 224.0, 225.0, 226.0, 227.0, 228.0, 229.0, 230.0, 231.0, 232.0, 233.0, 234.0, 235.0, 236.0, 237.0, 238.0, 239.0, 240.0, 241.0, 242.0, 243.0, 244.0, 245.0, 246.0, 247.0, 248.0, 249.0, 250.0, 251.0, 252.0, 253.0, 254.0, 255.0, 256.0, 257.0, 258.0, 259.0, 260.0, 261.0, 262.0, 263.0, 264.0, 265.0, 266.0, 267.0, 268.0, 269.0, 270.0, 271.0, 272.0, 273.0, 274.0, 275.0, 276.0, 277.0, 278.0, 279.0, 280.0, 281.0, 282.0, 283.0, 284.0, 285.0, 286.0, 287.0, 288.0, 289.0, 290.0, 291.0, 292.0, 293.0, 294.0, 295.0, 296.0, 297.0, 298.0, 299.0]\n",
      "300\n",
      "2022-05-17 14:12:07,826 |\u001b[32m INFO     \u001b[0m|: Disconnected from 7AE0A3CC-63D5-13D9-39BA-D29A7DC67D14\n"
     ]
    }
   ],
   "source": [
    "print(f\"TOF: {bot.tof1_readings}\")\n",
    "print(f\"PID: {bot.bot_pid_debug}\")\n",
    "print(f\"IMU (times): {bot.imu_readings}\")\n",
    "print(len(bot.bot_pid_debug))"
   ]
  },
  {
   "cell_type": "code",
   "execution_count": null,
   "metadata": {},
   "outputs": [],
   "source": [
    "bot.clear_data()"
   ]
  }
 ],
 "metadata": {
  "interpreter": {
   "hash": "c92a079c0bb7fb2cb166ddd5a6b27da4a5137dff8bdf590f4a10d0d53cdddbd5"
  },
  "kernelspec": {
   "display_name": "Python 3.9.10 ('venv': venv)",
   "language": "python",
   "name": "python3"
  },
  "language_info": {
   "codemirror_mode": {
    "name": "ipython",
    "version": 3
   },
   "file_extension": ".py",
   "mimetype": "text/x-python",
   "name": "python",
   "nbconvert_exporter": "python",
   "pygments_lexer": "ipython3",
   "version": "3.10.4"
  },
  "orig_nbformat": 4
 },
 "nbformat": 4,
 "nbformat_minor": 2
}
