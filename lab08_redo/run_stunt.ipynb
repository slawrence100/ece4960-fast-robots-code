{
 "cells": [
  {
   "cell_type": "markdown",
   "metadata": {},
   "source": [
    "## Execute Task A Stunt"
   ]
  },
  {
   "cell_type": "markdown",
   "metadata": {},
   "source": [
    "### Setup and Connect"
   ]
  },
  {
   "cell_type": "code",
   "execution_count": 45,
   "metadata": {},
   "outputs": [
    {
     "name": "stdout",
     "output_type": "stream",
     "text": [
      "The autoreload extension is already loaded. To reload it, use:\n",
      "  %reload_ext autoreload\n"
     ]
    }
   ],
   "source": [
    "%load_ext autoreload\n",
    "%autoreload 2\n",
    "\n",
    "from ble import get_ble_controller\n",
    "from base_ble import LOG\n",
    "from cmd_types import CMD\n",
    "import time\n",
    "import numpy as np\n",
    "import matplotlib.pyplot as plt\n",
    "\n",
    "class RobotControl():\n",
    "    # Initialize Function\n",
    "    def __init__(self, ble):\n",
    "        self.ble = ble\n",
    "        self.notifiers_on = False\n",
    "        self.TOF_HISTORY_LEN = 60\n",
    "        self.IMU_HISTORY_LEN = 300\n",
    "        self.calibration_factor = 0\n",
    "\n",
    "        # A variable to store the latest sensor value\n",
    "        self.latest_tof_front_reading = None\n",
    "        \n",
    "        # A list to store the history of all the sensor values\n",
    "        # Each item in the list is a tuple (value, time)\n",
    "        # WARNING: The list could grow really fast; you need to deal with this accordingly.\n",
    "        self.tof1_readings = []\n",
    "        self.imu_readings = []\n",
    "        self.bot_pid_debug = []\n",
    "        \n",
    "        # A variable to store the latest imu reading\n",
    "        self.latest_imu_reading = None\n",
    "        \n",
    "        # Activate notifications (if required)\n",
    "        self.setup_notify()\n",
    "    \n",
    "    # A function to activate various notifications (if required)\n",
    "    def setup_notify(self):\n",
    "        ble.start_notify(ble.uuid['RX_TOF1'], self.tof1_callback_handler)\n",
    "        ble.start_notify(ble.uuid['RX_IMU_PITCH'], self.imu_pitch_callback_handler)\n",
    "        ble.start_notify(ble.uuid['RX_MOTOR_PID'], self.motor_pid_callback_handler)\n",
    "        self.notifiers_on = True\n",
    "\n",
    "    def stop_notify(self):\n",
    "        ble.stop_notify(ble.uuid['RX_TOF1'])\n",
    "        ble.stop_notify(ble.uuid['RX_IMU_PITCH'])\n",
    "        ble.stop_notify(ble.uuid['RX_MOTOR_PID'])\n",
    "        self.notifiers_on = False\n",
    "    \n",
    "    def tof1_callback_handler(self, uuid, byte_array):\n",
    "        self.tof1_readings.append( self.ble.bytearray_to_float(byte_array) )\n",
    "    \n",
    "    def imu_pitch_callback_handler(self, uuid, byte_array):\n",
    "        self.imu_readings.append( self.ble.bytearray_to_float(byte_array) )\n",
    "\n",
    "    def motor_pid_callback_handler(self, uuid, byte_array):\n",
    "        self.bot_pid_debug.append( self.ble.bytearray_to_float(byte_array) )\n",
    "\n",
    "    def move_forward(self, speed):\n",
    "        ble.send_command(CMD.MOVE_FORWARD, speed)\n",
    "    \n",
    "    def move_backward(self, speed):\n",
    "        ble.send_command(CMD.MOVE_BACKWARD, speed)\n",
    "\n",
    "    def tof1_callback_handler(self, uuid, byte_array):\n",
    "        new_tof = self.ble.bytearray_to_float(byte_array)\n",
    "        # print(f\"Got TOF data: {new_tof}\")\n",
    "        self.tof1_readings.append(new_tof)\n",
    "\n",
    "    def imu_pitch_callback_handler(self, uuid, byte_array):\n",
    "        new_angle = self.ble.bytearray_to_float(byte_array)\n",
    "        # print(f\"Got angle data: {new_angle}\")\n",
    "        self.angle_data.append( new_angle )\n",
    "        \n",
    "    def set_params(self, pid_p_rot, pid_min_power_rot, pid_p_fwd, pid_min_power_fwd, imu_hz):\n",
    "        self.ble.send_command(CMD.SET_PID, f\"{pid_p_rot}|{pid_min_power_rot}|{pid_p_fwd}|{pid_min_power_fwd}|{imu_hz}\"); \n",
    "\n",
    "    def set_motor_calib(self, calib_rot, calib_fwd):\n",
    "        self.ble.send_command(CMD.SET_MOTOR_CALIB, f\"{calib_rot}|{calib_fwd}\")\n",
    "        \n",
    "    def move_distance(self, dist_mm):\n",
    "        self.ble.send_command(CMD.MOVE_DISTANCE, dist_mm)\n",
    "\n",
    "    def turn_degrees(self, angle):\n",
    "        self.ble.send_command(CMD.TURN_DEGREES, angle)\n",
    "    \n",
    "    def stop(self):\n",
    "        self.ble.send_command(CMD.STOP, None)\n",
    "\n",
    "    def do_stunt(self, dist):\n",
    "        self.ble.send_command(CMD.DO_STUNT, dist)\n",
    "    \n",
    "    def get_data(self, expected_len):\n",
    "        # ble.send_command(CMD.GET_DATA, None)\n",
    "        while len(self.tof1_readings) < expected_len or len(self.bot_pid_debug) < expected_len \\\n",
    "            or len(self.imu_readings) < expected_len:\n",
    "            print(f\"Awaiting data: {len(self.tof1_readings)} / {expected_len}\")\n",
    "            time.sleep(1)\n",
    "            ble.send_command(CMD.GET_DATA, None)\n",
    "\n",
    "    def spin(self, left, right, time_ms):\n",
    "        l = left\n",
    "        r = right\n",
    "        self.ble.send_command(CMD.SPIN, f\"{l}|{r}|{time_ms}\")\n",
    "        time.sleep(time_ms / 1000)\n",
    "\n",
    "    def turn_degrees(self, angle):\n",
    "        self.ble.send_command(CMD.TURN_DEGREES, angle)\n",
    "        \n",
    "    def move_duration(self, power, duration, pause=False):\n",
    "        self.ble.send_command(CMD.MOVE_DURATION, f\"{power}|{duration}\")\n",
    "        time.sleep(duration / 1000)\n",
    "        if pause:\n",
    "            robot.move_duration(0,250, pause=False)\n",
    "            \n",
    "\n",
    "    def dist_to_time(self, d):\n",
    "        # distance (cm) to time (ms)\n",
    "        # return round(69.04669* (d**0.644513))\n",
    "        return round(60 * (d**0.644513))\n",
    "    \n",
    "    def move_dist_as_duration(self, dist, pause=False):\n",
    "        t = self.dist_to_time(dist / 10)\n",
    "        self.move_duration(75, t, pause=pause)\n",
    "    \n",
    "\n",
    "\n",
    "    "
   ]
  },
  {
   "cell_type": "markdown",
   "metadata": {},
   "source": [
    "### Define Robot Controller Class"
   ]
  },
  {
   "cell_type": "code",
   "execution_count": 48,
   "metadata": {},
   "outputs": [
    {
     "name": "stdout",
     "output_type": "stream",
     "text": [
      "2022-05-14 15:39:24,397 |\u001b[32m INFO     \u001b[0m|: Looking for Artemis Nano Peripheral Device: C0:07:21:8D:B3:44\n",
      "2022-05-14 15:39:29,244 |\u001b[32m INFO     \u001b[0m|: Connected to C0:07:21:8D:B3:44\n"
     ]
    }
   ],
   "source": [
    "LOG.propagate = False\n",
    "ble = get_ble_controller()\n",
    "ble.connect()\n",
    "time.sleep(3)"
   ]
  },
  {
   "cell_type": "markdown",
   "metadata": {},
   "source": [
    "### Run Stunt"
   ]
  },
  {
   "cell_type": "code",
   "execution_count": 42,
   "metadata": {},
   "outputs": [],
   "source": [
    "bot = RobotControl(ble)"
   ]
  },
  {
   "cell_type": "code",
   "execution_count": 74,
   "metadata": {},
   "outputs": [
    {
     "name": "stdout",
     "output_type": "stream",
     "text": [
      "2022-05-14 15:55:42,705 |\u001b[32m INFO     \u001b[0m|: Disconnected from 7AE0A3CC-63D5-13D9-39BA-D29A7DC67D14\n"
     ]
    }
   ],
   "source": [
    "bot.set_params(1.5, 80, 1.4, 35, 60)\n",
    "bot.set_motor_calib(1.4, 1.3)\n",
    "\n",
    "# Open-Loop Stunt (drift into spot)\n",
    "# bot.move_duration(100,500)\n",
    "# bot.spin(80,-80,900)\n",
    "# bot.move_duration(100,1800)\n",
    "# bot.spin(100,80,500)\n",
    "\n",
    "# Parallel park\n",
    "# bot.move_duration(0,500)\n",
    "# bot.move_duration(100, 900)\n",
    "# bot.stop()\n",
    "# bot.turn_degrees(45)\n",
    "# bot.stop()\n",
    "# bot.move_duration(0,500)\n",
    "# bot.spin(-80,-80,800)\n",
    "# bot.stop()\n",
    "# bot.move_duration(0,500)\n",
    "# bot.turn_degrees(-40)\n",
    "# bot.stop()\n",
    "\n",
    "# Real stunt, like the flip thingy?\n",
    "\n",
    "bot.spin(150,150,1000)\n",
    "bot.spin(-200,-200,1000)\n",
    "bot.stop()\n",
    "\n",
    "\n",
    "# bot.move_distance(100)\n",
    "# bot.do_stunt(900)\n",
    "# bot.stop()"
   ]
  },
  {
   "cell_type": "code",
   "execution_count": null,
   "metadata": {},
   "outputs": [],
   "source": [
    "bot.get_data(300)\n",
    "print(f\"TOF: {bot.tof1_readings}\")\n",
    "print(f\"PID: {bot.bot_pid_debug}\")\n",
    "print(f\"IMU (time): {bot.imu_readings}\")"
   ]
  },
  {
   "cell_type": "code",
   "execution_count": null,
   "metadata": {},
   "outputs": [],
   "source": [
    "print(f\"TOF: {bot.tof1_readings}\")\n",
    "print(f\"PID: {bot.bot_pid_debug}\")\n",
    "print(f\"IMU (times): {bot.imu_readings}\")\n",
    "print(len(bot.bot_pid_debug))"
   ]
  }
 ],
 "metadata": {
  "interpreter": {
   "hash": "c92a079c0bb7fb2cb166ddd5a6b27da4a5137dff8bdf590f4a10d0d53cdddbd5"
  },
  "kernelspec": {
   "display_name": "Python 3.9.10 ('venv': venv)",
   "language": "python",
   "name": "python3"
  },
  "language_info": {
   "codemirror_mode": {
    "name": "ipython",
    "version": 3
   },
   "file_extension": ".py",
   "mimetype": "text/x-python",
   "name": "python",
   "nbconvert_exporter": "python",
   "pygments_lexer": "ipython3",
   "version": "3.10.4"
  },
  "orig_nbformat": 4
 },
 "nbformat": 4,
 "nbformat_minor": 2
}
