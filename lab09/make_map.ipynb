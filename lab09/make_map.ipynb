{
 "cells": [
  {
   "cell_type": "markdown",
   "metadata": {},
   "source": [
    "## Collect Map Data"
   ]
  },
  {
   "cell_type": "markdown",
   "metadata": {},
   "source": [
    "### Setup and Connect"
   ]
  },
  {
   "cell_type": "code",
   "execution_count": 48,
   "metadata": {},
   "outputs": [
    {
     "name": "stdout",
     "output_type": "stream",
     "text": [
      "The autoreload extension is already loaded. To reload it, use:\n",
      "  %reload_ext autoreload\n"
     ]
    }
   ],
   "source": [
    "%load_ext autoreload\n",
    "%autoreload 2\n",
    "\n",
    "from ble import get_ble_controller\n",
    "from base_ble import LOG\n",
    "from cmd_types import CMD\n",
    "import time\n",
    "import numpy as np\n",
    "import matplotlib.pyplot as plt\n",
    "\n",
    "class RobotControl():\n",
    "    # Initialize Function\n",
    "    def __init__(self, ble):\n",
    "        self.ble = ble\n",
    "        self.notifiers_on = False\n",
    "        self.TOF_HISTORY_LEN = 300\n",
    "        self.IMU_HISTORY_LEN = 2400\n",
    "        self.calibration_factor = 0\n",
    "\n",
    "        # A variable to store the latest sensor value\n",
    "        self.latest_tof_front_reading = None\n",
    "        \n",
    "        # A list to store the history of all the sensor values\n",
    "        # Each item in the list is a tuple (value, time)\n",
    "        # WARNING: The list could grow really fast; you need to deal with this accordingly.\n",
    "        self.tof1_readings = [] # TODO change these to a bounded queue\n",
    "        self.tof2_readings = []\n",
    "        self.imu_readings = []\n",
    "        self.bot_pid_debug = []\n",
    "        self.imu_pitch_angles = []\n",
    "        self.imu_roll_angles = []\n",
    "        self.imu_times = []\n",
    "        \n",
    "        # A variable to store the latest imu reading\n",
    "        self.latest_imu_reading = None\n",
    "        \n",
    "        # Activate notifications (if required)\n",
    "        self.setup_notify()\n",
    "    \n",
    "    # A function to activate various notifications (if required)\n",
    "    def setup_notify(self):\n",
    "        # Code to setup various notify events\n",
    "        # Ex:\n",
    "        ble.start_notify(ble.uuid['RX_TOF1'], self.tof1_callback_handler)\n",
    "        ble.start_notify(ble.uuid['RX_TOF2'], self.tof2_callback_handler)\n",
    "        ble.start_notify(ble.uuid['RX_IMU'], self.imu_callback_handler)\n",
    "        ble.start_notify(ble.uuid['RX_MOTOR_PID'], self.motor_pid_callback_handler)\n",
    "        ble.start_notify(ble.uuid['RX_IMU_PITCH'], self.imu_pitch_callback_handler)\n",
    "        ble.start_notify(ble.uuid['RX_IMU_ROLL'], self.imu_roll_callback_handler)\n",
    "        ble.start_notify(ble.uuid['RX_IMU_TIMES'], self.imu_times_callback_handler)\n",
    "        self.notifiers_on = True\n",
    "\n",
    "    def stop_notify(self):\n",
    "        ble.stop_notify(ble.uuid['RX_TOF1'])\n",
    "        ble.stop_notify(ble.uuid['RX_TOF2'])\n",
    "        ble.stop_notify(ble.uuid['RX_IMU'])\n",
    "        ble.stop_notify(ble.uuid['RX_MOTOR_PID'])\n",
    "        ble.stop_notify(ble.uuid['RX_IMU_PITCH'])\n",
    "        ble.stop_notify(ble.uuid['RX_IMU_ROLL'])\n",
    "        ble.stop_notify(ble.uuid['RX_IMU_TIMES'])\n",
    "        self.notifiers_on = False\n",
    "    \n",
    "    def tof1_callback_handler(self, uuid, byte_array):\n",
    "        self.tof1_readings.append( self.ble.bytearray_to_float(byte_array) )\n",
    "\n",
    "    def tof2_callback_handler(self, uuid, byte_array):\n",
    "        self.tof2_readings.append( ( self.ble.bytearray_to_float(byte_array), time.time() ) )\n",
    "    \n",
    "    def imu_callback_handler(self, uuid, byte_array):\n",
    "        self.imu_readings.append( (self.ble.bytearray_to_string(byte_array), time.time()) )\n",
    "\n",
    "    def motor_pid_callback_handler(self, uuid, byte_array):\n",
    "        self.bot_pid_debug.append( self.ble.bytearray_to_float(byte_array) )\n",
    "\n",
    "    def imu_pitch_callback_handler(self, uuid, byte_array):\n",
    "        self.imu_pitch_angles.append( self.ble.bytearray_to_float(byte_array) )\n",
    "\n",
    "    def imu_roll_callback_handler(self, uuid, byte_array):\n",
    "        self.imu_roll_angles.append( self.ble.bytearray_to_float(byte_array) )\n",
    "    \n",
    "    def imu_times_callback_handler(self, uuid, byte_array):\n",
    "        self.imu_times.append( self.ble.bytearray_to_float(byte_array) )\n",
    "\n",
    "    def clear_history(self):\n",
    "        self.tof1_readings = [] # TODO change these to a bounded queue\n",
    "        self.tof2_readings = []\n",
    "        self.imu_readings = []\n",
    "        self.bot_pid_debug = []\n",
    "        self.imu_pitch_angles = []\n",
    "        self.imu_roll_angles = []\n",
    "        self.imu_times = []\n",
    "\n",
    "    def get_front_tof(self):\n",
    "        ble.send_command(CMD.GET_FRONT_TOF, None)\n",
    "        return self.tof1_readings[-1]\n",
    "\n",
    "    \n",
    "    # An example function to fetch the IMU readings as a string\n",
    "    # Here we assume RX_IMU is a valid UUID defined in connection.yaml and\n",
    "    # in the Arduino code as wellt\n",
    "    # def get_imu(self):\n",
    "    #     self.latest_imu_reading = self.ble.receive_string(self.ble.uuid['RX_IMU'])\n",
    "    #     pass\n",
    "    \n",
    "    def start_pid(self, p_const, setpoint, min_power=100, imu_hz=55):\n",
    "        ble.send_command(CMD.START_PID, f\"{p_const}|{setpoint}|{min_power}|{imu_hz}\")\n",
    "\n",
    "    def stop_pid(self):\n",
    "        ble.send_command(CMD.STOP_PID, None)\n",
    "\n",
    "    # A function to instruct the robot to move forward\n",
    "    def move_forward(self, speed):\n",
    "        ble.send_command(CMD.MOVE_FORWARD, speed)\n",
    "    \n",
    "    def move_backward(self, speed):\n",
    "        ble.send_command(CMD.MOVE_BACKWARD, speed)\n",
    "\n",
    "    def set_motor_calibration(self, new_val):\n",
    "        ble.send_command(CMD.SET_MOTOR_CALIB, new_val)\n",
    "        self.calibration_factor = new_val\n",
    "    \n",
    "    # A function to stop robot motion\n",
    "    def stop(self):\n",
    "        ble.send_command(CMD.STOP, None)\n",
    "\n",
    "    def start_data_collection(self):\n",
    "        ble.send_command(CMD.START_DATA_COLLECTION, None)\n",
    "    \n",
    "    def stop_data_collection(self, get_tof=True, get_imu=False, get_pid=False):\n",
    "        temp_notif = self.notifiers_on\n",
    "        if not temp_notif:\n",
    "            self.setup_notify()\n",
    "        ble.send_command(CMD.STOP_DATA_COLLECTION, None)\n",
    "        if get_tof:\n",
    "            self.get_tof_data()\n",
    "        if get_imu:\n",
    "            self.get_imu_data()\n",
    "        if get_pid:\n",
    "            self.get_pid_data()\n",
    "        \n",
    "    def get_tof_data(self):\n",
    "        if not self.notifiers_on:\n",
    "            self.setup_notify()\n",
    "        for i in range(self.TOF_HISTORY_LEN):\n",
    "            ble.send_command(CMD.GET_TOF1_DATA, i)\n",
    "            \n",
    "    \n",
    "    def get_imu_data(self):\n",
    "        if not self.notifiers_on:\n",
    "            self.setup_notify()\n",
    "        for i in range(self.TOF_HISTORY_LEN):\n",
    "            # 1 for Pitch only, 2 for float only, 3 for all, 4 for keyframes only\n",
    "            ble.send_command(CMD.GET_IMU_DATA, f\"{i}|{4}\")\n",
    "    \n",
    "    def get_pid_data(self):\n",
    "        if not self.notifiers_on:\n",
    "            self.setup_notify()\n",
    "        len = self.IMU_HISTORY_LEN\n",
    "        for i in range(len):\n",
    "            ble.send_command(CMD.GET_PID_DATA, i)\n",
    "        \n",
    "    \"\"\"\n",
    "    Step response, but hard break at step_stop\n",
    "    \"\"\"\n",
    "    def start_step_response(self, step_stop):\n",
    "        ble.send_command(CMD.START_STEP_RESPONSE, step_stop)\n",
    "    \n",
    "    def stop_step_response(self):\n",
    "        ble.send_command(CMD.STOP_STEP_RESPONSE, None)\n",
    "\n",
    "    def do_stunt(self, stunt_setpoint, stunt_pid_proportional):\n",
    "        ble.send_command(CMD.START_STUNT, f\"{stunt_setpoint}|{stunt_pid_proportional}\")\n",
    "\n",
    "    def sudden_flip(self, raw_power, scale=False):\n",
    "        if scale:\n",
    "            ble.send_command(CMD.SUDDEN_FLIP, raw_power * 255 / self.calibration_factor)\n",
    "        else:\n",
    "            ble.send_command(CMD.SUDDEN_FLIP, raw_power)\n",
    "\n",
    "    def spin(self, a, b):\n",
    "        # Spins A and B\n",
    "        ble.send_command(CMD.SPIN, f\"{a}|{b}\")\n",
    "\n",
    "    "
   ]
  },
  {
   "cell_type": "markdown",
   "metadata": {},
   "source": [
    "### Define Robot Controller Class"
   ]
  },
  {
   "cell_type": "code",
   "execution_count": 50,
   "metadata": {},
   "outputs": [
    {
     "name": "stdout",
     "output_type": "stream",
     "text": [
      "2022-04-01 17:25:10,758 |\u001b[32m INFO     \u001b[0m|: Looking for Artemis Nano Peripheral Device: C0:07:21:8D:B3:44\n",
      "2022-04-01 17:25:14,001 |\u001b[32m INFO     \u001b[0m|: Connected to C0:07:21:8D:B3:44\n"
     ]
    }
   ],
   "source": [
    "LOG.propagate = False\n",
    "ble = get_ble_controller()\n",
    "ble.connect()\n",
    "time.sleep(5)\n",
    "bot = RobotControl(ble)"
   ]
  },
  {
   "cell_type": "markdown",
   "metadata": {},
   "source": [
    "### Run Stunt"
   ]
  },
  {
   "cell_type": "code",
   "execution_count": 58,
   "metadata": {},
   "outputs": [],
   "source": [
    "def test_spin(power, duration):\n",
    "  # My room floor: MIN 90-ish MAX 160\n",
    "  bot.clear_history()\n",
    "  calib = 1.6\n",
    "  bot.set_motor_calibration(calib)\n",
    "  # Deadband of about 90?\n",
    "  bot.spin(-1*power,power*calib)\n",
    "  time.sleep(duration)\n",
    "  # bot.spin(power, -1*power*calib)\n",
    "  # time.sleep(duration)\n",
    "  bot.stop()\n",
    "\n",
    "def do_pid():\n",
    "  bot.clear_history()\n",
    "  bot.set_motor_calibration(1.6)\n",
    "  bot.start_data_collection()\n",
    "  bot.start_pid(1, 20, min_power=80, imu_hz=40) # old imu_hz = 100\n",
    "  time.sleep(35)\n",
    "  bot.stop_pid()\n",
    "  bot.stop()\n",
    "  bot.stop_data_collection(get_tof=True, get_imu=True, get_pid=True)\n",
    "\n",
    "#test_spin(80, 5)\n",
    "do_pid()"
   ]
  },
  {
   "cell_type": "markdown",
   "metadata": {},
   "source": [
    "### Process and Plot"
   ]
  },
  {
   "cell_type": "code",
   "execution_count": 59,
   "metadata": {},
   "outputs": [
    {
     "name": "stdout",
     "output_type": "stream",
     "text": [
      "145\n",
      "[80.0, 80.0, 80.0, 80.0, 80.0, 80.0, 80.0, 80.0, 80.0, 80.0, 80.0, 80.0, 80.0, 80.0, 80.0, 80.0, -80.0, -80.0, -80.0, -80.0, -80.0, -80.0, -80.0, -80.0, -80.0, -80.0, 0.0, 80.0, 80.0, 80.0, 80.0, 80.0, 80.0, 80.0, 80.0, 80.0, 80.0, 80.0, 80.0, 80.0, 80.0, 80.0, 80.0, 80.0, 0.0, 80.0, 80.0, 80.0, 80.0, 80.0, 80.0, 80.0, 80.0, 80.0, 80.0, 80.0, 80.0, 80.0, 80.0, 80.0, 80.0, 80.0, 80.0, 80.0, 80.0, 80.0, 80.0, -80.0, -80.0, -80.0, -80.0, 0.0, 80.0]\n",
      "[0.0, 0.094, 0.192, 0.646, 0.745, 0.842, 1.477, 1.579, 1.678, 2.241, 2.329, 2.429, 3.066, 3.157, 3.26, 3.881, 3.97, 4.069, 4.66, 4.752, 4.85, 5.472, 5.57, 5.672, 6.327, 6.425, 6.523, 7.098, 7.191, 7.289, 8.065, 8.168, 8.262, 8.768, 8.866, 8.965, 9.529, 9.622, 9.721, 10.325, 10.413, 10.516, 10.89, 10.982, 11.084, 11.551, 11.64, 11.743, 12.124, 12.217, 12.317, 12.964, 13.057, 13.16, 13.497, 13.59, 13.693, 14.129, 14.219, 14.319, 14.761, 14.854, 14.957, 15.379, 15.473, 15.572, 16.208, 16.301, 16.403, 16.909, 16.999, 17.096, 17.634]\n",
      "Pitch: [19.63, 19.63, 19.63, 40.29, 40.29, 40.29, 59.66, 59.66, 59.66, 80.0, 80.0, 80.0, 99.67, 99.67, 99.67, 120.47, 120.47, 120.47, 140.35, 140.35, 140.35, 159.93, 159.93, 159.93, 179.82, 179.82, 179.82, 200.01, 200.01, 200.01, 219.8, 219.8, 219.8, 240.18, 240.18, 240.18, 259.87, 259.87, 259.87, 280.26, 280.26, 280.26, 299.72, 299.72, 299.72, 320.43, 320.43, 320.43, 339.64, 339.64, 339.64, 359.86, 359.86, 359.86, 380.3, 380.3, 380.3, 400.47, 400.47, 400.47, 420.21, 420.21, 420.21, 440.14, 440.14, 440.14, 460.2, 460.2, 460.2, 479.82, 479.82, 479.82, 499.76, 499.76, 499.76, 519.56, 519.56, 519.56, 539.51, 539.51, 539.51, 559.62, 559.62, 559.62, 579.93, 579.93, 579.93, 599.75, 599.75, 599.75, 620.03, 620.03, 620.03, 639.76, 639.76, 639.76, 659.61, 659.61, 659.61, 679.94, 679.94, 679.94, 699.55, 699.55, 699.55, 719.93, 719.93, 719.93, 739.61, 739.61, 739.61, 759.77, 759.77, 759.77, 779.75, 779.75, 779.75, 800.15, 800.15, 800.15, 819.51, 819.51, 819.51, 839.61, 839.61, 839.61, 860.28, 860.28, 860.28, 879.62, 879.62, 879.62, 899.64, 899.64, 899.64, 919.94, 919.94, 919.94, 939.54, 939.54, 939.54, 959.99, 959.99, 959.99, 979.78, 979.78]\n",
      "Roll: []\n",
      "Times: [0.0, 0.013, 0.022, 0.039, 0.053, 0.066, 0.089, 0.111, 0.132, 0.155, 0.177, 0.195, 0.212, 0.234, 0.254, 0.276, 0.297, 0.317, 0.334, 0.35, 0.371, 0.389, 0.413, 0.437, 0.457, 0.478, 0.493, 0.514, 0.534, 0.551, 0.573, 0.798, 0.811, 0.834, 0.854, 0.873, 0.895, 0.909, 0.928, 0.948, 0.971, 0.989, 1.011, 1.029, 1.051, 1.066, 1.088, 1.109, 1.132, 1.442, 1.456, 1.481, 1.504, 1.523, 1.545, 1.562, 1.583, 1.602, 1.62, 1.639, 1.661, 1.682, 1.701, 1.719, 1.741, 1.76, 1.779, 1.801, 1.826, 1.843, 1.864, 1.886, 1.907, 1.925, 1.944, 1.964, 2.278, 2.291, 2.311, 2.331, 2.347, 2.364, 2.383, 2.402, 2.42, 2.444, 2.462, 2.481, 2.495, 2.514, 2.533, 2.558, 2.573, 2.593, 2.615, 2.64, 2.665, 2.683, 2.71, 2.731, 2.753, 2.772, 2.789, 2.811, 3.029, 3.045, 3.066, 3.086, 3.101, 3.12, 3.137, 3.159, 3.175, 3.197, 3.216, 3.235, 3.258, 3.279, 3.301, 3.324, 3.345, 3.368, 3.389, 3.414, 3.436, 3.455, 3.476, 3.495, 3.517, 3.538, 3.555, 3.574, 3.598, 3.611, 3.634, 3.863, 3.88, 3.898, 3.918, 3.936, 3.954, 3.971, 3.988, 4.006, 4.027, 4.044]\n"
     ]
    },
    {
     "data": {
      "text/plain": [
       "<matplotlib.legend.Legend at 0x7fbf8650fa60>"
      ]
     },
     "execution_count": 59,
     "metadata": {},
     "output_type": "execute_result"
    },
    {
     "data": {
      "image/png": "[encoded data removed]",
      "text/plain": [
       "<Figure size 432x288 with 1 Axes>"
      ]
     },
     "metadata": {
      "needs_background": "light"
     },
     "output_type": "display_data"
    }
   ],
   "source": [
    "# Round off for readability\n",
    "# bot.get_imu_data()\n",
    "pitch_angles = [round(x,2) for x in bot.imu_pitch_angles]\n",
    "roll_angles = [round(x,2) for x in bot.imu_roll_angles]\n",
    "bot_times = [(x - bot.imu_times[0]) / 1000 for x in bot.imu_times]\n",
    "pid_raw = bot.bot_pid_debug\n",
    "pid_power = []\n",
    "pid_times = []\n",
    "\n",
    "# Find \"last\" data point\n",
    "last_data_point = 0\n",
    "for i in reversed(range(len(pitch_angles))):\n",
    "  if i % 2 == 0: continue\n",
    "  if pitch_angles[i] == 0: continue\n",
    "  last_data_point = i\n",
    "  break\n",
    "print(last_data_point)\n",
    "\n",
    "# trim\n",
    "pitch_angles = pitch_angles[:1+last_data_point]\n",
    "roll_angles = roll_angles[:1+last_data_point]\n",
    "pitch_angles = pitch_angles[:1+last_data_point]\n",
    "bot_times = bot_times[:1+last_data_point]\n",
    "pid_raw = pid_raw[:1+last_data_point]\n",
    "\n",
    "# print(pid_raw)\n",
    "\n",
    "\n",
    "for i, x in enumerate(pid_raw):\n",
    "  if i % 2 == 0:\n",
    "    pid_power.append(x)\n",
    "  else:\n",
    "    pid_times.append(x)\n",
    "pid_times = [(x - pid_times[0]) / 1000 for x in pid_times]\n",
    "\n",
    "print(pid_power)\n",
    "print(pid_times)\n",
    "\n",
    "# Print for sanity check\n",
    "print(f\"Pitch: {pitch_angles}\")\n",
    "print(f\"Roll: {roll_angles}\")\n",
    "print(f\"Times: {bot_times}\")\n",
    "\n",
    "# Filter TOF readings and trim\n",
    "tof_dist = []\n",
    "for i in range(len(bot.tof1_readings)):\n",
    "  if i % 2 == 0:\n",
    "    tof_dist.append(bot.tof1_readings[i])\n",
    "\n",
    "last_data_point = 0\n",
    "for i in reversed(range(len(tof_dist))):\n",
    "  if i % 2 == 0: continue\n",
    "  if tof_dist[i] == 0: continue\n",
    "  last_data_point = i\n",
    "  break\n",
    "tof_dist = tof_dist[:1+last_data_point]\n",
    "\n",
    "plt.plot(bot_times, pitch_angles, label=\"Pitch\") # Reads at about 120 Hz?\n",
    "plt.xlabel(\"Time [s]\")\n",
    "plt.ylabel(\"Angle [deg]\")\n",
    "plt.legend()\n",
    "\n"
   ]
  },
  {
   "cell_type": "code",
   "execution_count": 60,
   "metadata": {},
   "outputs": [
    {
     "name": "stdout",
     "output_type": "stream",
     "text": [
      "[1747.0, 1310.0, 1313.0, 1461.0, 1434.0, 1445.0, 1640.0, 1732.0, 1639.0, 1678.0, 751.0, 743.0, 742.0, 679.0, 678.0, 677.0, 665.0, 665.0, 1762.0, 1697.0, 1758.0, 1381.0, 1375.0, 1389.0, 1406.0, 1393.0, 1387.0, 1281.0, 1276.0, 1287.0, 880.0, 875.0, 876.0, 1333.0, 1341.0, 1342.0, 1341.0, 1578.0, 1575.0, 1564.0, 1823.0, 1814.0, 1833.0, 1632.0, 1622.0, 1620.0, 1520.0, 1517.0, 1475.0, 764.0, 760.0, 760.0, 930.0, 927.0, 940.0, 1318.0, 1320.0, 1354.0, 1356.0, 1356.0, 1360.0, 1319.0, 1329.0, 1377.0, 1375.0, 1386.0, 1378.0, 1563.0, 1565.0, 1557.0, 820.0, 808.0, 707.0, 705.0, 709.0, 705.0, 665.0, 666.0, 671.0, 1719.0, 1750.0, 1674.0, 1594.0, 1578.0, 1542.0, 1400.0, 1382.0, 1268.0, 1246.0, 1278.0, 1067.0, 1069.0, 1076.0, 804.0, 805.0, 804.0, 807.0, 1286.0, 1291.0, 1296.0, 1493.0, 1494.0, 1474.0, 1696.0, 1698.0, 1587.0, 1589.0, 1581.0, 1545.0, 1543.0, 1547.0, 1516.0, 771.0, 774.0, 864.0, 859.0, 862.0, 1030.0, 1033.0, 1038.0, 1426.0, 1442.0, 1449.0, 1445.0, 1406.0, 1395.0, 1399.0, 1416.0, 1404.0, 1423.0, 1539.0, 1574.0]\n",
      "[(1457.75, 0.3490658503988659), (1506.3333333333333, 0.6981317007977318), (1683.0, 1.0471975511965976), (745.3333333333334, 1.3962634015954636), (678.0, 1.7453292519943295), (1030.6666666666667, 2.0943951023931953), (1612.0, 2.443460952792061), (1390.0, 2.792526803190927), (1353.6666666666667, 3.141592653589793), (1147.6666666666667, 3.490658503988659), (1028.0, 3.839724354387525), (1341.3333333333333, 4.1887902047863905), (1572.3333333333333, 4.537856055185257), (1823.3333333333333, 4.886921905584122), (1624.6666666666667, 5.235987755982989), (1504.0, 5.585053606381854), (761.3333333333334, 5.934119456780721), (932.3333333333334, 6.283185307179586), (1330.6666666666667, 6.632251157578453), (1357.3333333333333, 6.981317007977318), (1341.6666666666667, 7.3303828583761845), (1379.6666666666667, 7.67944870877505), (1561.6666666666667, 8.028514559173916), (778.3333333333334, 8.377580409572781), (706.3333333333334, 8.726646259971647), (667.3333333333334, 9.075712110370514), (1714.3333333333333, 9.42477796076938), (1571.3333333333333, 9.773843811168245), (1350.0, 10.12290966156711), (1197.0, 10.471975511965978), (983.0, 10.821041362364843), (805.3333333333334, 11.170107212763709), (1291.0, 11.519173063162574), (1487.0, 11.868238913561441), (1660.3333333333333, 12.217304763960305), (1571.6666666666667, 12.566370614359172), (1535.3333333333333, 12.915436464758038), (803.0, 13.264502315156905), (917.0, 13.613568165555769), (1165.6666666666667, 13.962634015954636), (1445.3333333333333, 14.311699866353502), (1400.0, 14.660765716752369), (1414.3333333333333, 15.009831567151233), (1556.5, 15.3588974175501)]\n"
     ]
    },
    {
     "data": {
      "text/plain": [
       "<matplotlib.collections.PathCollection at 0x7fbf866aa490>"
      ]
     },
     "execution_count": 60,
     "metadata": {},
     "output_type": "execute_result"
    },
    {
     "data": {
      "image/png": "[encoded data removed]",
      "text/plain": [
       "<Figure size 432x288 with 1 Axes>"
      ]
     },
     "metadata": {
      "needs_background": "light"
     },
     "output_type": "display_data"
    }
   ],
   "source": [
    "print(tof_dist)\n",
    "tof_points = []\n",
    "temp_meas = []\n",
    "for i, x in enumerate(tof_dist):\n",
    "  temp_meas.append(x)\n",
    "  if (i != 0 and i % 3 == 0) or i == len(tof_dist) - 1:\n",
    "    tof_points.append((sum(temp_meas)/len(temp_meas), 20*((i+1)//3)*np.pi/180 ))\n",
    "    temp_meas = []\n",
    "\n",
    "print(tof_points)\n",
    "tof_points_cart = []\n",
    "for (r,theta) in tof_points:\n",
    "  tof_points_cart.append((r*np.cos(theta), r*np.sin(theta)))\n",
    "\n",
    "tof_polar_x = [x[0] for x in tof_points_cart]\n",
    "tof_polar_y = [x[1] for x in tof_points_cart]\n",
    "\n",
    "plt.scatter(tof_polar_x, tof_polar_y)\n",
    "  "
   ]
  },
  {
   "cell_type": "code",
   "execution_count": 61,
   "metadata": {},
   "outputs": [
    {
     "data": {
      "text/plain": [
       "[<matplotlib.lines.Line2D at 0x7fbf86796ca0>]"
      ]
     },
     "execution_count": 61,
     "metadata": {},
     "output_type": "execute_result"
    },
    {
     "data": {
      "image/png": "[encoded data removed]",
      "text/plain": [
       "<Figure size 432x288 with 1 Axes>"
      ]
     },
     "metadata": {
      "needs_background": "light"
     },
     "output_type": "display_data"
    }
   ],
   "source": [
    "# print(bot.tof1_readings)\n",
    "# print(bot.tof2_readings)\n",
    "# print(bot.imu_readings)\n",
    "# print(bot.bot_pid_debug)\n",
    "# print(bot.imu_pitch_angles)\n",
    "# print(bot.imu_roll_angles)\n",
    "# print(bot.imu_times)\n",
    "\n",
    "plt.plot(pid_power)\n",
    "\n"
   ]
  }
 ],
 "metadata": {
  "interpreter": {
   "hash": "c92a079c0bb7fb2cb166ddd5a6b27da4a5137dff8bdf590f4a10d0d53cdddbd5"
  },
  "kernelspec": {
   "display_name": "Python 3.9.10 ('venv': venv)",
   "language": "python",
   "name": "python3"
  },
  "language_info": {
   "codemirror_mode": {
    "name": "ipython",
    "version": 3
   },
   "file_extension": ".py",
   "mimetype": "text/x-python",
   "name": "python",
   "nbconvert_exporter": "python",
   "pygments_lexer": "ipython3",
   "version": "3.9.10"
  },
  "orig_nbformat": 4
 },
 "nbformat": 4,
 "nbformat_minor": 2
}
