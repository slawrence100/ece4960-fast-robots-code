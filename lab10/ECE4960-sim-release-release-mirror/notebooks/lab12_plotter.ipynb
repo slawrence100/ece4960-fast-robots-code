{
 "cells": [
  {
   "cell_type": "markdown",
   "metadata": {},
   "source": [
    "# Lab 12: Grid Localization using Bayes Filter (Real Robot)\n",
    "\n",
    "### <span style=\"color:rgb(0,150,0)\">It is recommended that you close any heavy-duty applications running on your system while working on this lab.</span>\n",
    "\n",
    "### <span style=\"color:rgb(0,150,0)\">The notebook only provides skeleton code for you to integrate the Localization class with the Real Robot.</span>\n",
    "\n",
    "<hr>"
   ]
  },
  {
   "cell_type": "code",
   "execution_count": 1,
   "metadata": {},
   "outputs": [
    {
     "name": "stdout",
     "output_type": "stream",
     "text": [
      "2022-05-01 17:40:31,422 |\u001b[32m INFO     \u001b[0m|: Logger demo_notebook.log initialized.\n"
     ]
    }
   ],
   "source": [
    "%load_ext autoreload\n",
    "%autoreload 2\n",
    "\n",
    "import traceback\n",
    "from notebook_utils import *\n",
    "from Traj import *\n",
    "import asyncio\n",
    "import pathlib\n",
    "import os\n",
    "from utils import load_config_params\n",
    "from localization_extras import Localization\n",
    "\n",
    "# The imports below will only work if you copied the required ble-related python files \n",
    "# into the notebooks directory\n",
    "from ble import get_ble_controller\n",
    "from base_ble import LOG\n",
    "from cmd_types import CMD\n",
    "import numpy as np\n",
    "\n",
    "# Setup Logger\n",
    "LOG = get_logger('demo_notebook.log')\n",
    "LOG.propagate = False\n",
    "\n",
    "# Init GUI and Commander\n",
    "gui = GET_GUI()\n",
    "cmdr = gui.launcher.commander"
   ]
  },
  {
   "cell_type": "code",
   "execution_count": 2,
   "metadata": {},
   "outputs": [],
   "source": [
    "# Start the plotter\n",
    "START_PLOTTER()"
   ]
  },
  {
   "cell_type": "markdown",
   "metadata": {},
   "source": [
    "# The RealRobot class\n",
    "Define the RealRobot class in the code cell below, based on the documentation and your real robot communication protocol. <br>\n",
    "This class is used by the **Localization** class to communicate with the real robot. <br>\n",
    "More specifically, the **Localization** class utilizes the **RealRobot's** member function **perform_observation_loop()** to get the 18 sensor readings and store them in its member variable **obs_range_data**, which is then utilized in the update step."
   ]
  },
  {
   "cell_type": "code",
   "execution_count": 3,
   "metadata": {},
   "outputs": [],
   "source": [
    "class RealRobot():\n",
    "    \"\"\"A class to interact with the real robot\n",
    "    \"\"\"\n",
    "    def __init__(self, commander, ble):\n",
    "        # Load world config\n",
    "        self.world_config = os.path.join(str(pathlib.Path(os.getcwd()).parent), \"config\", \"world.yaml\")\n",
    "        \n",
    "        self.config_params = load_config_params(self.world_config)\n",
    "        \n",
    "        # Commander to commuincate with the Plotter process\n",
    "        # Used by the Localization module to plot odom and belief\n",
    "        self.cmdr = commander\n",
    "\n",
    "        # ArtemisBLEController to communicate with the Robot\n",
    "        self.ble = ble\n",
    "\n",
    "        # Data collection stuff\n",
    "        self.dist_data = []\n",
    "        self.angle_data = []\n",
    "\n",
    "        self.setup_notify()\n",
    "        \n",
    "\n",
    "    def setup_notify(self):\n",
    "        print(\"Notifications started\")\n",
    "        ble.start_notify(ble.uuid['RX_TOF1'], self.tof1_callback_handler)\n",
    "        print(ble.uuid['RX_TOF1'])\n",
    "        ble.start_notify(ble.uuid['RX_IMU_PITCH'], self.imu_pitch_callback_handler)\n",
    "\n",
    "    def tof1_callback_handler(self, uuid, byte_array):\n",
    "        new_tof = self.ble.bytearray_to_float(byte_array)\n",
    "        print(f\"Got TOF data: {new_tof}\")\n",
    "        self.dist_data.append(new_tof)\n",
    "\n",
    "    def imu_pitch_callback_handler(self, uuid, byte_array):\n",
    "        new_angle = self.ble.bytearray_to_float(byte_array)\n",
    "        print(f\"Got angle data: {new_angle}\")\n",
    "        self.angle_data.append( new_angle )\n",
    "        \n",
    "    def set_params(self, pid_p, pid_min_power, imu_hz):\n",
    "        self.ble.send_command(CMD.SET_PID, f\"{pid_p}|{pid_min_power}|{imu_hz}\"); \n",
    "\n",
    "    def set_motor_calib(self, calib):\n",
    "        self.ble.send_command(CMD.SET_MOTOR_CALIB, calib)\n",
    "        \n",
    "    def get_pose(self):\n",
    "        \"\"\"Get robot pose based on odometry\n",
    "        \n",
    "        Returns:\n",
    "            current_odom -- Odometry Pose (meters, meters, degrees)\n",
    "        \"\"\"\n",
    "        raise NotImplementedError(\"get_pose is not implemented\")\n",
    "\n",
    "    def perform_observation_loop(self, rot_vel=120):\n",
    "        \"\"\"Perform the observation loop behavior on the real robot, where the robot does  \n",
    "        a 360 degree turn in place while collecting equidistant (in the angular space) sensor\n",
    "        readings, with the first sensor reading taken at the robot's current heading. \n",
    "        The number of sensor readings depends on \"observations_count\"(=18) defined in world.yaml.\n",
    "        \n",
    "        Keyword arguments:\n",
    "            rot_vel -- (Optional) Angular Velocity for loop (degrees/second)\n",
    "                        Do not remove this parameter from the function definition, even if you don't use it.\n",
    "        Returns:\n",
    "            sensor_ranges   -- A column numpy array of the range values (meters)\n",
    "            sensor_bearings -- A column numpy array of the bearings at which the sensor readings were taken (degrees)\n",
    "                               The bearing values are not used in the Localization module, so you may return a empty numpy array\n",
    "        \"\"\"\n",
    "        self.set_params(1, 80, 50)\n",
    "        self.set_motor_calib(1.4)\n",
    "        self.ble.send_command(CMD.OBSERVE, None)\n",
    "        self.ble.send_command(CMD.GET_DATA, None)\n",
    "        while len(self.dist_data) < 18 or len(self.angle_data) < 18:\n",
    "            print(\"Data still sending, waiting\")\n",
    "            time.sleep(5)\n",
    "            self.ble.send_command(CMD.GET_DATA, None) # try again for command not sent?\n",
    "        self.dist_data = [x / 1000 for x in self.dist_data]\n",
    "        temp_angles = []\n",
    "        temp_sum = 0\n",
    "        for i,angle in enumerate(self.angle_data):\n",
    "            temp_sum -= angle\n",
    "            temp_angles.append(temp_sum)\n",
    "        self.angle_data = temp_angles\n",
    "        print(self.dist_data)\n",
    "        print(self.angle_data)\n",
    "        return np.array(self.dist_data).reshape((18,1)), np.array(self.angle_data).reshape((18,1))\n"
   ]
  },
  {
   "cell_type": "code",
   "execution_count": 4,
   "metadata": {},
   "outputs": [],
   "source": [
    "# # Get ArtemisBLEController object\n",
    "# ble = get_ble_controller()\n",
    "\n",
    "# # Connect to the Artemis Device\n",
    "# ble.connect()"
   ]
  },
  {
   "cell_type": "code",
   "execution_count": 7,
   "metadata": {},
   "outputs": [
    {
     "name": "stdout",
     "output_type": "stream",
     "text": [
      "2022-05-01 17:41:28,417 |\u001b[32m INFO     \u001b[0m|:  | Number of observations per grid cell: 18\n",
      "2022-05-01 17:41:28,424 |\u001b[32m INFO     \u001b[0m|:  | Precaching Views...\n"
     ]
    },
    {
     "name": "stderr",
     "output_type": "stream",
     "text": [
      "/Users/main/Documents/Classes/2022-sp/ECE-4960/ece4960-fast-robots-code/lab10/ECE4960-sim-release-release-mirror/localization.py:150: RuntimeWarning: All-NaN slice encountered\n",
      "  return np.nanmin(distance_intersections_tt), intersections_tt[np.nanargmin(distance_intersections_tt)]\n"
     ]
    },
    {
     "name": "stdout",
     "output_type": "stream",
     "text": [
      "2022-05-01 17:41:32,322 |\u001b[32m INFO     \u001b[0m|:  | Precaching Time: 3.897 secs\n",
      "2022-05-01 17:41:32,323 |\u001b[32m INFO     \u001b[0m|: Initializing beliefs with a Uniform Distribution\n",
      "2022-05-01 17:41:32,324 |\u001b[32m INFO     \u001b[0m|: Uniform Belief with each cell value: 0.00051440329218107\n"
     ]
    }
   ],
   "source": [
    "# Initialize RealRobot with a Commander object to communicate with the plotter process\n",
    "# and the ArtemisBLEController object to communicate with the real robot\n",
    "# robot = RealRobot(cmdr, None)\n",
    "robot = VirtualRobot(cmdr)\n",
    "# Initialize mapper\n",
    "# Requires a VirtualRobot object as a parameter\n",
    "mapper = Mapper(robot)\n",
    "\n",
    "# Initialize your BaseLocalization object\n",
    "# Requires a RealRobot object and a Mapper object as parameters\n",
    "loc = Localization(robot, mapper)\n",
    "\n",
    "## Plot Map\n",
    "cmdr.plot_map()"
   ]
  },
  {
   "cell_type": "markdown",
   "metadata": {},
   "source": [
    "# Run an update step of the Bayes Filter"
   ]
  },
  {
   "cell_type": "code",
   "execution_count": 23,
   "metadata": {},
   "outputs": [
    {
     "name": "stdout",
     "output_type": "stream",
     "text": [
      "(-1.0006561999999999, -2.99868776)\n",
      "(5.00000016, 1.0006561999999999)\n",
      "(2.99868776, -2.99868776)\n"
     ]
    }
   ],
   "source": [
    "# Reset Plots\n",
    "cmdr.reset_plotter()\n",
    "\n",
    "def ft2m(pt):\n",
    "    m = 0.3048\n",
    "    return (pt[0] * m, pt[1] * m)\n",
    "\n",
    "def m2ft(pt):\n",
    "    m = 3.28084\n",
    "    return (pt[0] * m, pt[1] * m)\n",
    "\n",
    "gt = (0,3)\n",
    "gt = ft2m(gt)\n",
    "\n",
    "bel = (-0.305,-0.914)\n",
    "cmdr.plot_bel(bel[0], bel[1])\n",
    "print(m2ft(bel))\n",
    "\n",
    "bel = (1.524,0.305)\n",
    "cmdr.plot_bel(bel[0], bel[1])\n",
    "print(m2ft(bel))\n",
    "\n",
    "bel = (0.914,-0.914)\n",
    "cmdr.plot_bel(bel[0], bel[1])\n",
    "print(m2ft(bel))\n",
    "\n",
    "cmdr.plot_gt(gt[0], gt[1])"
   ]
  },
  {
   "cell_type": "markdown",
   "metadata": {},
   "source": [
    "# "
   ]
  },
  {
   "cell_type": "code",
   "execution_count": null,
   "metadata": {},
   "outputs": [],
   "source": []
  }
 ],
 "metadata": {
  "kernelspec": {
   "display_name": "Python 3 (ipykernel)",
   "language": "python",
   "name": "python3"
  },
  "language_info": {
   "codemirror_mode": {
    "name": "ipython",
    "version": 3
   },
   "file_extension": ".py",
   "mimetype": "text/x-python",
   "name": "python",
   "nbconvert_exporter": "python",
   "pygments_lexer": "ipython3",
   "version": "3.10.4"
  }
 },
 "nbformat": 4,
 "nbformat_minor": 4
}
