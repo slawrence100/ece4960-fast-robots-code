{
 "cells": [
  {
   "cell_type": "markdown",
   "metadata": {},
   "source": [
    "## Lab 13: Path Planning and Execution (real)"
   ]
  },
  {
   "cell_type": "markdown",
   "metadata": {},
   "source": [
    "### Plan\n",
    "\n"
   ]
  },
  {
   "cell_type": "markdown",
   "metadata": {},
   "source": [
    "**Goal:** Navigate through a series of waypoints as quickly and accurately as possible.\n",
    "\n",
    "**Process:**\n",
    "1. Use the Bayes filter to establish a belief about the robot's initial position\n",
    "2. Find the next waypoint in the list of waypoints to navigate\n",
    "3. Calculate the control (change in angle, change in distance) needed to get to the waypoint\n",
    "4. Use turn_degrees() to turn\n",
    "5. Move forward with ToF-based PID (and ToF averaging because of all the noise)\n",
    "6. Spin around and localize again to make sure you're on track\n",
    "7. Repeat until you've seen all the waypoints"
   ]
  },
  {
   "cell_type": "markdown",
   "metadata": {},
   "source": [
    "### Setup"
   ]
  },
  {
   "cell_type": "code",
   "execution_count": 2,
   "metadata": {},
   "outputs": [
    {
     "name": "stdout",
     "output_type": "stream",
     "text": [
      "The autoreload extension is already loaded. To reload it, use:\n",
      "  %reload_ext autoreload\n",
      "2022-05-14 14:41:47,769 |\u001b[32m INFO     \u001b[0m|: Logger demo_notebook.log already initialized.\n",
      "2022-05-14 14:41:47,771 |\u001b[32m INFO     \u001b[0m|: GUI is already running. Shutdown notebook to force restart the GUI.\n",
      "2022-05-14 14:41:47,772 |\u001b[31m ERROR    \u001b[0m|: Plotter is already running\n"
     ]
    }
   ],
   "source": [
    "%load_ext autoreload\n",
    "%autoreload 2\n",
    "\n",
    "import traceback\n",
    "from notebook_utils import *\n",
    "from Traj import *\n",
    "import asyncio\n",
    "import pathlib\n",
    "import os\n",
    "from utils import load_config_params\n",
    "from localization_extras import Localization\n",
    "\n",
    "# The imports below will only work if you copied the required ble-related python files \n",
    "# into the notebooks directory\n",
    "from ble import get_ble_controller\n",
    "from base_ble import LOG\n",
    "from cmd_types import CMD\n",
    "import numpy as np\n",
    "\n",
    "# Setup Logger\n",
    "LOG = get_logger('demo_notebook.log')\n",
    "LOG.propagate = False\n",
    "\n",
    "# Init GUI and Commander\n",
    "gui = GET_GUI()\n",
    "cmdr = gui.launcher.commander\n",
    "\n",
    "START_PLOTTER()"
   ]
  },
  {
   "cell_type": "markdown",
   "metadata": {},
   "source": [
    "### Set up the robot "
   ]
  },
  {
   "cell_type": "code",
   "execution_count": 3,
   "metadata": {
    "tags": []
   },
   "outputs": [],
   "source": [
    "class RealRobot():\n",
    "    \"\"\"A class to interact with the real robot\n",
    "    \"\"\"\n",
    "    def __init__(self, commander, ble):\n",
    "        # Load world config\n",
    "        self.world_config = os.path.join(str(pathlib.Path(os.getcwd()).parent), \"config\", \"world.yaml\")\n",
    "        \n",
    "        self.config_params = load_config_params(self.world_config)\n",
    "        \n",
    "        # Commander to commuincate with the Plotter process\n",
    "        # Used by the Localization module to plot odom and belief\n",
    "        self.cmdr = commander\n",
    "\n",
    "        # ArtemisBLEController to communicate with the Robot\n",
    "        self.ble = ble\n",
    "\n",
    "        # Data collection stuff\n",
    "        self.dist_data = []\n",
    "        self.angle_data = []\n",
    "        \n",
    "        # Current pose tracking\n",
    "        self.current_pose = (0,0,0)\n",
    "\n",
    "        self.setup_notify()\n",
    "        \n",
    "\n",
    "    def setup_notify(self):\n",
    "        # print(\"Notifications started\")\n",
    "        ble.start_notify(ble.uuid['RX_TOF1'], self.tof1_callback_handler)\n",
    "        # print(ble.uuid['RX_TOF1'])\n",
    "        ble.start_notify(ble.uuid['RX_IMU_PITCH'], self.imu_pitch_callback_handler)\n",
    "\n",
    "    def tof1_callback_handler(self, uuid, byte_array):\n",
    "        new_tof = self.ble.bytearray_to_float(byte_array)\n",
    "        # print(f\"Got TOF data: {new_tof}\")\n",
    "        self.dist_data.append(new_tof)\n",
    "\n",
    "    def imu_pitch_callback_handler(self, uuid, byte_array):\n",
    "        new_angle = self.ble.bytearray_to_float(byte_array)\n",
    "        # print(f\"Got angle data: {new_angle}\")\n",
    "        self.angle_data.append( new_angle )\n",
    "        \n",
    "    def set_params(self, pid_p_rot, pid_min_power_rot, pid_p_fwd, pid_min_power_fwd, imu_hz):\n",
    "        self.ble.send_command(CMD.SET_PID, f\"{pid_p_rot}|{pid_min_power_rot}|{pid_p_fwd}|{pid_min_power_fwd}|{imu_hz}\"); \n",
    "\n",
    "    def set_motor_calib(self, calib_rot, calib_fwd):\n",
    "        self.ble.send_command(CMD.SET_MOTOR_CALIB, f\"{calib_rot}|{calib_fwd}\")\n",
    "        \n",
    "    def move_distance(self, dist_mm):\n",
    "        self.ble.send_command(CMD.MOVE_DISTANCE, dist_mm)\n",
    "\n",
    "    def turn_degrees(self, angle):\n",
    "        self.ble.send_command(CMD.TURN_DEGREES, angle)\n",
    "        \n",
    "    def move_duration(self, power, duration, pause=False):\n",
    "        self.ble.send_command(CMD.MOVE_DURATION, f\"{power}|{duration}\")\n",
    "        time.sleep(duration / 1000)\n",
    "        if pause:\n",
    "            robot.move_duration(0,250, pause=False)\n",
    "            \n",
    "\n",
    "    def dist_to_time(self, d):\n",
    "        # distance (cm) to time (ms)\n",
    "        # return round(69.04669* (d**0.644513))\n",
    "        return round(60 * (d**0.644513))\n",
    "    \n",
    "    def move_dist_as_duration(self, dist, pause=False):\n",
    "        t = self.dist_to_time(dist / 10)\n",
    "        self.move_duration(75, t, pause=pause)\n",
    "        \n",
    "    def get_pose(self):\n",
    "        \"\"\"Get robot pose based on odometry\n",
    "        \n",
    "        Returns:\n",
    "            current_odom -- Odometry Pose (meters, meters, degrees)\n",
    "        \"\"\"\n",
    "        return self.current_pose\n",
    "\n",
    "    def perform_observation_loop(self, rot_vel=120):\n",
    "        \"\"\"Perform the observation loop behavior on the real robot, where the robot does  \n",
    "        a 360 degree turn in place while collecting equidistant (in the angular space) sensor\n",
    "        readings, with the first sensor reading taken at the robot's current heading. \n",
    "        The number of sensor readings depends on \"observations_count\"(=18) defined in world.yaml.\n",
    "        \n",
    "        Keyword arguments:\n",
    "            rot_vel -- (Optional) Angular Velocity for loop (degrees/second)\n",
    "                        Do not remove this parameter from the function definition, even if you don't use it.\n",
    "        Returns:\n",
    "            sensor_ranges   -- A column numpy array of the range values (meters)\n",
    "            sensor_bearings -- A column numpy array of the bearings at which the sensor readings were taken (degrees)\n",
    "                               The bearing values are not used in the Localization module, so you may return a empty numpy array\n",
    "        \"\"\"\n",
    "        # Clear old data if it exists\n",
    "        self.dist_data = []\n",
    "        self.angle_data = []\n",
    "        self.ble.send_command(CMD.OBSERVE, None)\n",
    "        while len(self.dist_data) < 18 or len(self.angle_data) < 18:\n",
    "            # print(\"Data still sending, waiting\")\n",
    "            self.dist_data = []\n",
    "            self.angle_data = []\n",
    "            time.sleep(1)\n",
    "            self.ble.send_command(CMD.GET_DATA, None) # try again for command not sent?\n",
    "        self.dist_data = [x / 1000 for x in self.dist_data]\n",
    "        temp_angles = []\n",
    "        temp_sum = 0\n",
    "        for i,angle in enumerate(self.angle_data):\n",
    "            temp_sum -= angle\n",
    "            temp_angles.append(temp_sum)\n",
    "        self.angle_data = temp_angles\n",
    "        print(\"Observation loop complete\")\n",
    "        print(f\"Distance data: {self.dist_data}\")\n",
    "        print(f\"Angle data: {self.angle_data}\")\n",
    "        print(\"\")\n",
    "        return np.array(self.dist_data).reshape((18,1)), np.array(self.angle_data).reshape((18,1))\n",
    "\n",
    "def ft2meters(pt):\n",
    "    meters_in_one_foot = 0.3048\n",
    "    return (pt[0] * meters_in_one_foot, pt[1] * meters_in_one_foot)\n",
    "\n"
   ]
  },
  {
   "cell_type": "markdown",
   "metadata": {},
   "source": [
    "### Connect via Bluetooth"
   ]
  },
  {
   "cell_type": "code",
   "execution_count": 17,
   "metadata": {},
   "outputs": [
    {
     "name": "stdout",
     "output_type": "stream",
     "text": [
      "2022-05-14 14:50:33,087 |\u001b[32m INFO     \u001b[0m|: Looking for Artemis Nano Peripheral Device: C0:07:21:8D:B3:44\n",
      "2022-05-14 14:50:37,558 |\u001b[32m INFO     \u001b[0m|: Connected to C0:07:21:8D:B3:44\n",
      "Ready\n"
     ]
    }
   ],
   "source": [
    "# Get ArtemisBLEController object\n",
    "ble = get_ble_controller()\n",
    "\n",
    "# Connect to the Artemis Device\n",
    "ble.connect()\n",
    "\n",
    "time.sleep(3)\n",
    "\n",
    "# Initialize RealRobot with a Commander object to communicate with the plotter process\n",
    "# and the ArtemisBLEController object to communicate with the real robot\n",
    "robot = RealRobot(cmdr, ble)\n",
    "print(\"Ready\")\n"
   ]
  },
  {
   "cell_type": "code",
   "execution_count": 23,
   "metadata": {},
   "outputs": [
    {
     "name": "stdout",
     "output_type": "stream",
     "text": [
      "beginning test\n"
     ]
    },
    {
     "ename": "Exception",
     "evalue": "Not connected to a BLE device",
     "output_type": "error",
     "traceback": [
      "\u001b[0;31m---------------------------------------------------------------------------\u001b[0m",
      "\u001b[0;31mException\u001b[0m                                 Traceback (most recent call last)",
      "Input \u001b[0;32mIn [23]\u001b[0m, in \u001b[0;36m<cell line: 6>\u001b[0;34m()\u001b[0m\n\u001b[1;32m      4\u001b[0m \u001b[38;5;28mprint\u001b[39m(\u001b[38;5;124m\"\u001b[39m\u001b[38;5;124mbeginning test\u001b[39m\u001b[38;5;124m\"\u001b[39m)\n\u001b[1;32m      5\u001b[0m \u001b[38;5;66;03m# Params: PID_P_ROT, PID_MIN_ROT, PID_P_FWD, PID_MIN_FWD, IMU_HZ\u001b[39;00m\n\u001b[0;32m----> 6\u001b[0m \u001b[43mrobot\u001b[49m\u001b[38;5;241;43m.\u001b[39;49m\u001b[43mset_params\u001b[49m\u001b[43m(\u001b[49m\u001b[38;5;241;43m4\u001b[39;49m\u001b[43m,\u001b[49m\u001b[43m \u001b[49m\u001b[38;5;241;43m100\u001b[39;49m\u001b[43m,\u001b[49m\u001b[43m \u001b[49m\u001b[38;5;241;43m0.5\u001b[39;49m\u001b[43m,\u001b[49m\u001b[43m \u001b[49m\u001b[38;5;241;43m35\u001b[39;49m\u001b[43m,\u001b[49m\u001b[43m \u001b[49m\u001b[38;5;241;43m60\u001b[39;49m\u001b[43m)\u001b[49m \u001b[38;5;66;03m# Old: 1.4 / 80 / 0.5 / 35 / 60\u001b[39;00m\n\u001b[1;32m      8\u001b[0m \u001b[38;5;66;03m# Params: Rotational, then Forward\u001b[39;00m\n\u001b[1;32m      9\u001b[0m robot\u001b[38;5;241m.\u001b[39mset_motor_calib(\u001b[38;5;241m1.3\u001b[39m, \u001b[38;5;241m1.5\u001b[39m) \u001b[38;5;66;03m# Old: 1.5, 1\u001b[39;00m\n",
      "Input \u001b[0;32mIn [3]\u001b[0m, in \u001b[0;36mRealRobot.set_params\u001b[0;34m(self, pid_p_rot, pid_min_power_rot, pid_p_fwd, pid_min_power_fwd, imu_hz)\u001b[0m\n\u001b[1;32m     43\u001b[0m \u001b[38;5;28;01mdef\u001b[39;00m \u001b[38;5;21mset_params\u001b[39m(\u001b[38;5;28mself\u001b[39m, pid_p_rot, pid_min_power_rot, pid_p_fwd, pid_min_power_fwd, imu_hz):\n\u001b[0;32m---> 44\u001b[0m     \u001b[38;5;28;43mself\u001b[39;49m\u001b[38;5;241;43m.\u001b[39;49m\u001b[43mble\u001b[49m\u001b[38;5;241;43m.\u001b[39;49m\u001b[43msend_command\u001b[49m\u001b[43m(\u001b[49m\u001b[43mCMD\u001b[49m\u001b[38;5;241;43m.\u001b[39;49m\u001b[43mSET_PID\u001b[49m\u001b[43m,\u001b[49m\u001b[43m \u001b[49m\u001b[38;5;124;43mf\u001b[39;49m\u001b[38;5;124;43m\"\u001b[39;49m\u001b[38;5;132;43;01m{\u001b[39;49;00m\u001b[43mpid_p_rot\u001b[49m\u001b[38;5;132;43;01m}\u001b[39;49;00m\u001b[38;5;124;43m|\u001b[39;49m\u001b[38;5;132;43;01m{\u001b[39;49;00m\u001b[43mpid_min_power_rot\u001b[49m\u001b[38;5;132;43;01m}\u001b[39;49;00m\u001b[38;5;124;43m|\u001b[39;49m\u001b[38;5;132;43;01m{\u001b[39;49;00m\u001b[43mpid_p_fwd\u001b[49m\u001b[38;5;132;43;01m}\u001b[39;49;00m\u001b[38;5;124;43m|\u001b[39;49m\u001b[38;5;132;43;01m{\u001b[39;49;00m\u001b[43mpid_min_power_fwd\u001b[49m\u001b[38;5;132;43;01m}\u001b[39;49;00m\u001b[38;5;124;43m|\u001b[39;49m\u001b[38;5;132;43;01m{\u001b[39;49;00m\u001b[43mimu_hz\u001b[49m\u001b[38;5;132;43;01m}\u001b[39;49;00m\u001b[38;5;124;43m\"\u001b[39;49m\u001b[43m)\u001b[49m\n",
      "File \u001b[0;32m~/Documents/Classes/2022-sp/ECE-4960/ece4960-fast-robots-code/lab10/ECE4960-sim-release-release-mirror/notebooks/ble.py:151\u001b[0m, in \u001b[0;36mArtemisBLEController.send_command\u001b[0;34m(self, cmd_type, data)\u001b[0m\n\u001b[1;32m    148\u001b[0m cmd_string \u001b[38;5;241m=\u001b[39m \u001b[38;5;28mstr\u001b[39m(cmd_type\u001b[38;5;241m.\u001b[39mvalue) \u001b[38;5;241m+\u001b[39m \u001b[38;5;124m\"\u001b[39m\u001b[38;5;124m:\u001b[39m\u001b[38;5;124m\"\u001b[39m \u001b[38;5;241m+\u001b[39m \u001b[38;5;28mstr\u001b[39m(data)\n\u001b[1;32m    150\u001b[0m \u001b[38;5;28;01mif\u001b[39;00m \u001b[38;5;28mlen\u001b[39m(cmd_string) \u001b[38;5;241m<\u001b[39m \u001b[38;5;28mself\u001b[39m\u001b[38;5;241m.\u001b[39mmax_write_length:\n\u001b[0;32m--> 151\u001b[0m     \u001b[38;5;28;43mself\u001b[39;49m\u001b[38;5;241;43m.\u001b[39;49m\u001b[43mwrite\u001b[49m\u001b[43m(\u001b[49m\u001b[38;5;28;43mself\u001b[39;49m\u001b[38;5;241;43m.\u001b[39;49m\u001b[43muuid\u001b[49m\u001b[43m[\u001b[49m\u001b[38;5;124;43m'\u001b[39;49m\u001b[38;5;124;43mTX_CMD_STRING\u001b[39;49m\u001b[38;5;124;43m'\u001b[39;49m\u001b[43m]\u001b[49m\u001b[43m,\u001b[49m\u001b[43m \u001b[49m\u001b[38;5;28;43mbytearray\u001b[39;49m\u001b[43m(\u001b[49m\u001b[38;5;28;43mmap\u001b[39;49m\u001b[43m(\u001b[49m\u001b[38;5;28;43mord\u001b[39;49m\u001b[43m,\u001b[49m\u001b[43m \u001b[49m\u001b[43mcmd_string\u001b[49m\u001b[43m)\u001b[49m\u001b[43m)\u001b[49m\u001b[43m)\u001b[49m\n\u001b[1;32m    152\u001b[0m \u001b[38;5;28;01melse\u001b[39;00m:\n\u001b[1;32m    153\u001b[0m     \u001b[38;5;28;01mraise\u001b[39;00m \u001b[38;5;167;01mException\u001b[39;00m(\u001b[38;5;124m\"\u001b[39m\u001b[38;5;124mCannot write string larger than \u001b[39m\u001b[38;5;132;01m{}\u001b[39;00m\u001b[38;5;124m bytes\u001b[39m\u001b[38;5;124m\"\u001b[39m\u001b[38;5;241m.\u001b[39mformat(\n\u001b[1;32m    154\u001b[0m         \u001b[38;5;28mself\u001b[39m\u001b[38;5;241m.\u001b[39mmax_write_length))\n",
      "File \u001b[0;32m~/Documents/Classes/2022-sp/ECE-4960/ece4960-fast-robots-code/lab10/ECE4960-sim-release-release-mirror/notebooks/ble.py:75\u001b[0m, in \u001b[0;36mBaseBLEController.write\u001b[0;34m(self, uuid, byte_array)\u001b[0m\n\u001b[1;32m     74\u001b[0m \u001b[38;5;28;01mdef\u001b[39;00m \u001b[38;5;21mwrite\u001b[39m(\u001b[38;5;28mself\u001b[39m, uuid, byte_array):\n\u001b[0;32m---> 75\u001b[0m     \u001b[38;5;28;43mself\u001b[39;49m\u001b[38;5;241;43m.\u001b[39;49m\u001b[43m_wait\u001b[49m\u001b[43m(\u001b[49m\u001b[38;5;28;43mself\u001b[39;49m\u001b[38;5;241;43m.\u001b[39;49m\u001b[43mdevice\u001b[49m\u001b[38;5;241;43m.\u001b[39;49m\u001b[43m_write\u001b[49m\u001b[43m(\u001b[49m\u001b[43muuid\u001b[49m\u001b[43m,\u001b[49m\u001b[43m \u001b[49m\u001b[43mbyte_array\u001b[49m\u001b[43m)\u001b[49m\u001b[43m)\u001b[49m\n",
      "File \u001b[0;32m~/Documents/Classes/2022-sp/ECE-4960/ece4960-fast-robots-code/lab10/ECE4960-sim-release-release-mirror/notebooks/base_ble.py:27\u001b[0m, in \u001b[0;36mwait_b\u001b[0;34m(coroutine)\u001b[0m\n\u001b[1;32m     26\u001b[0m \u001b[38;5;28;01mdef\u001b[39;00m \u001b[38;5;21mwait_b\u001b[39m(coroutine):\n\u001b[0;32m---> 27\u001b[0m     \u001b[38;5;28;01mreturn\u001b[39;00m \u001b[43masyncio\u001b[49m\u001b[38;5;241;43m.\u001b[39;49m\u001b[43mrun\u001b[49m\u001b[43m(\u001b[49m\u001b[43mcoroutine\u001b[49m\u001b[43m)\u001b[49m\n",
      "File \u001b[0;32m~/Documents/Classes/2022-sp/ECE-4960/ece4960-fast-robots-code/venv2/lib/python3.10/site-packages/nest_asyncio.py:35\u001b[0m, in \u001b[0;36m_patch_asyncio.<locals>.run\u001b[0;34m(main, debug)\u001b[0m\n\u001b[1;32m     33\u001b[0m task \u001b[38;5;241m=\u001b[39m asyncio\u001b[38;5;241m.\u001b[39mensure_future(main)\n\u001b[1;32m     34\u001b[0m \u001b[38;5;28;01mtry\u001b[39;00m:\n\u001b[0;32m---> 35\u001b[0m     \u001b[38;5;28;01mreturn\u001b[39;00m \u001b[43mloop\u001b[49m\u001b[38;5;241;43m.\u001b[39;49m\u001b[43mrun_until_complete\u001b[49m\u001b[43m(\u001b[49m\u001b[43mtask\u001b[49m\u001b[43m)\u001b[49m\n\u001b[1;32m     36\u001b[0m \u001b[38;5;28;01mfinally\u001b[39;00m:\n\u001b[1;32m     37\u001b[0m     \u001b[38;5;28;01mif\u001b[39;00m \u001b[38;5;129;01mnot\u001b[39;00m task\u001b[38;5;241m.\u001b[39mdone():\n",
      "File \u001b[0;32m~/Documents/Classes/2022-sp/ECE-4960/ece4960-fast-robots-code/venv2/lib/python3.10/site-packages/nest_asyncio.py:89\u001b[0m, in \u001b[0;36m_patch_loop.<locals>.run_until_complete\u001b[0;34m(self, future)\u001b[0m\n\u001b[1;32m     86\u001b[0m \u001b[38;5;28;01mif\u001b[39;00m \u001b[38;5;129;01mnot\u001b[39;00m f\u001b[38;5;241m.\u001b[39mdone():\n\u001b[1;32m     87\u001b[0m     \u001b[38;5;28;01mraise\u001b[39;00m \u001b[38;5;167;01mRuntimeError\u001b[39;00m(\n\u001b[1;32m     88\u001b[0m         \u001b[38;5;124m'\u001b[39m\u001b[38;5;124mEvent loop stopped before Future completed.\u001b[39m\u001b[38;5;124m'\u001b[39m)\n\u001b[0;32m---> 89\u001b[0m \u001b[38;5;28;01mreturn\u001b[39;00m \u001b[43mf\u001b[49m\u001b[38;5;241;43m.\u001b[39;49m\u001b[43mresult\u001b[49m\u001b[43m(\u001b[49m\u001b[43m)\u001b[49m\n",
      "File \u001b[0;32m/Library/Frameworks/Python.framework/Versions/3.10/lib/python3.10/asyncio/futures.py:201\u001b[0m, in \u001b[0;36mFuture.result\u001b[0;34m(self)\u001b[0m\n\u001b[1;32m    199\u001b[0m \u001b[38;5;28mself\u001b[39m\u001b[38;5;241m.\u001b[39m__log_traceback \u001b[38;5;241m=\u001b[39m \u001b[38;5;28;01mFalse\u001b[39;00m\n\u001b[1;32m    200\u001b[0m \u001b[38;5;28;01mif\u001b[39;00m \u001b[38;5;28mself\u001b[39m\u001b[38;5;241m.\u001b[39m_exception \u001b[38;5;129;01mis\u001b[39;00m \u001b[38;5;129;01mnot\u001b[39;00m \u001b[38;5;28;01mNone\u001b[39;00m:\n\u001b[0;32m--> 201\u001b[0m     \u001b[38;5;28;01mraise\u001b[39;00m \u001b[38;5;28mself\u001b[39m\u001b[38;5;241m.\u001b[39m_exception\n\u001b[1;32m    202\u001b[0m \u001b[38;5;28;01mreturn\u001b[39;00m \u001b[38;5;28mself\u001b[39m\u001b[38;5;241m.\u001b[39m_result\n",
      "File \u001b[0;32m/Library/Frameworks/Python.framework/Versions/3.10/lib/python3.10/asyncio/tasks.py:232\u001b[0m, in \u001b[0;36mTask.__step\u001b[0;34m(***failed resolving arguments***)\u001b[0m\n\u001b[1;32m    228\u001b[0m \u001b[38;5;28;01mtry\u001b[39;00m:\n\u001b[1;32m    229\u001b[0m     \u001b[38;5;28;01mif\u001b[39;00m exc \u001b[38;5;129;01mis\u001b[39;00m \u001b[38;5;28;01mNone\u001b[39;00m:\n\u001b[1;32m    230\u001b[0m         \u001b[38;5;66;03m# We use the `send` method directly, because coroutines\u001b[39;00m\n\u001b[1;32m    231\u001b[0m         \u001b[38;5;66;03m# don't have `__iter__` and `__next__` methods.\u001b[39;00m\n\u001b[0;32m--> 232\u001b[0m         result \u001b[38;5;241m=\u001b[39m \u001b[43mcoro\u001b[49m\u001b[38;5;241;43m.\u001b[39;49m\u001b[43msend\u001b[49m\u001b[43m(\u001b[49m\u001b[38;5;28;43;01mNone\u001b[39;49;00m\u001b[43m)\u001b[49m\n\u001b[1;32m    233\u001b[0m     \u001b[38;5;28;01melse\u001b[39;00m:\n\u001b[1;32m    234\u001b[0m         result \u001b[38;5;241m=\u001b[39m coro\u001b[38;5;241m.\u001b[39mthrow(exc)\n",
      "File \u001b[0;32m~/Documents/Classes/2022-sp/ECE-4960/ece4960-fast-robots-code/lab10/ECE4960-sim-release-release-mirror/notebooks/base_ble.py:102\u001b[0m, in \u001b[0;36mBLEAsyncDevice._write\u001b[0;34m(self, uuid, byte_array)\u001b[0m\n\u001b[1;32m    100\u001b[0m     \u001b[38;5;28;01mawait\u001b[39;00m \u001b[38;5;28mself\u001b[39m\u001b[38;5;241m.\u001b[39mclient\u001b[38;5;241m.\u001b[39mwrite_gatt_char(uuid, byte_array,response\u001b[38;5;241m=\u001b[39m\u001b[38;5;28;01mTrue\u001b[39;00m)\n\u001b[1;32m    101\u001b[0m \u001b[38;5;28;01melse\u001b[39;00m:\n\u001b[0;32m--> 102\u001b[0m     \u001b[38;5;28;01mraise\u001b[39;00m \u001b[38;5;167;01mException\u001b[39;00m(\u001b[38;5;124m\"\u001b[39m\u001b[38;5;124mNot connected to a BLE device\u001b[39m\u001b[38;5;124m\"\u001b[39m)\n",
      "\u001b[0;31mException\u001b[0m: Not connected to a BLE device"
     ]
    }
   ],
   "source": [
    "\"\"\"\n",
    "Test stuff\n",
    "\"\"\"\n",
    "print(\"beginning test\")\n",
    "# Params: PID_P_ROT, PID_MIN_ROT, PID_P_FWD, PID_MIN_FWD, IMU_HZ\n",
    "robot.set_params(4, 100, 0.5, 35, 60) # Old: 1.4 / 80 / 0.5 / 35 / 60\n",
    "\n",
    "# Params: Rotational, then Forward\n",
    "robot.set_motor_calib(1.3, 1.5) # Old: 1.5, 1\n",
    "\n",
    "robot.turn_degrees(-90)\n",
    "# robot.move_distance(300)\n",
    "# for _ in range(4):\n",
    "#     robot.move_dist_as_duration(300, pause=True)\n",
    "#     robot.turn_degrees(90)\n",
    "#     robot.move_duration(0,250)\n",
    "#     print(\"ding\")\n",
    "\n",
    "print(\"Test done\")"
   ]
  },
  {
   "cell_type": "markdown",
   "metadata": {},
   "source": [
    "### Run the Bayes Filter for inital localization"
   ]
  },
  {
   "cell_type": "code",
   "execution_count": 14,
   "metadata": {},
   "outputs": [
    {
     "name": "stdout",
     "output_type": "stream",
     "text": [
      "2022-05-14 14:47:40,674 |\u001b[32m INFO     \u001b[0m|:  | Number of observations per grid cell: 18\n",
      "2022-05-14 14:47:40,675 |\u001b[32m INFO     \u001b[0m|:  | Precaching Views...\n"
     ]
    },
    {
     "name": "stderr",
     "output_type": "stream",
     "text": [
      "/Users/main/Documents/Classes/2022-sp/ECE-4960/ece4960-fast-robots-code/lab10/ECE4960-sim-release-release-mirror/localization.py:150: RuntimeWarning: All-NaN slice encountered\n",
      "  return np.nanmin(distance_intersections_tt), intersections_tt[np.nanargmin(distance_intersections_tt)]\n"
     ]
    },
    {
     "name": "stdout",
     "output_type": "stream",
     "text": [
      "2022-05-14 14:47:44,649 |\u001b[32m INFO     \u001b[0m|:  | Precaching Time: 3.973 secs\n",
      "2022-05-14 14:47:44,650 |\u001b[32m INFO     \u001b[0m|: Initializing beliefs with a Uniform Distribution\n",
      "2022-05-14 14:47:44,651 |\u001b[32m INFO     \u001b[0m|: Uniform Belief with each cell value: 0.00051440329218107\n",
      "2022-05-14 14:47:44,859 |\u001b[32m INFO     \u001b[0m|: Initializing beliefs with a Uniform Distribution\n",
      "2022-05-14 14:47:44,860 |\u001b[32m INFO     \u001b[0m|: Uniform Belief with each cell value: 0.00051440329218107\n"
     ]
    }
   ],
   "source": [
    "# Initialize mapper\n",
    "# Requires a VirtualRobot object as a parameter\n",
    "mapper = Mapper(robot)\n",
    "\n",
    "# Initialize your BaseLocalization object\n",
    "# Requires a RealRobot object and a Mapper object as parameters\n",
    "loc = Localization(robot, mapper)\n",
    "\n",
    "## Plot Map\n",
    "cmdr.plot_map()\n",
    "\n",
    "# Reset Robot and Plots\n",
    "# robot.reset()\n",
    "cmdr.reset_plotter()\n",
    "\n",
    "# Init Uniform Belief\n",
    "loc.init_grid_beliefs()\n",
    "\n",
    "# Get Observation Data by executing a 360 degree rotation motion\n",
    "# then update\n",
    "# loc.get_observation_data()\n",
    "\n",
    "# loc.update_step()\n",
    "# loc.print_update_stats(plot_data=True)\n",
    "\n",
    "# Plot Odom and GT\n",
    "current_odom = robot.get_pose()\n",
    "cmdr.plot_odom(current_odom[0], current_odom[1])"
   ]
  },
  {
   "cell_type": "markdown",
   "metadata": {},
   "source": [
    "### Follow the trajectory"
   ]
  },
  {
   "cell_type": "code",
   "execution_count": 43,
   "metadata": {},
   "outputs": [],
   "source": []
  },
  {
   "cell_type": "code",
   "execution_count": 15,
   "metadata": {},
   "outputs": [
    {
     "name": "stdout",
     "output_type": "stream",
     "text": [
      "(-1.2192, -0.9144000000000001, 0) -> (-0.6096, -0.3048)\n",
      "Computing control: (-1.2192, -0.9144000000000001, 0) -> (-0.6096, -0.3048, 0.0)\n",
      "Control: (45.00000000000001, 0.8621045876226389, -45.00000000000001)\n",
      "\n",
      "(-0.6096, -0.3048, 0.0) -> (0.3048, -0.3048)\n",
      "Computing control: (-0.6096, -0.3048, 0.0) -> (0.3048, -0.3048, 0)\n",
      "Control: (0.0, 0.9144000000000001, 0.0)\n",
      "\n",
      "2022-05-14 14:49:14,128 |\u001b[32m INFO     \u001b[0m|: Disconnected from 7AE0A3CC-63D5-13D9-39BA-D29A7DC67D14\n"
     ]
    },
    {
     "ename": "BleakError",
     "evalue": "disconnected",
     "output_type": "error",
     "traceback": [
      "\u001b[0;31m---------------------------------------------------------------------------\u001b[0m",
      "\u001b[0;31mBleakError\u001b[0m                                Traceback (most recent call last)",
      "Input \u001b[0;32mIn [15]\u001b[0m, in \u001b[0;36m<cell line: 28>\u001b[0;34m()\u001b[0m\n\u001b[1;32m     57\u001b[0m robot\u001b[38;5;241m.\u001b[39mmove_distance(x1\u001b[38;5;241m*\u001b[39m\u001b[38;5;241m1000\u001b[39m)\n\u001b[1;32m     58\u001b[0m \u001b[38;5;66;03m# robot.move_dist_as_duration(x1*1000, pause=True)\u001b[39;00m\n\u001b[0;32m---> 59\u001b[0m \u001b[43mrobot\u001b[49m\u001b[38;5;241;43m.\u001b[39;49m\u001b[43mturn_degrees\u001b[49m\u001b[43m(\u001b[49m\u001b[38;5;241;43m-\u001b[39;49m\u001b[38;5;241;43m1\u001b[39;49m\u001b[38;5;241;43m*\u001b[39;49m\u001b[43ma2\u001b[49m\u001b[43m)\u001b[49m\n\u001b[1;32m     60\u001b[0m robot\u001b[38;5;241m.\u001b[39mmove_duration(\u001b[38;5;241m0\u001b[39m,\u001b[38;5;241m250\u001b[39m)\n\u001b[1;32m     62\u001b[0m current_loc \u001b[38;5;241m=\u001b[39m (dx,dy,da)\n",
      "Input \u001b[0;32mIn [3]\u001b[0m, in \u001b[0;36mRealRobot.turn_degrees\u001b[0;34m(self, angle)\u001b[0m\n\u001b[1;32m     52\u001b[0m \u001b[38;5;28;01mdef\u001b[39;00m \u001b[38;5;21mturn_degrees\u001b[39m(\u001b[38;5;28mself\u001b[39m, angle):\n\u001b[0;32m---> 53\u001b[0m     \u001b[38;5;28;43mself\u001b[39;49m\u001b[38;5;241;43m.\u001b[39;49m\u001b[43mble\u001b[49m\u001b[38;5;241;43m.\u001b[39;49m\u001b[43msend_command\u001b[49m\u001b[43m(\u001b[49m\u001b[43mCMD\u001b[49m\u001b[38;5;241;43m.\u001b[39;49m\u001b[43mTURN_DEGREES\u001b[49m\u001b[43m,\u001b[49m\u001b[43m \u001b[49m\u001b[43mangle\u001b[49m\u001b[43m)\u001b[49m\n",
      "File \u001b[0;32m~/Documents/Classes/2022-sp/ECE-4960/ece4960-fast-robots-code/lab10/ECE4960-sim-release-release-mirror/notebooks/ble.py:151\u001b[0m, in \u001b[0;36mArtemisBLEController.send_command\u001b[0;34m(self, cmd_type, data)\u001b[0m\n\u001b[1;32m    148\u001b[0m cmd_string \u001b[38;5;241m=\u001b[39m \u001b[38;5;28mstr\u001b[39m(cmd_type\u001b[38;5;241m.\u001b[39mvalue) \u001b[38;5;241m+\u001b[39m \u001b[38;5;124m\"\u001b[39m\u001b[38;5;124m:\u001b[39m\u001b[38;5;124m\"\u001b[39m \u001b[38;5;241m+\u001b[39m \u001b[38;5;28mstr\u001b[39m(data)\n\u001b[1;32m    150\u001b[0m \u001b[38;5;28;01mif\u001b[39;00m \u001b[38;5;28mlen\u001b[39m(cmd_string) \u001b[38;5;241m<\u001b[39m \u001b[38;5;28mself\u001b[39m\u001b[38;5;241m.\u001b[39mmax_write_length:\n\u001b[0;32m--> 151\u001b[0m     \u001b[38;5;28;43mself\u001b[39;49m\u001b[38;5;241;43m.\u001b[39;49m\u001b[43mwrite\u001b[49m\u001b[43m(\u001b[49m\u001b[38;5;28;43mself\u001b[39;49m\u001b[38;5;241;43m.\u001b[39;49m\u001b[43muuid\u001b[49m\u001b[43m[\u001b[49m\u001b[38;5;124;43m'\u001b[39;49m\u001b[38;5;124;43mTX_CMD_STRING\u001b[39;49m\u001b[38;5;124;43m'\u001b[39;49m\u001b[43m]\u001b[49m\u001b[43m,\u001b[49m\u001b[43m \u001b[49m\u001b[38;5;28;43mbytearray\u001b[39;49m\u001b[43m(\u001b[49m\u001b[38;5;28;43mmap\u001b[39;49m\u001b[43m(\u001b[49m\u001b[38;5;28;43mord\u001b[39;49m\u001b[43m,\u001b[49m\u001b[43m \u001b[49m\u001b[43mcmd_string\u001b[49m\u001b[43m)\u001b[49m\u001b[43m)\u001b[49m\u001b[43m)\u001b[49m\n\u001b[1;32m    152\u001b[0m \u001b[38;5;28;01melse\u001b[39;00m:\n\u001b[1;32m    153\u001b[0m     \u001b[38;5;28;01mraise\u001b[39;00m \u001b[38;5;167;01mException\u001b[39;00m(\u001b[38;5;124m\"\u001b[39m\u001b[38;5;124mCannot write string larger than \u001b[39m\u001b[38;5;132;01m{}\u001b[39;00m\u001b[38;5;124m bytes\u001b[39m\u001b[38;5;124m\"\u001b[39m\u001b[38;5;241m.\u001b[39mformat(\n\u001b[1;32m    154\u001b[0m         \u001b[38;5;28mself\u001b[39m\u001b[38;5;241m.\u001b[39mmax_write_length))\n",
      "File \u001b[0;32m~/Documents/Classes/2022-sp/ECE-4960/ece4960-fast-robots-code/lab10/ECE4960-sim-release-release-mirror/notebooks/ble.py:75\u001b[0m, in \u001b[0;36mBaseBLEController.write\u001b[0;34m(self, uuid, byte_array)\u001b[0m\n\u001b[1;32m     74\u001b[0m \u001b[38;5;28;01mdef\u001b[39;00m \u001b[38;5;21mwrite\u001b[39m(\u001b[38;5;28mself\u001b[39m, uuid, byte_array):\n\u001b[0;32m---> 75\u001b[0m     \u001b[38;5;28;43mself\u001b[39;49m\u001b[38;5;241;43m.\u001b[39;49m\u001b[43m_wait\u001b[49m\u001b[43m(\u001b[49m\u001b[38;5;28;43mself\u001b[39;49m\u001b[38;5;241;43m.\u001b[39;49m\u001b[43mdevice\u001b[49m\u001b[38;5;241;43m.\u001b[39;49m\u001b[43m_write\u001b[49m\u001b[43m(\u001b[49m\u001b[43muuid\u001b[49m\u001b[43m,\u001b[49m\u001b[43m \u001b[49m\u001b[43mbyte_array\u001b[49m\u001b[43m)\u001b[49m\u001b[43m)\u001b[49m\n",
      "File \u001b[0;32m~/Documents/Classes/2022-sp/ECE-4960/ece4960-fast-robots-code/lab10/ECE4960-sim-release-release-mirror/notebooks/base_ble.py:27\u001b[0m, in \u001b[0;36mwait_b\u001b[0;34m(coroutine)\u001b[0m\n\u001b[1;32m     26\u001b[0m \u001b[38;5;28;01mdef\u001b[39;00m \u001b[38;5;21mwait_b\u001b[39m(coroutine):\n\u001b[0;32m---> 27\u001b[0m     \u001b[38;5;28;01mreturn\u001b[39;00m \u001b[43masyncio\u001b[49m\u001b[38;5;241;43m.\u001b[39;49m\u001b[43mrun\u001b[49m\u001b[43m(\u001b[49m\u001b[43mcoroutine\u001b[49m\u001b[43m)\u001b[49m\n",
      "File \u001b[0;32m~/Documents/Classes/2022-sp/ECE-4960/ece4960-fast-robots-code/venv2/lib/python3.10/site-packages/nest_asyncio.py:35\u001b[0m, in \u001b[0;36m_patch_asyncio.<locals>.run\u001b[0;34m(main, debug)\u001b[0m\n\u001b[1;32m     33\u001b[0m task \u001b[38;5;241m=\u001b[39m asyncio\u001b[38;5;241m.\u001b[39mensure_future(main)\n\u001b[1;32m     34\u001b[0m \u001b[38;5;28;01mtry\u001b[39;00m:\n\u001b[0;32m---> 35\u001b[0m     \u001b[38;5;28;01mreturn\u001b[39;00m \u001b[43mloop\u001b[49m\u001b[38;5;241;43m.\u001b[39;49m\u001b[43mrun_until_complete\u001b[49m\u001b[43m(\u001b[49m\u001b[43mtask\u001b[49m\u001b[43m)\u001b[49m\n\u001b[1;32m     36\u001b[0m \u001b[38;5;28;01mfinally\u001b[39;00m:\n\u001b[1;32m     37\u001b[0m     \u001b[38;5;28;01mif\u001b[39;00m \u001b[38;5;129;01mnot\u001b[39;00m task\u001b[38;5;241m.\u001b[39mdone():\n",
      "File \u001b[0;32m~/Documents/Classes/2022-sp/ECE-4960/ece4960-fast-robots-code/venv2/lib/python3.10/site-packages/nest_asyncio.py:89\u001b[0m, in \u001b[0;36m_patch_loop.<locals>.run_until_complete\u001b[0;34m(self, future)\u001b[0m\n\u001b[1;32m     86\u001b[0m \u001b[38;5;28;01mif\u001b[39;00m \u001b[38;5;129;01mnot\u001b[39;00m f\u001b[38;5;241m.\u001b[39mdone():\n\u001b[1;32m     87\u001b[0m     \u001b[38;5;28;01mraise\u001b[39;00m \u001b[38;5;167;01mRuntimeError\u001b[39;00m(\n\u001b[1;32m     88\u001b[0m         \u001b[38;5;124m'\u001b[39m\u001b[38;5;124mEvent loop stopped before Future completed.\u001b[39m\u001b[38;5;124m'\u001b[39m)\n\u001b[0;32m---> 89\u001b[0m \u001b[38;5;28;01mreturn\u001b[39;00m \u001b[43mf\u001b[49m\u001b[38;5;241;43m.\u001b[39;49m\u001b[43mresult\u001b[49m\u001b[43m(\u001b[49m\u001b[43m)\u001b[49m\n",
      "File \u001b[0;32m/Library/Frameworks/Python.framework/Versions/3.10/lib/python3.10/asyncio/futures.py:201\u001b[0m, in \u001b[0;36mFuture.result\u001b[0;34m(self)\u001b[0m\n\u001b[1;32m    199\u001b[0m \u001b[38;5;28mself\u001b[39m\u001b[38;5;241m.\u001b[39m__log_traceback \u001b[38;5;241m=\u001b[39m \u001b[38;5;28;01mFalse\u001b[39;00m\n\u001b[1;32m    200\u001b[0m \u001b[38;5;28;01mif\u001b[39;00m \u001b[38;5;28mself\u001b[39m\u001b[38;5;241m.\u001b[39m_exception \u001b[38;5;129;01mis\u001b[39;00m \u001b[38;5;129;01mnot\u001b[39;00m \u001b[38;5;28;01mNone\u001b[39;00m:\n\u001b[0;32m--> 201\u001b[0m     \u001b[38;5;28;01mraise\u001b[39;00m \u001b[38;5;28mself\u001b[39m\u001b[38;5;241m.\u001b[39m_exception\n\u001b[1;32m    202\u001b[0m \u001b[38;5;28;01mreturn\u001b[39;00m \u001b[38;5;28mself\u001b[39m\u001b[38;5;241m.\u001b[39m_result\n",
      "File \u001b[0;32m/Library/Frameworks/Python.framework/Versions/3.10/lib/python3.10/asyncio/tasks.py:234\u001b[0m, in \u001b[0;36mTask.__step\u001b[0;34m(***failed resolving arguments***)\u001b[0m\n\u001b[1;32m    232\u001b[0m         result \u001b[38;5;241m=\u001b[39m coro\u001b[38;5;241m.\u001b[39msend(\u001b[38;5;28;01mNone\u001b[39;00m)\n\u001b[1;32m    233\u001b[0m     \u001b[38;5;28;01melse\u001b[39;00m:\n\u001b[0;32m--> 234\u001b[0m         result \u001b[38;5;241m=\u001b[39m \u001b[43mcoro\u001b[49m\u001b[38;5;241;43m.\u001b[39;49m\u001b[43mthrow\u001b[49m\u001b[43m(\u001b[49m\u001b[43mexc\u001b[49m\u001b[43m)\u001b[49m\n\u001b[1;32m    235\u001b[0m \u001b[38;5;28;01mexcept\u001b[39;00m \u001b[38;5;167;01mStopIteration\u001b[39;00m \u001b[38;5;28;01mas\u001b[39;00m exc:\n\u001b[1;32m    236\u001b[0m     \u001b[38;5;28;01mif\u001b[39;00m \u001b[38;5;28mself\u001b[39m\u001b[38;5;241m.\u001b[39m_must_cancel:\n\u001b[1;32m    237\u001b[0m         \u001b[38;5;66;03m# Task is cancelled right before coro stops.\u001b[39;00m\n",
      "File \u001b[0;32m~/Documents/Classes/2022-sp/ECE-4960/ece4960-fast-robots-code/lab10/ECE4960-sim-release-release-mirror/notebooks/base_ble.py:100\u001b[0m, in \u001b[0;36mBLEAsyncDevice._write\u001b[0;34m(self, uuid, byte_array)\u001b[0m\n\u001b[1;32m     98\u001b[0m \u001b[38;5;28;01masync\u001b[39;00m \u001b[38;5;28;01mdef\u001b[39;00m \u001b[38;5;21m_write\u001b[39m(\u001b[38;5;28mself\u001b[39m, uuid, byte_array):\n\u001b[1;32m     99\u001b[0m     \u001b[38;5;28;01mif\u001b[39;00m \u001b[38;5;28mself\u001b[39m\u001b[38;5;241m.\u001b[39mclient \u001b[38;5;129;01mand\u001b[39;00m \u001b[38;5;28mself\u001b[39m\u001b[38;5;241m.\u001b[39mclient\u001b[38;5;241m.\u001b[39mis_connected:\n\u001b[0;32m--> 100\u001b[0m         \u001b[38;5;28;01mawait\u001b[39;00m \u001b[38;5;28mself\u001b[39m\u001b[38;5;241m.\u001b[39mclient\u001b[38;5;241m.\u001b[39mwrite_gatt_char(uuid, byte_array,response\u001b[38;5;241m=\u001b[39m\u001b[38;5;28;01mTrue\u001b[39;00m)\n\u001b[1;32m    101\u001b[0m     \u001b[38;5;28;01melse\u001b[39;00m:\n\u001b[1;32m    102\u001b[0m         \u001b[38;5;28;01mraise\u001b[39;00m \u001b[38;5;167;01mException\u001b[39;00m(\u001b[38;5;124m\"\u001b[39m\u001b[38;5;124mNot connected to a BLE device\u001b[39m\u001b[38;5;124m\"\u001b[39m)\n",
      "File \u001b[0;32m~/Documents/Classes/2022-sp/ECE-4960/ece4960-fast-robots-code/venv2/lib/python3.10/site-packages/bleak/backends/corebluetooth/client.py:319\u001b[0m, in \u001b[0;36mBleakClientCoreBluetooth.write_gatt_char\u001b[0;34m(self, char_specifier, data, response)\u001b[0m\n\u001b[1;32m    316\u001b[0m     \u001b[38;5;28;01mraise\u001b[39;00m BleakError(\u001b[38;5;124m\"\u001b[39m\u001b[38;5;124mCharacteristic \u001b[39m\u001b[38;5;132;01m{}\u001b[39;00m\u001b[38;5;124m was not found!\u001b[39m\u001b[38;5;124m\"\u001b[39m\u001b[38;5;241m.\u001b[39mformat(char_specifier))\n\u001b[1;32m    318\u001b[0m value \u001b[38;5;241m=\u001b[39m NSData\u001b[38;5;241m.\u001b[39malloc()\u001b[38;5;241m.\u001b[39minitWithBytes_length_(data, \u001b[38;5;28mlen\u001b[39m(data))\n\u001b[0;32m--> 319\u001b[0m \u001b[38;5;28;01mawait\u001b[39;00m \u001b[38;5;28mself\u001b[39m\u001b[38;5;241m.\u001b[39m_delegate\u001b[38;5;241m.\u001b[39mwrite_characteristic(\n\u001b[1;32m    320\u001b[0m     characteristic\u001b[38;5;241m.\u001b[39mobj,\n\u001b[1;32m    321\u001b[0m     value,\n\u001b[1;32m    322\u001b[0m     CBCharacteristicWriteWithResponse\n\u001b[1;32m    323\u001b[0m     \u001b[38;5;28;01mif\u001b[39;00m response\n\u001b[1;32m    324\u001b[0m     \u001b[38;5;28;01melse\u001b[39;00m CBCharacteristicWriteWithoutResponse,\n\u001b[1;32m    325\u001b[0m )\n\u001b[1;32m    326\u001b[0m logger\u001b[38;5;241m.\u001b[39mdebug(\u001b[38;5;124mf\u001b[39m\u001b[38;5;124m\"\u001b[39m\u001b[38;5;124mWrite Characteristic \u001b[39m\u001b[38;5;132;01m{\u001b[39;00mcharacteristic\u001b[38;5;241m.\u001b[39muuid\u001b[38;5;132;01m}\u001b[39;00m\u001b[38;5;124m : \u001b[39m\u001b[38;5;132;01m{\u001b[39;00mdata\u001b[38;5;132;01m}\u001b[39;00m\u001b[38;5;124m\"\u001b[39m)\n",
      "File \u001b[0;32m~/Documents/Classes/2022-sp/ECE-4960/ece4960-fast-robots-code/venv2/lib/python3.10/site-packages/bleak/backends/corebluetooth/PeripheralDelegate.py:181\u001b[0m, in \u001b[0;36mPeripheralDelegate.write_characteristic\u001b[0;34m(self, characteristic, value, response)\u001b[0m\n\u001b[1;32m    177\u001b[0m \u001b[38;5;28;01mtry\u001b[39;00m:\n\u001b[1;32m    178\u001b[0m     \u001b[38;5;28mself\u001b[39m\u001b[38;5;241m.\u001b[39mperipheral\u001b[38;5;241m.\u001b[39mwriteValue_forCharacteristic_type_(\n\u001b[1;32m    179\u001b[0m         value, characteristic, response\n\u001b[1;32m    180\u001b[0m     )\n\u001b[0;32m--> 181\u001b[0m     \u001b[38;5;28;01mawait\u001b[39;00m future\n\u001b[1;32m    182\u001b[0m \u001b[38;5;28;01mfinally\u001b[39;00m:\n\u001b[1;32m    183\u001b[0m     \u001b[38;5;28;01mdel\u001b[39;00m \u001b[38;5;28mself\u001b[39m\u001b[38;5;241m.\u001b[39m_characteristic_write_futures[characteristic\u001b[38;5;241m.\u001b[39mhandle()]\n",
      "File \u001b[0;32m/Library/Frameworks/Python.framework/Versions/3.10/lib/python3.10/asyncio/futures.py:284\u001b[0m, in \u001b[0;36mFuture.__await__\u001b[0;34m(self)\u001b[0m\n\u001b[1;32m    282\u001b[0m \u001b[38;5;28;01mif\u001b[39;00m \u001b[38;5;129;01mnot\u001b[39;00m \u001b[38;5;28mself\u001b[39m\u001b[38;5;241m.\u001b[39mdone():\n\u001b[1;32m    283\u001b[0m     \u001b[38;5;28mself\u001b[39m\u001b[38;5;241m.\u001b[39m_asyncio_future_blocking \u001b[38;5;241m=\u001b[39m \u001b[38;5;28;01mTrue\u001b[39;00m\n\u001b[0;32m--> 284\u001b[0m     \u001b[38;5;28;01myield\u001b[39;00m \u001b[38;5;28mself\u001b[39m  \u001b[38;5;66;03m# This tells Task to wait for completion.\u001b[39;00m\n\u001b[1;32m    285\u001b[0m \u001b[38;5;28;01mif\u001b[39;00m \u001b[38;5;129;01mnot\u001b[39;00m \u001b[38;5;28mself\u001b[39m\u001b[38;5;241m.\u001b[39mdone():\n\u001b[1;32m    286\u001b[0m     \u001b[38;5;28;01mraise\u001b[39;00m \u001b[38;5;167;01mRuntimeError\u001b[39;00m(\u001b[38;5;124m\"\u001b[39m\u001b[38;5;124mawait wasn\u001b[39m\u001b[38;5;124m'\u001b[39m\u001b[38;5;124mt used with future\u001b[39m\u001b[38;5;124m\"\u001b[39m)\n",
      "File \u001b[0;32m/Library/Frameworks/Python.framework/Versions/3.10/lib/python3.10/asyncio/tasks.py:304\u001b[0m, in \u001b[0;36mTask.__wakeup\u001b[0;34m(self, future)\u001b[0m\n\u001b[1;32m    302\u001b[0m \u001b[38;5;28;01mdef\u001b[39;00m \u001b[38;5;21m__wakeup\u001b[39m(\u001b[38;5;28mself\u001b[39m, future):\n\u001b[1;32m    303\u001b[0m     \u001b[38;5;28;01mtry\u001b[39;00m:\n\u001b[0;32m--> 304\u001b[0m         \u001b[43mfuture\u001b[49m\u001b[38;5;241;43m.\u001b[39;49m\u001b[43mresult\u001b[49m\u001b[43m(\u001b[49m\u001b[43m)\u001b[49m\n\u001b[1;32m    305\u001b[0m     \u001b[38;5;28;01mexcept\u001b[39;00m \u001b[38;5;167;01mBaseException\u001b[39;00m \u001b[38;5;28;01mas\u001b[39;00m exc:\n\u001b[1;32m    306\u001b[0m         \u001b[38;5;66;03m# This may also be a cancellation.\u001b[39;00m\n\u001b[1;32m    307\u001b[0m         \u001b[38;5;28mself\u001b[39m\u001b[38;5;241m.\u001b[39m__step(exc)\n",
      "File \u001b[0;32m/Library/Frameworks/Python.framework/Versions/3.10/lib/python3.10/asyncio/futures.py:201\u001b[0m, in \u001b[0;36mFuture.result\u001b[0;34m(self)\u001b[0m\n\u001b[1;32m    199\u001b[0m \u001b[38;5;28mself\u001b[39m\u001b[38;5;241m.\u001b[39m__log_traceback \u001b[38;5;241m=\u001b[39m \u001b[38;5;28;01mFalse\u001b[39;00m\n\u001b[1;32m    200\u001b[0m \u001b[38;5;28;01mif\u001b[39;00m \u001b[38;5;28mself\u001b[39m\u001b[38;5;241m.\u001b[39m_exception \u001b[38;5;129;01mis\u001b[39;00m \u001b[38;5;129;01mnot\u001b[39;00m \u001b[38;5;28;01mNone\u001b[39;00m:\n\u001b[0;32m--> 201\u001b[0m     \u001b[38;5;28;01mraise\u001b[39;00m \u001b[38;5;28mself\u001b[39m\u001b[38;5;241m.\u001b[39m_exception\n\u001b[1;32m    202\u001b[0m \u001b[38;5;28;01mreturn\u001b[39;00m \u001b[38;5;28mself\u001b[39m\u001b[38;5;241m.\u001b[39m_result\n",
      "\u001b[0;31mBleakError\u001b[0m: disconnected"
     ]
    }
   ],
   "source": [
    "start = (-4,-3)\n",
    "\n",
    "points = [\n",
    "    (-2, -1),\n",
    "    (1, -1),\n",
    "    # (2, -3),\n",
    "    # (5, -3),\n",
    "    # (5, -2),\n",
    "    # (5, 3),\n",
    "    # (0, 3),\n",
    "    # (0, 0)\n",
    "]\n",
    "# Params: PID_P_ROT, PID_MIN_ROT, PID_P_FWD, PID_MIN_FWD, IMU_HZ\n",
    "robot.set_params(1.7, 80, 0.5, 35, 60)\n",
    "robot.set_motor_calib(1.3, 1.5)\n",
    "\n",
    "# start = (0,0)\n",
    "\n",
    "# points = [\n",
    "#     (1,0), (1,1), (0,1), (0,0)\n",
    "# ]\n",
    "\n",
    "# Assume you perfectly go EVERYWHERE, so you can pre-compute all controls\n",
    "start = ft2meters(start)\n",
    "waypoints = [ft2meters(pt) for pt in points]\n",
    "\n",
    "current_loc = (start[0], start[1], 0)\n",
    "for i, w in enumerate(waypoints):\n",
    "    # TODO navigate from current location to waypoint\n",
    "    print(f\"{current_loc} -> {w}\")\n",
    "    sx, sy, sa = current_loc\n",
    "    dx, dy = w\n",
    "    \n",
    "    da = 0\n",
    "    # TODO compute the angle for the next waypoint, fix calculations\n",
    "    if i+1 < len(waypoints):\n",
    "        (x1,y1)= (np.cos(np.radians(sa)), np.sin(np.radians(sa)))\n",
    "        (x2,y2) = waypoints[i+1]\n",
    "        x2 = x2 - dx\n",
    "        y2 = y2 - dy\n",
    "        # print(f\"Vector 1: {x1}, {y1}\")\n",
    "        # print(f\"Vector 2: {x2}, {y2}\")\n",
    "        denom = np.sqrt(x1**2 + y1**2) * np.sqrt(x2**2 + y2**2)\n",
    "        numer = x1*x2 + y1*y2\n",
    "        # print(denom)\n",
    "        # print(numer)\n",
    "        da = np.degrees(np.arccos(numer/denom))\n",
    "    \n",
    "    print(f\"Computing control: {(sx,sy,sa)} -> {(dx,dy,da)}\")\n",
    "    (a1,x1,a2) = loc.compute_control((dx,dy,da), (sx,sy,sa))\n",
    "    \n",
    "    print(f\"Control: {(a1,x1,a2)}\")\n",
    "    print()\n",
    "    \n",
    "    robot.turn_degrees(-1*a1)\n",
    "    robot.move_duration(0,250)\n",
    "    robot.move_distance(x1*1000)\n",
    "    # robot.move_dist_as_duration(x1*1000, pause=True)\n",
    "    robot.turn_degrees(-1*a2)\n",
    "    robot.move_duration(0,250)\n",
    "    \n",
    "    current_loc = (dx,dy,da)\n",
    "  "
   ]
  },
  {
   "cell_type": "code",
   "execution_count": null,
   "metadata": {},
   "outputs": [],
   "source": []
  },
  {
   "cell_type": "code",
   "execution_count": null,
   "metadata": {},
   "outputs": [],
   "source": []
  }
 ],
 "metadata": {
  "interpreter": {
   "hash": "92827709d2216a3caaef59c6dcd2c53afb640f72939254d2c4635c7a21476c88"
  },
  "kernelspec": {
   "display_name": "Python 3 (ipykernel)",
   "language": "python",
   "name": "python3"
  },
  "language_info": {
   "codemirror_mode": {
    "name": "ipython",
    "version": 3
   },
   "file_extension": ".py",
   "mimetype": "text/x-python",
   "name": "python",
   "nbconvert_exporter": "python",
   "pygments_lexer": "ipython3",
   "version": "3.10.4"
  }
 },
 "nbformat": 4,
 "nbformat_minor": 4
}
