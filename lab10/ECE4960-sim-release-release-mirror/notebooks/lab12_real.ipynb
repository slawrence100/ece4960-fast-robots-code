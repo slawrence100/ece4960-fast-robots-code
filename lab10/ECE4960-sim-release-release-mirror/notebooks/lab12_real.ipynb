{
 "cells": [
  {
   "cell_type": "markdown",
   "metadata": {},
   "source": [
    "# Lab 12: Grid Localization using Bayes Filter (Real Robot)\n",
    "\n",
    "### <span style=\"color:rgb(0,150,0)\">It is recommended that you close any heavy-duty applications running on your system while working on this lab.</span>\n",
    "\n",
    "### <span style=\"color:rgb(0,150,0)\">The notebook only provides skeleton code for you to integrate the Localization class with the Real Robot.</span>\n",
    "\n",
    "<hr>"
   ]
  },
  {
   "cell_type": "code",
   "execution_count": 1,
   "metadata": {},
   "outputs": [
    {
     "name": "stdout",
     "output_type": "stream",
     "text": [
      "2022-05-18 15:46:40,855 |\u001b[32m INFO     \u001b[0m|: Logger demo_notebook.log initialized.\n"
     ]
    }
   ],
   "source": [
    "%load_ext autoreload\n",
    "%autoreload 2\n",
    "\n",
    "import traceback\n",
    "from notebook_utils import *\n",
    "from Traj import *\n",
    "import asyncio\n",
    "import pathlib\n",
    "import os\n",
    "from utils import load_config_params\n",
    "from localization_extras import Localization\n",
    "\n",
    "# The imports below will only work if you copied the required ble-related python files \n",
    "# into the notebooks directory\n",
    "from ble import get_ble_controller\n",
    "from base_ble import LOG\n",
    "from cmd_types import CMD\n",
    "import numpy as np\n",
    "\n",
    "# Setup Logger\n",
    "LOG = get_logger('demo_notebook.log')\n",
    "LOG.propagate = False\n",
    "\n",
    "# Init GUI and Commander\n",
    "gui = GET_GUI()\n",
    "cmdr = gui.launcher.commander"
   ]
  },
  {
   "cell_type": "code",
   "execution_count": 2,
   "metadata": {},
   "outputs": [],
   "source": [
    "# Start the plotter\n",
    "START_PLOTTER()"
   ]
  },
  {
   "cell_type": "markdown",
   "metadata": {},
   "source": [
    "# The RealRobot class\n",
    "Define the RealRobot class in the code cell below, based on the documentation and your real robot communication protocol. <br>\n",
    "This class is used by the **Localization** class to communicate with the real robot. <br>\n",
    "More specifically, the **Localization** class utilizes the **RealRobot's** member function **perform_observation_loop()** to get the 18 sensor readings and store them in its member variable **obs_range_data**, which is then utilized in the update step."
   ]
  },
  {
   "cell_type": "code",
   "execution_count": 3,
   "metadata": {},
   "outputs": [],
   "source": [
    "class RealRobot():\n",
    "    \"\"\"A class to interact with the real robot\n",
    "    \"\"\"\n",
    "    def __init__(self, commander, ble):\n",
    "        # Load world config\n",
    "        self.world_config = os.path.join(str(pathlib.Path(os.getcwd()).parent), \"config\", \"world.yaml\")\n",
    "        \n",
    "        self.config_params = load_config_params(self.world_config)\n",
    "        \n",
    "        # Commander to commuincate with the Plotter process\n",
    "        # Used by the Localization module to plot odom and belief\n",
    "        self.cmdr = commander\n",
    "\n",
    "        # ArtemisBLEController to communicate with the Robot\n",
    "        self.ble = ble\n",
    "\n",
    "        # Data collection stuff\n",
    "        self.dist_data = []\n",
    "        self.angle_data = []\n",
    "\n",
    "        self.setup_notify()\n",
    "        \n",
    "\n",
    "    def setup_notify(self):\n",
    "        print(\"Notifications started\")\n",
    "        ble.start_notify(ble.uuid['RX_TOF1'], self.tof1_callback_handler)\n",
    "        print(ble.uuid['RX_TOF1'])\n",
    "        ble.start_notify(ble.uuid['RX_IMU_PITCH'], self.imu_pitch_callback_handler)\n",
    "\n",
    "    def tof1_callback_handler(self, uuid, byte_array):\n",
    "        new_tof = self.ble.bytearray_to_float(byte_array)\n",
    "        # print(f\"Got TOF data: {new_tof}\")\n",
    "        self.dist_data.append(new_tof)\n",
    "\n",
    "    def imu_pitch_callback_handler(self, uuid, byte_array):\n",
    "        new_angle = self.ble.bytearray_to_float(byte_array)\n",
    "        # print(f\"Got angle data: {new_angle}\")\n",
    "        self.angle_data.append( new_angle )\n",
    "        \n",
    "    def set_params(self, pid_p, pid_min_power, imu_hz):\n",
    "        self.ble.send_command(CMD.SET_PID, f\"{pid_p}|{pid_min_power}|{imu_hz}\"); \n",
    "\n",
    "    def set_motor_calib(self, calib):\n",
    "        self.ble.send_command(CMD.SET_MOTOR_CALIB, calib)\n",
    "        \n",
    "    def get_pose(self):\n",
    "        \"\"\"Get robot pose based on odometry\n",
    "        \n",
    "        Returns:\n",
    "            current_odom -- Odometry Pose (meters, meters, degrees)\n",
    "        \"\"\"\n",
    "        return (0,0,0)\n",
    "        # raise NotImplementedError(\"get_pose is not implemented\")\n",
    "\n",
    "    def perform_observation_loop(self, rot_vel=120):\n",
    "        \"\"\"Perform the observation loop behavior on the real robot, where the robot does  \n",
    "        a 360 degree turn in place while collecting equidistant (in the angular space) sensor\n",
    "        readings, with the first sensor reading taken at the robot's current heading. \n",
    "        The number of sensor readings depends on \"observations_count\"(=18) defined in world.yaml.\n",
    "        \n",
    "        Keyword arguments:\n",
    "            rot_vel -- (Optional) Angular Velocity for loop (degrees/second)\n",
    "                        Do not remove this parameter from the function definition, even if you don't use it.\n",
    "        Returns:\n",
    "            sensor_ranges   -- A column numpy array of the range values (meters)\n",
    "            sensor_bearings -- A column numpy array of the bearings at which the sensor readings were taken (degrees)\n",
    "                               The bearing values are not used in the Localization module, so you may return a empty numpy array\n",
    "        \"\"\"\n",
    "        self.ble.send_command(CMD.OBSERVE, None)\n",
    "        time.sleep(15)\n",
    "        self.ble.send_command(CMD.GET_DATA, None)\n",
    "        while len(self.dist_data) < 18 or len(self.angle_data) < 18:\n",
    "            time.sleep(2)\n",
    "            if len(self.dist_data) < 2 or len(self.angle_data) < 2:\n",
    "                self.dist_data = []\n",
    "                self.angle_data = []\n",
    "                self.ble.send_command(CMD.GET_DATA, None)\n",
    "            pass\n",
    "        # Convert to meters, and account for how the sensor isn't\n",
    "        # mounted in the middle of the robot\n",
    "        self.dist_data = [x / 1000 for x in self.dist_data]\n",
    "        temp_angles = []\n",
    "        temp_sum = 0\n",
    "        for i,angle in enumerate(self.angle_data):\n",
    "            temp_sum -= angle\n",
    "            temp_angles.append(temp_sum)\n",
    "        self.angle_data = temp_angles\n",
    "        print(f\"TOF: {self.dist_data}\")\n",
    "        print(f\"Angles: {self.angle_data}\")\n",
    "        return np.array(self.dist_data).reshape((18,1)), np.array(self.angle_data).reshape((18,1))\n"
   ]
  },
  {
   "cell_type": "code",
   "execution_count": 4,
   "metadata": {},
   "outputs": [
    {
     "name": "stdout",
     "output_type": "stream",
     "text": [
      "2022-05-18 15:46:41,635 |\u001b[32m INFO     \u001b[0m|: Looking for Artemis Nano Peripheral Device: C0:07:21:8D:B3:44\n",
      "2022-05-18 15:46:44,902 |\u001b[32m INFO     \u001b[0m|: Connected to C0:07:21:8D:B3:44\n"
     ]
    }
   ],
   "source": [
    "# Get ArtemisBLEController object\n",
    "ble = get_ble_controller()\n",
    "\n",
    "# Connect to the Artemis Device\n",
    "ble.connect()"
   ]
  },
  {
   "cell_type": "code",
   "execution_count": 5,
   "metadata": {},
   "outputs": [
    {
     "name": "stdout",
     "output_type": "stream",
     "text": [
      "Notifications started\n",
      "531f9dab-8ff2-4eb6-9489-c402953d27b6\n",
      "2022-05-18 15:46:45,983 |\u001b[32m INFO     \u001b[0m|:  | Number of observations per grid cell: 18\n",
      "2022-05-18 15:46:45,983 |\u001b[32m INFO     \u001b[0m|:  | Precaching Views...\n"
     ]
    },
    {
     "name": "stderr",
     "output_type": "stream",
     "text": [
      "/Users/main/Documents/Classes/2022-sp/ECE-4960/ece4960-fast-robots-code/lab10/ECE4960-sim-release-release-mirror/localization.py:150: RuntimeWarning: All-NaN slice encountered\n",
      "  return np.nanmin(distance_intersections_tt), intersections_tt[np.nanargmin(distance_intersections_tt)]\n"
     ]
    },
    {
     "name": "stdout",
     "output_type": "stream",
     "text": [
      "2022-05-18 15:46:50,020 |\u001b[32m INFO     \u001b[0m|:  | Precaching Time: 4.035 secs\n",
      "2022-05-18 15:46:50,021 |\u001b[32m INFO     \u001b[0m|: Initializing beliefs with a Uniform Distribution\n",
      "2022-05-18 15:46:50,022 |\u001b[32m INFO     \u001b[0m|: Uniform Belief with each cell value: 0.00051440329218107\n"
     ]
    }
   ],
   "source": [
    "# Initialize RealRobot with a Commander object to communicate with the plotter process\n",
    "# and the ArtemisBLEController object to communicate with the real robot\n",
    "robot = RealRobot(cmdr, ble)\n",
    "\n",
    "# Initialize mapper\n",
    "# Requires a VirtualRobot object as a parameter\n",
    "mapper = Mapper(robot)\n",
    "\n",
    "# Initialize your BaseLocalization object\n",
    "# Requires a RealRobot object and a Mapper object as parameters\n",
    "loc = Localization(robot, mapper)\n",
    "\n",
    "## Plot Map\n",
    "cmdr.plot_map()"
   ]
  },
  {
   "cell_type": "markdown",
   "metadata": {},
   "source": [
    "# Run an update step of the Bayes Filter"
   ]
  },
  {
   "cell_type": "code",
   "execution_count": 6,
   "metadata": {},
   "outputs": [
    {
     "name": "stdout",
     "output_type": "stream",
     "text": [
      "2022-05-18 15:46:50,246 |\u001b[32m INFO     \u001b[0m|: Initializing beliefs with a Uniform Distribution\n",
      "2022-05-18 15:46:50,247 |\u001b[32m INFO     \u001b[0m|: Uniform Belief with each cell value: 0.00051440329218107\n",
      "TOF: [1.1546666259765626, 1.2443333740234375, 0.982, 1.041, 0.867, 0.632, 0.5493333129882813, 0.5743333129882813, 0.5426666870117187, 0.46733334350585937, 0.43, 0.4803333435058594, 0.6316666870117188, 0.7956666870117187, 0.7726666870117187, 1.2683333740234375, 2.480333251953125, 1.2596666259765625]\n",
      "Angles: [19.661479949951172, 39.61729431152344, 60.10760498046875, 80.17953109741211, 100.30665969848633, 120.02510070800781, 140.3813819885254, 160.7784767150879, 181.12991905212402, 201.30490493774414, 221.01189422607422, 240.84733390808105, 260.5692958831787, 280.4806308746338, 300.717565536499, 320.6394691467285, 340.6297798156738, 360.61553955078125]\n",
      "2022-05-18 15:47:07,402 |\u001b[32m INFO     \u001b[0m|: Update Step\n",
      "2022-05-18 15:47:07,406 |\u001b[32m INFO     \u001b[0m|:      | Update Time: 0.003 secs\n",
      "2022-05-18 15:47:07,407 |\u001b[32m INFO     \u001b[0m|: Bel index     : (2, 1, 13) with prob = 1.0\n",
      "2022-05-18 15:47:07,408 |\u001b[32m INFO     \u001b[0m|: Bel_bar prob at index = 0.00051440329218107\n",
      "2022-05-18 15:47:07,409 |\u001b[32m INFO     \u001b[0m|: Belief        : (-0.914, -0.914, 90.000)\n"
     ]
    },
    {
     "ename": "ValueError",
     "evalue": "too many values to unpack (expected 2)",
     "output_type": "error",
     "traceback": [
      "\u001b[0;31m---------------------------------------------------------------------------\u001b[0m",
      "\u001b[0;31mValueError\u001b[0m                                Traceback (most recent call last)",
      "Input \u001b[0;32mIn [6]\u001b[0m, in \u001b[0;36m<cell line: 21>\u001b[0;34m()\u001b[0m\n\u001b[1;32m     18\u001b[0m loc\u001b[38;5;241m.\u001b[39mplot_update_step_data(plot_data\u001b[38;5;241m=\u001b[39m\u001b[38;5;28;01mTrue\u001b[39;00m)\n\u001b[1;32m     20\u001b[0m \u001b[38;5;66;03m# Plot Odom and GT\u001b[39;00m\n\u001b[0;32m---> 21\u001b[0m current_odom, current_gt \u001b[38;5;241m=\u001b[39m robot\u001b[38;5;241m.\u001b[39mget_pose()\n\u001b[1;32m     22\u001b[0m cmdr\u001b[38;5;241m.\u001b[39mplot_gt(current_gt[\u001b[38;5;241m0\u001b[39m], current_gt[\u001b[38;5;241m1\u001b[39m])\n\u001b[1;32m     23\u001b[0m cmdr\u001b[38;5;241m.\u001b[39mplot_odom(current_odom[\u001b[38;5;241m0\u001b[39m], current_odom[\u001b[38;5;241m1\u001b[39m])\n",
      "\u001b[0;31mValueError\u001b[0m: too many values to unpack (expected 2)"
     ]
    }
   ],
   "source": [
    "# Reset Plots\n",
    "cmdr.reset_plotter()\n",
    "\n",
    "# Init Uniform Belief\n",
    "loc.init_grid_beliefs()\n",
    "\n",
    "# def set_params(self, pid_p, pid_min_power, imu_hz):\n",
    "robot.dist_data = []\n",
    "robot.angle_data = []\n",
    "robot.set_params(1.3, 100, 52)\n",
    "robot.set_motor_calib(1.3)\n",
    "    \n",
    "# Get Observation Data by executing a 360 degree rotation motion\n",
    "loc.get_observation_data()\n",
    "\n",
    "# Run Update Step\n",
    "loc.update_step()\n",
    "loc.plot_update_step_data(plot_data=True)\n",
    "\n",
    "# Plot Odom and GT\n",
    "current_odom, current_gt = robot.get_pose()\n",
    "cmdr.plot_gt(current_gt[0], current_gt[1])\n",
    "cmdr.plot_odom(current_odom[0], current_odom[1])"
   ]
  },
  {
   "cell_type": "code",
   "execution_count": null,
   "metadata": {},
   "outputs": [],
   "source": [
    "import matplotlib.pyplot as plt\n",
    "tof = [0.364, 0.5603333129882813, 0.4983333435058594, 0.403, 0.5966666870117188, 2.016, 0.716, 0.4966666564941406, 1.844, 2.116333251953125, 2.376, 0.224, 0.2496666717529297, 0.32433334350585935, 0.389, 0.487, 0.408, 0.38833334350585935]\n",
    "angle = [19.711673736572266, 39.30105209350586, 59.348920822143555, 79.80359649658203, 99.47217178344727, 119.46056365966797, 139.58079147338867, 159.5949478149414, 179.2961254119873, 199.308687210083, 218.94672775268555, 239.1281852722168, 259.3975887298584, 279.3796195983887, 299.0354709625244, 318.8495616912842, 338.4791736602783, 358.6300964355469]\n",
    "cartesan_x = []\n",
    "cartesan_y = []\n",
    "for r,theta in zip(tof,angle):\n",
    "    cartesan_x.append(r * np.cos(np.deg2rad(theta)))\n",
    "    cartesan_y.append(r * np.sin(np.deg2rad(theta)))\n",
    "plt.scatter(cartesan_x, cartesan_y)"
   ]
  },
  {
   "cell_type": "code",
   "execution_count": null,
   "metadata": {},
   "outputs": [],
   "source": []
  }
 ],
 "metadata": {
  "kernelspec": {
   "display_name": "Python 3 (ipykernel)",
   "language": "python",
   "name": "python3"
  },
  "language_info": {
   "codemirror_mode": {
    "name": "ipython",
    "version": 3
   },
   "file_extension": ".py",
   "mimetype": "text/x-python",
   "name": "python",
   "nbconvert_exporter": "python",
   "pygments_lexer": "ipython3",
   "version": "3.10.4"
  }
 },
 "nbformat": 4,
 "nbformat_minor": 4
}
