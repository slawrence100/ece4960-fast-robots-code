{
 "cells": [
  {
   "cell_type": "markdown",
   "metadata": {},
   "source": [
    "# Lab 12: Grid Localization using Bayes Filter (Real Robot)\n",
    "\n",
    "### <span style=\"color:rgb(0,150,0)\">It is recommended that you close any heavy-duty applications running on your system while working on this lab.</span>\n",
    "\n",
    "### <span style=\"color:rgb(0,150,0)\">The notebook only provides skeleton code for you to integrate the Localization class with the Real Robot.</span>\n",
    "\n",
    "<hr>"
   ]
  },
  {
   "cell_type": "code",
   "execution_count": 1,
   "metadata": {},
   "outputs": [
    {
     "name": "stdout",
     "output_type": "stream",
     "text": [
      "2022-04-28 16:54:02,856 |\u001b[32m INFO     \u001b[0m|: Logger demo_notebook.log initialized.\n"
     ]
    }
   ],
   "source": [
    "%load_ext autoreload\n",
    "%autoreload 2\n",
    "\n",
    "import traceback\n",
    "from notebook_utils import *\n",
    "from Traj import *\n",
    "import asyncio\n",
    "import pathlib\n",
    "import os\n",
    "from utils import load_config_params\n",
    "from localization_extras import Localization\n",
    "\n",
    "# The imports below will only work if you copied the required ble-related python files \n",
    "# into the notebooks directory\n",
    "from ble import get_ble_controller\n",
    "from base_ble import LOG\n",
    "from cmd_types import CMD\n",
    "import numpy as np\n",
    "\n",
    "# Setup Logger\n",
    "LOG = get_logger('demo_notebook.log')\n",
    "LOG.propagate = False\n",
    "\n",
    "# Init GUI and Commander\n",
    "gui = GET_GUI()\n",
    "cmdr = gui.launcher.commander"
   ]
  },
  {
   "cell_type": "code",
   "execution_count": 2,
   "metadata": {},
   "outputs": [],
   "source": [
    "# Start the plotter\n",
    "START_PLOTTER()"
   ]
  },
  {
   "cell_type": "markdown",
   "metadata": {},
   "source": [
    "# The RealRobot class\n",
    "Define the RealRobot class in the code cell below, based on the documentation and your real robot communication protocol. <br>\n",
    "This class is used by the **Localization** class to communicate with the real robot. <br>\n",
    "More specifically, the **Localization** class utilizes the **RealRobot's** member function **perform_observation_loop()** to get the 18 sensor readings and store them in its member variable **obs_range_data**, which is then utilized in the update step."
   ]
  },
  {
   "cell_type": "code",
   "execution_count": 3,
   "metadata": {},
   "outputs": [],
   "source": [
    "class RealRobot():\n",
    "    \"\"\"A class to interact with the real robot\n",
    "    \"\"\"\n",
    "    def __init__(self, commander, ble):\n",
    "        # Load world config\n",
    "        self.world_config = os.path.join(str(pathlib.Path(os.getcwd()).parent), \"config\", \"world.yaml\")\n",
    "        \n",
    "        self.config_params = load_config_params(self.world_config)\n",
    "        \n",
    "        # Commander to commuincate with the Plotter process\n",
    "        # Used by the Localization module to plot odom and belief\n",
    "        self.cmdr = commander\n",
    "\n",
    "        # ArtemisBLEController to communicate with the Robot\n",
    "        self.ble = ble\n",
    "\n",
    "        # Data collection stuff\n",
    "        self.dist_data = []\n",
    "        self.angle_data = []\n",
    "\n",
    "        self.setup_notify()\n",
    "        \n",
    "\n",
    "    def setup_notify(self):\n",
    "        print(\"Notifications started\")\n",
    "        ble.start_notify(ble.uuid['RX_TOF1'], self.tof1_callback_handler)\n",
    "        print(ble.uuid['RX_TOF1'])\n",
    "        ble.start_notify(ble.uuid['RX_IMU_PITCH'], self.imu_pitch_callback_handler)\n",
    "\n",
    "    def tof1_callback_handler(self, uuid, byte_array):\n",
    "        new_tof = self.ble.bytearray_to_float(byte_array)\n",
    "        print(f\"Got TOF data: {new_tof}\")\n",
    "        self.dist_data.append(new_tof)\n",
    "\n",
    "    def imu_pitch_callback_handler(self, uuid, byte_array):\n",
    "        new_angle = self.ble.bytearray_to_float(byte_array)\n",
    "        print(f\"Got angle data: {new_angle}\")\n",
    "        self.angle_data.append( new_angle )\n",
    "        \n",
    "    def set_params(self, pid_p, pid_min_power, imu_hz):\n",
    "        self.ble.send_command(CMD.SET_PID, f\"{pid_p}|{pid_min_power}|{imu_hz}\"); \n",
    "\n",
    "    def set_motor_calib(self, calib):\n",
    "        self.ble.send_command(CMD.SET_MOTOR_CALIB, calib)\n",
    "        \n",
    "    def get_pose(self):\n",
    "        \"\"\"Get robot pose based on odometry\n",
    "        \n",
    "        Returns:\n",
    "            current_odom -- Odometry Pose (meters, meters, degrees)\n",
    "        \"\"\"\n",
    "        raise NotImplementedError(\"get_pose is not implemented\")\n",
    "\n",
    "    def perform_observation_loop(self, rot_vel=120):\n",
    "        \"\"\"Perform the observation loop behavior on the real robot, where the robot does  \n",
    "        a 360 degree turn in place while collecting equidistant (in the angular space) sensor\n",
    "        readings, with the first sensor reading taken at the robot's current heading. \n",
    "        The number of sensor readings depends on \"observations_count\"(=18) defined in world.yaml.\n",
    "        \n",
    "        Keyword arguments:\n",
    "            rot_vel -- (Optional) Angular Velocity for loop (degrees/second)\n",
    "                        Do not remove this parameter from the function definition, even if you don't use it.\n",
    "        Returns:\n",
    "            sensor_ranges   -- A column numpy array of the range values (meters)\n",
    "            sensor_bearings -- A column numpy array of the bearings at which the sensor readings were taken (degrees)\n",
    "                               The bearing values are not used in the Localization module, so you may return a empty numpy array\n",
    "        \"\"\"\n",
    "        self.set_params(1, 80, 50)\n",
    "        self.set_motor_calib(1.4)\n",
    "        self.ble.send_command(CMD.OBSERVE, None)\n",
    "        self.ble.send_command(CMD.GET_DATA, None)\n",
    "        while len(self.dist_data) < 18 or len(self.angle_data) < 18:\n",
    "            print(\"Data still sending, waiting\")\n",
    "            time.sleep(5)\n",
    "            self.ble.send_command(CMD.GET_DATA, None) # try again for command not sent?\n",
    "        self.dist_data = [x / 1000 for x in self.dist_data]\n",
    "        temp_angles = []\n",
    "        temp_sum = 0\n",
    "        for i,angle in enumerate(self.angle_data):\n",
    "            temp_sum -= angle\n",
    "            temp_angles.append(temp_sum)\n",
    "        self.angle_data = temp_angles\n",
    "        print(self.dist_data)\n",
    "        print(self.angle_data)\n",
    "        return np.array(self.dist_data).reshape((18,1)), np.array(self.angle_data).reshape((18,1))\n"
   ]
  },
  {
   "cell_type": "code",
   "execution_count": 4,
   "metadata": {},
   "outputs": [
    {
     "name": "stdout",
     "output_type": "stream",
     "text": [
      "2022-04-28 16:54:03,616 |\u001b[32m INFO     \u001b[0m|: Looking for Artemis Nano Peripheral Device: C0:07:21:8D:B3:44\n",
      "2022-04-28 16:54:06,418 |\u001b[32m INFO     \u001b[0m|: Connected to C0:07:21:8D:B3:44\n"
     ]
    }
   ],
   "source": [
    "# Get ArtemisBLEController object\n",
    "ble = get_ble_controller()\n",
    "\n",
    "# Connect to the Artemis Device\n",
    "ble.connect()"
   ]
  },
  {
   "cell_type": "code",
   "execution_count": 5,
   "metadata": {},
   "outputs": [
    {
     "name": "stdout",
     "output_type": "stream",
     "text": [
      "Notifications started\n",
      "531f9dab-8ff2-4eb6-9489-c402953d27b6\n",
      "2022-04-28 16:54:07,498 |\u001b[32m INFO     \u001b[0m|:  | Number of observations per grid cell: 18\n",
      "2022-04-28 16:54:07,498 |\u001b[32m INFO     \u001b[0m|:  | Precaching Views...\n"
     ]
    },
    {
     "name": "stderr",
     "output_type": "stream",
     "text": [
      "/Users/main/Documents/Classes/2022-sp/ECE-4960/ece4960-fast-robots-code/lab10/ECE4960-sim-release-release-mirror/localization.py:150: RuntimeWarning: All-NaN slice encountered\n",
      "  return np.nanmin(distance_intersections_tt), intersections_tt[np.nanargmin(distance_intersections_tt)]\n"
     ]
    },
    {
     "name": "stdout",
     "output_type": "stream",
     "text": [
      "2022-04-28 16:54:11,105 |\u001b[32m INFO     \u001b[0m|:  | Precaching Time: 3.606 secs\n",
      "2022-04-28 16:54:11,106 |\u001b[32m INFO     \u001b[0m|: Initializing beliefs with a Uniform Distribution\n",
      "2022-04-28 16:54:11,107 |\u001b[32m INFO     \u001b[0m|: Uniform Belief with each cell value: 0.00051440329218107\n"
     ]
    }
   ],
   "source": [
    "# Initialize RealRobot with a Commander object to communicate with the plotter process\n",
    "# and the ArtemisBLEController object to communicate with the real robot\n",
    "robot = RealRobot(cmdr, ble)\n",
    "\n",
    "# Initialize mapper\n",
    "# Requires a VirtualRobot object as a parameter\n",
    "mapper = Mapper(robot)\n",
    "\n",
    "# Initialize your BaseLocalization object\n",
    "# Requires a RealRobot object and a Mapper object as parameters\n",
    "loc = Localization(robot, mapper)\n",
    "\n",
    "## Plot Map\n",
    "cmdr.plot_map()"
   ]
  },
  {
   "cell_type": "markdown",
   "metadata": {},
   "source": [
    "# Run an update step of the Bayes Filter"
   ]
  },
  {
   "cell_type": "code",
   "execution_count": 6,
   "metadata": {},
   "outputs": [
    {
     "name": "stdout",
     "output_type": "stream",
     "text": [
      "2022-04-28 16:54:11,334 |\u001b[32m INFO     \u001b[0m|: Initializing beliefs with a Uniform Distribution\n",
      "2022-04-28 16:54:11,335 |\u001b[32m INFO     \u001b[0m|: Uniform Belief with each cell value: 0.00051440329218107\n",
      "Data still sending, waiting\n",
      "Got TOF data: 1216.0\n",
      "Got angle data: -19.610685348510742\n",
      "Got TOF data: 944.3333129882812\n",
      "Got angle data: -19.909618377685547\n",
      "Got TOF data: 1409.3333740234375\n",
      "Got angle data: -19.578927993774414\n",
      "Got TOF data: 669.0\n",
      "Got angle data: -19.784427642822266\n",
      "Got TOF data: 700.6666870117188\n",
      "Got angle data: -19.748703002929688\n",
      "Got TOF data: 831.0\n",
      "Got angle data: -19.687938690185547\n",
      "Got TOF data: 825.0\n",
      "Got angle data: -20.014196395874023\n",
      "Got TOF data: 694.3333129882812\n",
      "Got angle data: -19.551298141479492\n",
      "Got TOF data: 698.0\n",
      "Got angle data: -20.055572509765625\n",
      "Got TOF data: 813.6666870117188\n",
      "Got angle data: -20.17450523376465\n",
      "Got TOF data: 880.0\n",
      "Got angle data: -19.567171096801758\n",
      "Got TOF data: 751.6666870117188\n",
      "Got angle data: -19.55282211303711\n",
      "Got TOF data: 712.0\n",
      "Got angle data: -19.5103816986084\n",
      "Got TOF data: 760.6666870117188\n",
      "Got angle data: -19.641523361206055\n",
      "Got TOF data: 869.6666870117188\n",
      "Got angle data: -19.82855224609375\n",
      "Got TOF data: 827.3333129882812\n",
      "Got angle data: -19.974960327148438\n",
      "Got TOF data: 739.6666870117188\n",
      "Got angle data: -19.656795501708984\n",
      "Got TOF data: 1552.3333740234375\n",
      "Got angle data: -20.035266876220703\n",
      "[1.216, 0.9443333129882813, 1.4093333740234375, 0.669, 0.7006666870117187, 0.831, 0.825, 0.6943333129882813, 0.698, 0.8136666870117187, 0.88, 0.7516666870117188, 0.712, 0.7606666870117188, 0.8696666870117188, 0.8273333129882813, 0.7396666870117188, 1.5523333740234375]\n",
      "[-0.3893146514892578, 19.52030372619629, 39.0992317199707, 58.88365936279297, 78.63236236572266, 98.3203010559082, 118.33449745178223, 137.88579559326172, 157.94136810302734, 178.115873336792, 197.68304443359375, 217.23586654663086, 236.74624824523926, 256.3877716064453, 276.21632385253906, 296.1912841796875, 315.8480796813965, 335.8833465576172]\n",
      "2022-04-28 16:54:37,784 |\u001b[32m INFO     \u001b[0m|: Update Step\n",
      "2022-04-28 16:54:37,788 |\u001b[32m INFO     \u001b[0m|:      | Update Time: 0.003 secs\n",
      "2022-04-28 16:54:37,789 |\u001b[32m INFO     \u001b[0m|: Bel index     : (10, 4, 3) with prob = 0.9998050\n",
      "2022-04-28 16:54:37,790 |\u001b[32m INFO     \u001b[0m|: Bel_bar prob at index = 0.00051440329218107\n",
      "2022-04-28 16:54:37,791 |\u001b[32m INFO     \u001b[0m|: Belief        : (1.524, 0.000, -110.000)\n"
     ]
    },
    {
     "ename": "NotImplementedError",
     "evalue": "get_pose is not implemented",
     "output_type": "error",
     "traceback": [
      "\u001b[0;31m---------------------------------------------------------------------------\u001b[0m",
      "\u001b[0;31mNotImplementedError\u001b[0m                       Traceback (most recent call last)",
      "Input \u001b[0;32mIn [6]\u001b[0m, in \u001b[0;36m<cell line: 15>\u001b[0;34m()\u001b[0m\n\u001b[1;32m     12\u001b[0m loc\u001b[38;5;241m.\u001b[39mplot_update_step_data(plot_data\u001b[38;5;241m=\u001b[39m\u001b[38;5;28;01mTrue\u001b[39;00m)\n\u001b[1;32m     14\u001b[0m \u001b[38;5;66;03m# Plot Odom and GT\u001b[39;00m\n\u001b[0;32m---> 15\u001b[0m current_odom, current_gt \u001b[38;5;241m=\u001b[39m \u001b[43mrobot\u001b[49m\u001b[38;5;241;43m.\u001b[39;49m\u001b[43mget_pose\u001b[49m\u001b[43m(\u001b[49m\u001b[43m)\u001b[49m\n\u001b[1;32m     16\u001b[0m cmdr\u001b[38;5;241m.\u001b[39mplot_gt(current_gt[\u001b[38;5;241m0\u001b[39m], current_gt[\u001b[38;5;241m1\u001b[39m])\n\u001b[1;32m     17\u001b[0m cmdr\u001b[38;5;241m.\u001b[39mplot_odom(current_odom[\u001b[38;5;241m0\u001b[39m], current_odom[\u001b[38;5;241m1\u001b[39m])\n",
      "Input \u001b[0;32mIn [3]\u001b[0m, in \u001b[0;36mRealRobot.get_pose\u001b[0;34m(self)\u001b[0m\n\u001b[1;32m     46\u001b[0m \u001b[38;5;28;01mdef\u001b[39;00m \u001b[38;5;21mget_pose\u001b[39m(\u001b[38;5;28mself\u001b[39m):\n\u001b[1;32m     47\u001b[0m     \u001b[38;5;124;03m\"\"\"Get robot pose based on odometry\u001b[39;00m\n\u001b[1;32m     48\u001b[0m \u001b[38;5;124;03m    \u001b[39;00m\n\u001b[1;32m     49\u001b[0m \u001b[38;5;124;03m    Returns:\u001b[39;00m\n\u001b[1;32m     50\u001b[0m \u001b[38;5;124;03m        current_odom -- Odometry Pose (meters, meters, degrees)\u001b[39;00m\n\u001b[1;32m     51\u001b[0m \u001b[38;5;124;03m    \"\"\"\u001b[39;00m\n\u001b[0;32m---> 52\u001b[0m     \u001b[38;5;28;01mraise\u001b[39;00m \u001b[38;5;167;01mNotImplementedError\u001b[39;00m(\u001b[38;5;124m\"\u001b[39m\u001b[38;5;124mget_pose is not implemented\u001b[39m\u001b[38;5;124m\"\u001b[39m)\n",
      "\u001b[0;31mNotImplementedError\u001b[0m: get_pose is not implemented"
     ]
    }
   ],
   "source": [
    "# Reset Plots\n",
    "cmdr.reset_plotter()\n",
    "\n",
    "# Init Uniform Belief\n",
    "loc.init_grid_beliefs()\n",
    "\n",
    "# Get Observation Data by executing a 360 degree rotation motion\n",
    "loc.get_observation_data()\n",
    "\n",
    "# Run Update Step\n",
    "loc.update_step()\n",
    "loc.plot_update_step_data(plot_data=True)\n",
    "\n",
    "# Plot Odom and GT\n",
    "current_odom, current_gt = robot.get_pose()\n",
    "cmdr.plot_gt(current_gt[0], current_gt[1])\n",
    "cmdr.plot_odom(current_odom[0], current_odom[1])"
   ]
  },
  {
   "cell_type": "code",
   "execution_count": null,
   "metadata": {},
   "outputs": [],
   "source": []
  }
 ],
 "metadata": {
  "kernelspec": {
   "display_name": "Python 3 (ipykernel)",
   "language": "python",
   "name": "python3"
  },
  "language_info": {
   "codemirror_mode": {
    "name": "ipython",
    "version": 3
   },
   "file_extension": ".py",
   "mimetype": "text/x-python",
   "name": "python",
   "nbconvert_exporter": "python",
   "pygments_lexer": "ipython3",
   "version": "3.10.4"
  }
 },
 "nbformat": 4,
 "nbformat_minor": 4
}
