{
 "cells": [
  {
   "cell_type": "markdown",
   "metadata": {},
   "source": [
    "## Execute PID Control"
   ]
  },
  {
   "cell_type": "markdown",
   "metadata": {},
   "source": [
    "### Setup and Connect"
   ]
  },
  {
   "cell_type": "code",
   "execution_count": 40,
   "metadata": {},
   "outputs": [
    {
     "name": "stdout",
     "output_type": "stream",
     "text": [
      "The autoreload extension is already loaded. To reload it, use:\n",
      "  %reload_ext autoreload\n",
      "2022-03-14 20:15:22,936 |\u001b[32m INFO     \u001b[0m|: Already connected to a BLE device\n"
     ]
    }
   ],
   "source": [
    "%load_ext autoreload\n",
    "%autoreload 2\n",
    "\n",
    "from ble import get_ble_controller\n",
    "from base_ble import LOG\n",
    "from cmd_types import CMD\n",
    "import time\n",
    "import numpy as np\n",
    "import matplotlib.pyplot as plt\n",
    "\n",
    "LOG.propagate = False\n",
    "ble = get_ble_controller()\n",
    "ble.connect()"
   ]
  },
  {
   "cell_type": "markdown",
   "metadata": {},
   "source": [
    "### Define Robot Controller Class"
   ]
  },
  {
   "cell_type": "code",
   "execution_count": 41,
   "metadata": {},
   "outputs": [],
   "source": [
    "class RobotControl():\n",
    "    # Initialize Function\n",
    "    def __init__(self, ble):\n",
    "        self.ble = ble\n",
    "        self.notifiers_on = False\n",
    "        self.TOF_HISTORY_LEN = 40\n",
    "        self.IMU_HISTORY_LEN = 300\n",
    "\n",
    "        # A variable to store the latest sensor value\n",
    "        self.latest_tof_front_reading = None\n",
    "        \n",
    "        # A list to store the history of all the sensor values\n",
    "        # Each item in the list is a tuple (value, time)\n",
    "        # WARNING: The list could grow really fast; you need to deal with this accordingly.\n",
    "        self.tof1_readings = [] # TODO change these to a bounded queue\n",
    "        self.tof2_readings = []\n",
    "        self.imu_readings = []\n",
    "        self.bot_pid_debug = []\n",
    "        \n",
    "        # A variable to store the latest imu reading\n",
    "        self.latest_imu_reading = None\n",
    "        \n",
    "        # Activate notifications (if required)\n",
    "        self.setup_notify()\n",
    "    \n",
    "    # A function to activate various notifications (if required)\n",
    "    def setup_notify(self):\n",
    "        # Code to setup various notify events\n",
    "        # Ex:\n",
    "        ble.start_notify(ble.uuid['RX_TOF1'], self.tof1_callback_handler)\n",
    "        ble.start_notify(ble.uuid['RX_TOF2'], self.tof2_callback_handler)\n",
    "        ble.start_notify(ble.uuid['RX_IMU'], self.imu_callback_handler)\n",
    "        ble.start_notify(ble.uuid['RX_MOTOR_PID'], self.motor_pid_callback_handler)\n",
    "        self.notifiers_on = True\n",
    "\n",
    "    def stop_notify(self):\n",
    "        ble.stop_notify(ble.uuid['RX_TOF1'])\n",
    "        ble.stop_notify(ble.uuid['RX_TOF2'])\n",
    "        ble.stop_notify(ble.uuid['RX_IMU'])\n",
    "        ble.stop_notify(ble.uuid['RX_MOTOR_PID'])\n",
    "        self.notifiers_on = False\n",
    "    \n",
    "    def tof1_callback_handler(self, uuid, byte_array):\n",
    "        self.tof1_readings.append( self.ble.bytearray_to_float(byte_array) )\n",
    "\n",
    "    def tof2_callback_handler(self, uuid, byte_array):\n",
    "        self.tof2_readings.append( ( self.ble.bytearray_to_float(byte_array), time.time() ) )\n",
    "    \n",
    "    def imu_callback_handler(self, uuid, byte_array):\n",
    "        self.imu_readings.append( (self.ble.bytearray_to_string(byte_array), time.time()) )\n",
    "\n",
    "    def motor_pid_callback_handler(self, uuid, byte_array):\n",
    "        self.bot_pid_debug.append( self.ble.bytearray_to_float(byte_array) )\n",
    "\n",
    "    # An example function to fetch the front TOF sensor reading\n",
    "    # Here we assume RX_TOF1 is a valid UUID defined in connection.yaml and\n",
    "    # in the Arduino code as well\n",
    "    def get_front_tof(self):\n",
    "        ble.send_command(CMD.GET_FRONT_TOF, None)\n",
    "        return self.tof1_readings[-1]\n",
    "\n",
    "    \n",
    "    # An example function to fetch the IMU readings as a string\n",
    "    # Here we assume RX_IMU is a valid UUID defined in connection.yaml and\n",
    "    # in the Arduino code as wellt\n",
    "    # def get_imu(self):\n",
    "    #     self.latest_imu_reading = self.ble.receive_string(self.ble.uuid['RX_IMU'])\n",
    "    #     pass\n",
    "    \n",
    "    def start_pid(self, setpoint):\n",
    "        ble.send_command(CMD.START_PID, setpoint)\n",
    "\n",
    "    def stop_pid(self):\n",
    "        ble.send_command(CMD.STOP_PID, None)\n",
    "\n",
    "    # A function to instruct the robot to move forward\n",
    "    def move_forward(self, speed):\n",
    "        ble.send_command(CMD.MOVE_FORWARD, speed)\n",
    "    \n",
    "    # A function to stop robot motion\n",
    "    def stop(self):\n",
    "        ble.send_command(CMD.STOP, None)\n",
    "\n",
    "    def start_data_collection(self):\n",
    "        ble.send_command(CMD.START_DATA_COLLECTION, None)\n",
    "    \n",
    "    def stop_data_collection(self):\n",
    "        temp_notif = self.notifiers_on\n",
    "        if not temp_notif:\n",
    "            self.setup_notify()\n",
    "        ble.send_command(CMD.STOP_DATA_COLLECTION, None)\n",
    "        for i in range(self.TOF_HISTORY_LEN):\n",
    "            ble.send_command(CMD.GET_TOF1_DATA, i)\n",
    "            ble.send_command(CMD.GET_PID_DATA, i)\n",
    "        if not temp_notif:\n",
    "            self.stop_notify()\n"
   ]
  },
  {
   "cell_type": "markdown",
   "metadata": {},
   "source": [
    "### Run PID"
   ]
  },
  {
   "cell_type": "code",
   "execution_count": 44,
   "metadata": {},
   "outputs": [
    {
     "name": "stdout",
     "output_type": "stream",
     "text": [
      "PID: [61.0, 199083.0, 61.0, 199176.0, 60.0, 199280.0, 58.0, 199378.0, 57.0, 199480.0, 54.0, 199589.0, 50.0, 199682.0, 46.0, 199792.0, 42.0, 199884.0, 37.0, 199999.0, 32.0, 200092.0, 26.0, 200207.0, 22.0, 200299.0, 18.0, 200397.0, 14.0, 200504.0, 11.0, 200598.0, 8.0, 200706.0, 6.0, 200803.0, 5.0, 200908.0, 5.0, 201003.0, 5.0, 201108.0, 0.0, 201203.0, 0.0, 201312.0, 0.0, 201408.0, 0.0, 201512.0, 0.0, 201605.0, 0.0, 201710.0, 0.0, 201805.0, 0.0, 0.0, 0.0, 0.0, 0.0, 0.0, 0.0, 0.0, 0.0, 0.0, 0.0, 0.0, 0.0, 0.0, 0.0, 0.0, 0.0, 0.0, 0.0, 0.0, 0.0, 0.0, 0.0, 0.0]\n",
      "TOF: [441.0, 199083.0, 1523.0, 199176.0, 1522.0, 199280.0, 1524.0, 199378.0, 1510.0, 199480.0, 1479.0, 199589.0, 1440.0, 199682.0, 1380.0, 199792.0, 1318.0, 199884.0, 1236.0, 199999.0, 1148.0, 200092.0, 1042.0, 200207.0, 941.0, 200299.0, 836.0, 200397.0, 746.0, 200504.0, 670.0, 200598.0, 593.0, 200706.0, 531.0, 200803.0, 477.0, 200908.0, 439.0, 201003.0, 414.0, 201108.0, 406.0, 201203.0, 407.0, 201312.0, 406.0, 201408.0, 404.0, 201512.0, 402.0, 201605.0, 405.0, 201710.0, 404.0, 201805.0, 0.0, 0.0, 0.0, 0.0, 0.0, 0.0, 0.0, 0.0, 0.0, 0.0, 0.0, 0.0, 0.0, 0.0, 0.0, 0.0, 0.0, 0.0, 0.0, 0.0, 0.0, 0.0, 0.0, 0.0]\n",
      "2022-03-14 20:18:55,381 |\u001b[32m INFO     \u001b[0m|: Disconnected from 7AE0A3CC-63D5-13D9-39BA-D29A7DC67D14\n"
     ]
    }
   ],
   "source": [
    "bot = RobotControl(ble)\n",
    "bot.stop_notify()\n",
    "bot.start_data_collection()\n",
    "bot.start_pid(0.05)\n",
    "time.sleep(2)\n",
    "bot.stop_pid()\n",
    "bot.stop_data_collection()\n",
    "bot.stop()\n",
    "\n",
    "print(f\"PID: {bot.bot_pid_debug}\")\n",
    "print(f\"TOF: {bot.tof1_readings}\")"
   ]
  },
  {
   "cell_type": "markdown",
   "metadata": {},
   "source": [
    "### Visualize"
   ]
  },
  {
   "cell_type": "code",
   "execution_count": 34,
   "metadata": {},
   "outputs": [
    {
     "name": "stdout",
     "output_type": "stream",
     "text": [
      "43\n"
     ]
    }
   ],
   "source": [
    "tof_times = []\n",
    "tof_vals = []\n",
    "pid_vals = []\n",
    "pid_times = []\n",
    "\n",
    "last_data_point = 0\n",
    "for i in reversed(range(len(bot.tof1_readings))):\n",
    "  if i % 2 == 0: continue\n",
    "  if bot.tof1_readings[i] == 0: continue\n",
    "  last_data_point = i\n",
    "  break\n",
    "print(last_data_point)\n",
    "\n",
    "for i,val in enumerate(bot.tof1_readings[:last_data_point+1]):\n",
    "  if i % 2 == 0:\n",
    "    tof_vals.append(val) # Even index, so this is a distance\n",
    "  else:\n",
    "    tof_times.append(val)\n",
    "\n",
    "for i,val in enumerate(bot.bot_pid_debug[:last_data_point+1]):\n",
    "  if i % 2 == 0:\n",
    "    pid_vals.append(val) # Even index, so this is a distance\n",
    "  else:\n",
    "    pid_times.append(val)"
   ]
  },
  {
   "cell_type": "markdown",
   "metadata": {},
   "source": [
    "### Time of Flight Reading vs Time"
   ]
  },
  {
   "cell_type": "code",
   "execution_count": 35,
   "metadata": {},
   "outputs": [
    {
     "data": {
      "text/plain": [
       "[<matplotlib.lines.Line2D at 0x7fa4df51a430>]"
      ]
     },
     "execution_count": 35,
     "metadata": {},
     "output_type": "execute_result"
    },
    {
     "data": {
      "image/png": "[encoded data removed]",
      "text/plain": [
       "<Figure size 432x288 with 1 Axes>"
      ]
     },
     "metadata": {
      "needs_background": "light"
     },
     "output_type": "display_data"
    }
   ],
   "source": [
    "plt.plot(tof_times, tof_vals)"
   ]
  },
  {
   "cell_type": "markdown",
   "metadata": {},
   "source": [
    "### PID Input vs Time"
   ]
  },
  {
   "cell_type": "code",
   "execution_count": 36,
   "metadata": {},
   "outputs": [
    {
     "data": {
      "text/plain": [
       "[<matplotlib.lines.Line2D at 0x7fa4df595b80>]"
      ]
     },
     "execution_count": 36,
     "metadata": {},
     "output_type": "execute_result"
    },
    {
     "data": {
      "image/png": "[encoded data removed]",
      "text/plain": [
       "<Figure size 432x288 with 1 Axes>"
      ]
     },
     "metadata": {
      "needs_background": "light"
     },
     "output_type": "display_data"
    }
   ],
   "source": [
    "plt.plot(pid_times, pid_vals)"
   ]
  }
 ],
 "metadata": {
  "interpreter": {
   "hash": "c92a079c0bb7fb2cb166ddd5a6b27da4a5137dff8bdf590f4a10d0d53cdddbd5"
  },
  "kernelspec": {
   "display_name": "Python 3.9.10 ('venv': venv)",
   "language": "python",
   "name": "python3"
  },
  "language_info": {
   "codemirror_mode": {
    "name": "ipython",
    "version": 3
   },
   "file_extension": ".py",
   "mimetype": "text/x-python",
   "name": "python",
   "nbconvert_exporter": "python",
   "pygments_lexer": "ipython3",
   "version": "3.9.10"
  },
  "orig_nbformat": 4
 },
 "nbformat": 4,
 "nbformat_minor": 2
}
