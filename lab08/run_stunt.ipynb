{
 "cells": [
  {
   "cell_type": "markdown",
   "metadata": {},
   "source": [
    "## Execute Task A Stunt"
   ]
  },
  {
   "cell_type": "markdown",
   "metadata": {},
   "source": [
    "### Setup and Connect"
   ]
  },
  {
   "cell_type": "code",
   "execution_count": 26,
   "metadata": {},
   "outputs": [
    {
     "name": "stdout",
     "output_type": "stream",
     "text": [
      "The autoreload extension is already loaded. To reload it, use:\n",
      "  %reload_ext autoreload\n"
     ]
    }
   ],
   "source": [
    "%load_ext autoreload\n",
    "%autoreload 2\n",
    "\n",
    "from ble import get_ble_controller\n",
    "from base_ble import LOG\n",
    "from cmd_types import CMD\n",
    "import time\n",
    "import numpy as np\n",
    "import matplotlib.pyplot as plt\n",
    "\n",
    "class RobotControl():\n",
    "    # Initialize Function\n",
    "    def __init__(self, ble):\n",
    "        self.ble = ble\n",
    "        self.notifiers_on = False\n",
    "        self.TOF_HISTORY_LEN = 60\n",
    "        self.IMU_HISTORY_LEN = 300\n",
    "        self.calibration_factor = 0\n",
    "\n",
    "        # A variable to store the latest sensor value\n",
    "        self.latest_tof_front_reading = None\n",
    "        \n",
    "        # A list to store the history of all the sensor values\n",
    "        # Each item in the list is a tuple (value, time)\n",
    "        # WARNING: The list could grow really fast; you need to deal with this accordingly.\n",
    "        self.tof1_readings = [] # TODO change these to a bounded queue\n",
    "        self.tof2_readings = []\n",
    "        self.imu_readings = []\n",
    "        self.bot_pid_debug = []\n",
    "        \n",
    "        # A variable to store the latest imu reading\n",
    "        self.latest_imu_reading = None\n",
    "        \n",
    "        # Activate notifications (if required)\n",
    "        self.setup_notify()\n",
    "    \n",
    "    # A function to activate various notifications (if required)\n",
    "    def setup_notify(self):\n",
    "        # Code to setup various notify events\n",
    "        # Ex:\n",
    "        ble.start_notify(ble.uuid['RX_TOF1'], self.tof1_callback_handler)\n",
    "        ble.start_notify(ble.uuid['RX_TOF2'], self.tof2_callback_handler)\n",
    "        ble.start_notify(ble.uuid['RX_IMU'], self.imu_callback_handler)\n",
    "        ble.start_notify(ble.uuid['RX_MOTOR_PID'], self.motor_pid_callback_handler)\n",
    "        self.notifiers_on = True\n",
    "\n",
    "    def stop_notify(self):\n",
    "        ble.stop_notify(ble.uuid['RX_TOF1'])\n",
    "        ble.stop_notify(ble.uuid['RX_TOF2'])\n",
    "        ble.stop_notify(ble.uuid['RX_IMU'])\n",
    "        ble.stop_notify(ble.uuid['RX_MOTOR_PID'])\n",
    "        self.notifiers_on = False\n",
    "    \n",
    "    def tof1_callback_handler(self, uuid, byte_array):\n",
    "        self.tof1_readings.append( self.ble.bytearray_to_float(byte_array) )\n",
    "\n",
    "    def tof2_callback_handler(self, uuid, byte_array):\n",
    "        self.tof2_readings.append( ( self.ble.bytearray_to_float(byte_array), time.time() ) )\n",
    "    \n",
    "    def imu_callback_handler(self, uuid, byte_array):\n",
    "        self.imu_readings.append( (self.ble.bytearray_to_string(byte_array), time.time()) )\n",
    "\n",
    "    def motor_pid_callback_handler(self, uuid, byte_array):\n",
    "        self.bot_pid_debug.append( self.ble.bytearray_to_float(byte_array) )\n",
    "\n",
    "    # An example function to fetch the front TOF sensor reading\n",
    "    # Here we assume RX_TOF1 is a valid UUID defined in connection.yaml and\n",
    "    # in the Arduino code as well\n",
    "    def get_front_tof(self):\n",
    "        ble.send_command(CMD.GET_FRONT_TOF, None)\n",
    "        return self.tof1_readings[-1]\n",
    "\n",
    "    \n",
    "    # An example function to fetch the IMU readings as a string\n",
    "    # Here we assume RX_IMU is a valid UUID defined in connection.yaml and\n",
    "    # in the Arduino code as wellt\n",
    "    # def get_imu(self):\n",
    "    #     self.latest_imu_reading = self.ble.receive_string(self.ble.uuid['RX_IMU'])\n",
    "    #     pass\n",
    "    \n",
    "    def start_pid(self, setpoint):\n",
    "        ble.send_command(CMD.START_PID, setpoint)\n",
    "\n",
    "    def stop_pid(self):\n",
    "        ble.send_command(CMD.STOP_PID, None)\n",
    "\n",
    "    # A function to instruct the robot to move forward\n",
    "    def move_forward(self, speed):\n",
    "        ble.send_command(CMD.MOVE_FORWARD, speed)\n",
    "    \n",
    "    def move_backward(self, speed):\n",
    "        ble.send_command(CMD.MOVE_BACKWARD, speed)\n",
    "\n",
    "    def set_motor_calibration(self, new_val):\n",
    "        ble.send_command(CMD.SET_MOTOR_CALIB, new_val)\n",
    "        self.calibration_factor = new_val\n",
    "    \n",
    "    # A function to stop robot motion\n",
    "    def stop(self):\n",
    "        ble.send_command(CMD.STOP, None)\n",
    "\n",
    "    def start_data_collection(self):\n",
    "        ble.send_command(CMD.START_DATA_COLLECTION, None)\n",
    "    \n",
    "    def stop_data_collection(self):\n",
    "        temp_notif = self.notifiers_on\n",
    "        if not temp_notif:\n",
    "            self.setup_notify()\n",
    "        ble.send_command(CMD.STOP_DATA_COLLECTION, None)\n",
    "        for i in range(self.TOF_HISTORY_LEN):\n",
    "            ble.send_command(CMD.GET_TOF1_DATA, i)\n",
    "            ble.send_command(CMD.GET_PID_DATA, i)\n",
    "        if not temp_notif:\n",
    "            self.stop_notify()\n",
    "\n",
    "    \"\"\"\n",
    "    Step response, but hard break at step_stop\n",
    "    \"\"\"\n",
    "    def start_step_response(self, step_stop):\n",
    "        ble.send_command(CMD.START_STEP_RESPONSE, step_stop)\n",
    "    \n",
    "    def stop_step_response(self):\n",
    "        ble.send_command(CMD.STOP_STEP_RESPONSE, None)\n",
    "\n",
    "    def do_stunt(self, stunt_setpoint, stunt_pid_proportional):\n",
    "        ble.send_command(CMD.START_STUNT, f\"{stunt_setpoint}|{stunt_pid_proportional}\")\n",
    "\n",
    "    def sudden_flip(self, raw_power, scale=False):\n",
    "        if scale:\n",
    "            ble.send_command(CMD.SUDDEN_FLIP, raw_power * 255 / self.calibration_factor)\n",
    "        else:\n",
    "            ble.send_command(CMD.SUDDEN_FLIP, raw_power)\n",
    "    "
   ]
  },
  {
   "cell_type": "markdown",
   "metadata": {},
   "source": [
    "### Define Robot Controller Class"
   ]
  },
  {
   "cell_type": "code",
   "execution_count": 27,
   "metadata": {},
   "outputs": [
    {
     "name": "stdout",
     "output_type": "stream",
     "text": [
      "2022-03-27 17:38:56,113 |\u001b[32m INFO     \u001b[0m|: Looking for Artemis Nano Peripheral Device: C0:07:21:8D:B3:44\n",
      "2022-03-27 17:38:59,162 |\u001b[32m INFO     \u001b[0m|: Connected to C0:07:21:8D:B3:44\n"
     ]
    }
   ],
   "source": [
    "LOG.propagate = False\n",
    "ble = get_ble_controller()\n",
    "ble.connect()"
   ]
  },
  {
   "cell_type": "markdown",
   "metadata": {},
   "source": [
    "### Run Stunt"
   ]
  },
  {
   "cell_type": "code",
   "execution_count": 28,
   "metadata": {},
   "outputs": [],
   "source": [
    "bot = RobotControl(ble)"
   ]
  },
  {
   "cell_type": "code",
   "execution_count": 32,
   "metadata": {},
   "outputs": [],
   "source": [
    "\n",
    "# bot.set_motor_calibration(1.8)\n",
    "# bot.start_data_collection()\n",
    "# bot.start_pid(0.1)\n",
    "# time.sleep(1)\n",
    "# bot.stop_pid()\n",
    "# bot.move_backward(255)\n",
    "# time.sleep(1)\n",
    "# bot.stop()\n",
    "# bot.stop_data_collection()\n",
    "\n",
    "bot.set_motor_calibration(1.8)\n",
    "bot.start_data_collection()\n",
    "bot.move_forward(255)\n",
    "time.sleep(1)\n",
    "bot.sudden_flip(255, scale=False)\n",
    "time.sleep(1)\n",
    "bot.stop()\n",
    "bot.stop_data_collection()"
   ]
  },
  {
   "cell_type": "code",
   "execution_count": 33,
   "metadata": {},
   "outputs": [
    {
     "name": "stdout",
     "output_type": "stream",
     "text": [
      "TOF: [505.0, 55786.0, 534.0, 56267.0, 596.0, 56321.0, 492.0, 56419.0, 572.0, 56475.0, 605.0, 56531.0, 667.0, 56587.0, 668.0, 56643.0, 678.0, 56698.0, 539.0, 56795.0, 492.0, 56893.0, 438.0, 56998.0, 463.0, 57096.0, 430.0, 57194.0, 423.0, 57292.0, 452.0, 57389.0, 535.0, 57488.0, 734.0, 57587.0, 748.0, 57686.0, 1668.0, 57782.0, 1869.0, 57882.0, 2113.0, 57981.0, 2282.0, 58077.0, 0.0, 0.0, 0.0, 0.0, 0.0, 0.0, 0.0, 0.0, 0.0, 0.0, 0.0, 0.0, 0.0, 0.0, 0.0, 0.0, 0.0, 0.0, 0.0, 0.0, 0.0, 0.0, 0.0, 0.0, 0.0, 0.0, 0.0, 0.0, 0.0, 0.0, 0.0, 0.0, 0.0, 0.0, 0.0, 0.0, 0.0, 0.0, 0.0, 0.0, 0.0, 0.0, 0.0, 0.0, 0.0, 0.0, 0.0, 0.0, 0.0, 0.0, 0.0, 0.0, 0.0, 0.0, 0.0, 0.0, 0.0, 0.0, 0.0, 0.0, 0.0, 0.0, 0.0, 0.0, 0.0, 0.0, 0.0, 0.0, 0.0, 0.0, 0.0, 0.0, 0.0, 0.0, 2556.0, 78314.0, 2575.0, 78411.0, 2548.0, 78510.0, 2477.0, 78610.0, 2389.0, 78705.0, 2240.0, 78805.0, 2110.0, 78903.0, 1951.0, 79001.0, 1768.0, 79099.0, 1574.0, 79196.0, 1350.0, 79298.0, 1115.0, 79393.0, 848.0, 79501.0, 633.0, 79602.0, 490.0, 79699.0, 502.0, 79800.0, 1157.0, 79895.0, 474.0, 79995.0, 1596.0, 80091.0, 2123.0, 80191.0, 291.0, 80289.0, 69.0, 80392.0, 95.0, 80487.0, 161.0, 80588.0, 0.0, 0.0, 0.0, 0.0, 0.0, 0.0, 0.0, 0.0, 0.0, 0.0, 0.0, 0.0, 0.0, 0.0, 0.0, 0.0, 0.0, 0.0, 0.0, 0.0, 0.0, 0.0, 0.0, 0.0, 0.0, 0.0, 0.0, 0.0, 0.0, 0.0, 0.0, 0.0, 0.0, 0.0, 0.0, 0.0, 0.0, 0.0, 0.0, 0.0, 0.0, 0.0, 0.0, 0.0, 0.0, 0.0, 0.0, 0.0, 0.0, 0.0, 0.0, 0.0, 0.0, 0.0, 0.0, 0.0, 0.0, 0.0, 0.0, 0.0, 0.0, 0.0, 0.0, 0.0, 0.0, 0.0, 0.0, 0.0, 0.0, 0.0, 0.0, 0.0, 211.0, 95565.0, 2533.0, 95662.0, 2552.0, 95761.0, 2525.0, 95857.0, 2470.0, 95954.0, 2387.0, 96052.0, 2237.0, 96150.0, 2076.0, 96247.0, 1929.0, 96347.0, 1737.0, 96445.0, 1544.0, 96543.0, 1313.0, 96644.0, 1084.0, 96741.0, 818.0, 96849.0, 589.0, 96945.0, 182.0, 97044.0, 24.0, 97144.0, 237.0, 97240.0, 1712.0, 97341.0, 1628.0, 97436.0, 1264.0, 97534.0, 1128.0, 97631.0, 1059.0, 97730.0, 851.0, 97827.0, 455.0, 97930.0, 0.0, 0.0, 0.0, 0.0, 0.0, 0.0, 0.0, 0.0, 0.0, 0.0, 0.0, 0.0, 0.0, 0.0, 0.0, 0.0, 0.0, 0.0, 0.0, 0.0, 0.0, 0.0, 0.0, 0.0, 0.0, 0.0, 0.0, 0.0, 0.0, 0.0, 0.0, 0.0, 0.0, 0.0, 0.0, 0.0, 0.0, 0.0, 0.0, 0.0, 0.0, 0.0, 0.0, 0.0, 0.0, 0.0, 0.0, 0.0, 0.0, 0.0, 0.0, 0.0, 0.0, 0.0, 0.0, 0.0, 0.0, 0.0, 0.0, 0.0, 0.0, 0.0, 0.0, 0.0, 0.0, 0.0, 0.0, 0.0, 0.0, 0.0]\n",
      "PID: [0.0, 55786.0, 0.0, 56267.0, 0.0, 56321.0, 0.0, 56419.0, 0.0, 56475.0, 0.0, 56531.0, 0.0, 56587.0, 0.0, 56643.0, 0.0, 56698.0, 0.0, 56795.0, 0.0, 56893.0, 0.0, 56998.0, 0.0, 57096.0, 0.0, 57194.0, 0.0, 57292.0, 0.0, 57389.0, 0.0, 57488.0, 0.0, 57587.0, 0.0, 57686.0, 0.0, 57782.0, 0.0, 57882.0, 0.0, 57981.0, 0.0, 58077.0, 0.0, 0.0, 0.0, 0.0, 0.0, 0.0, 0.0, 0.0, 0.0, 0.0, 0.0, 0.0, 0.0, 0.0, 0.0, 0.0, 0.0, 0.0, 0.0, 0.0, 0.0, 0.0, 0.0, 0.0, 0.0, 0.0, 0.0, 0.0, 0.0, 0.0, 0.0, 0.0, 0.0, 0.0, 0.0, 0.0, 0.0, 0.0, 0.0, 0.0, 0.0, 0.0, 0.0, 0.0, 0.0, 0.0, 0.0, 0.0, 0.0, 0.0, 0.0, 0.0, 0.0, 0.0, 0.0, 0.0, 0.0, 0.0, 0.0, 0.0, 0.0, 0.0, 0.0, 0.0, 0.0, 0.0, 0.0, 0.0, 0.0, 0.0, 0.0, 0.0, 0.0, 0.0, 0.0, 78314.0, 0.0, 78411.0, 0.0, 78510.0, 0.0, 78610.0, 0.0, 78705.0, 0.0, 78805.0, 0.0, 78903.0, 0.0, 79001.0, 0.0, 79099.0, 0.0, 79196.0, 0.0, 79298.0, 0.0, 79393.0, 0.0, 79501.0, 0.0, 79602.0, 0.0, 79699.0, 0.0, 79800.0, 0.0, 79895.0, 0.0, 79995.0, 0.0, 80091.0, 0.0, 80191.0, 0.0, 80289.0, 0.0, 80392.0, 0.0, 80487.0, 0.0, 80588.0, 0.0, 0.0, 0.0, 0.0, 0.0, 0.0, 0.0, 0.0, 0.0, 0.0, 0.0, 0.0, 0.0, 0.0, 0.0, 0.0, 0.0, 0.0, 0.0, 0.0, 0.0, 0.0, 0.0, 0.0, 0.0, 0.0, 0.0, 0.0, 0.0, 0.0, 0.0, 0.0, 0.0, 0.0, 0.0, 0.0, 0.0, 0.0, 0.0, 0.0, 0.0, 0.0, 0.0, 0.0, 0.0, 0.0, 0.0, 0.0, 0.0, 0.0, 0.0, 0.0, 0.0, 0.0, 0.0, 0.0, 0.0, 0.0, 0.0, 0.0, 0.0, 0.0, 0.0, 0.0, 0.0, 0.0, 0.0, 0.0, 0.0, 0.0, 0.0, 0.0, 0.0, 95565.0, 0.0, 95662.0, 0.0, 95761.0, 0.0, 95857.0, 0.0, 95954.0, 0.0, 96052.0, 0.0, 96150.0, 0.0, 96247.0, 0.0, 96347.0, 0.0, 96445.0, 0.0, 96543.0, 0.0, 96644.0, 0.0, 96741.0, 0.0, 96849.0, 0.0, 96945.0, 0.0, 97044.0, 0.0, 97144.0, 0.0, 97240.0, 0.0, 97341.0, 0.0, 97436.0, 0.0, 97534.0, 0.0, 97631.0, 0.0, 97730.0, 0.0, 97827.0, 0.0, 97930.0, 0.0, 0.0, 0.0, 0.0, 0.0, 0.0, 0.0, 0.0, 0.0, 0.0, 0.0, 0.0, 0.0, 0.0, 0.0, 0.0, 0.0, 0.0, 0.0, 0.0, 0.0, 0.0, 0.0, 0.0, 0.0, 0.0, 0.0, 0.0, 0.0, 0.0, 0.0, 0.0, 0.0, 0.0, 0.0, 0.0, 0.0, 0.0, 0.0, 0.0, 0.0, 0.0, 0.0, 0.0, 0.0, 0.0, 0.0, 0.0, 0.0, 0.0, 0.0, 0.0, 0.0, 0.0, 0.0, 0.0, 0.0, 0.0, 0.0, 0.0, 0.0, 0.0, 0.0, 0.0, 0.0, 0.0, 0.0, 0.0, 0.0, 0.0]\n"
     ]
    }
   ],
   "source": [
    "print(f\"TOF: {bot.tof1_readings}\")\n",
    "print(f\"PID: {bot.bot_pid_debug}\")"
   ]
  }
 ],
 "metadata": {
  "interpreter": {
   "hash": "c92a079c0bb7fb2cb166ddd5a6b27da4a5137dff8bdf590f4a10d0d53cdddbd5"
  },
  "kernelspec": {
   "display_name": "Python 3.9.10 ('venv': venv)",
   "language": "python",
   "name": "python3"
  },
  "language_info": {
   "codemirror_mode": {
    "name": "ipython",
    "version": 3
   },
   "file_extension": ".py",
   "mimetype": "text/x-python",
   "name": "python",
   "nbconvert_exporter": "python",
   "pygments_lexer": "ipython3",
   "version": "3.9.10"
  },
  "orig_nbformat": 4
 },
 "nbformat": 4,
 "nbformat_minor": 2
}
