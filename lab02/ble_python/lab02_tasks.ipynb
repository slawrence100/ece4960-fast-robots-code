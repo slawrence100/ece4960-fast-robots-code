{
 "cells": [
  {
   "cell_type": "markdown",
   "metadata": {},
   "source": [
    "# Lab 2 Tasks\n",
    "By Syd Lawrence"
   ]
  },
  {
   "cell_type": "markdown",
   "metadata": {},
   "source": [
    "## Setup\n",
    "This code is ripped straight from the demo. It imports requirements and connects the board to the computer."
   ]
  },
  {
   "cell_type": "code",
   "execution_count": 1,
   "metadata": {},
   "outputs": [
    {
     "name": "stdout",
     "output_type": "stream",
     "text": [
      "2022-02-01 16:50:19,827 |\u001b[32m INFO     \u001b[0m|: Looking for Artemis Nano Peripheral Device: C0:07:21:8D:B3:44\n",
      "2022-02-01 16:50:23,755 |\u001b[32m INFO     \u001b[0m|: Connected to C0:07:21:8D:B3:44\n"
     ]
    }
   ],
   "source": [
    "%load_ext autoreload\n",
    "%autoreload 2\n",
    "\n",
    "from ble import get_ble_controller\n",
    "from base_ble import LOG\n",
    "from cmd_types import CMD\n",
    "import time\n",
    "import numpy as np\n",
    "\n",
    "LOG.propagate = False\n",
    "\n",
    "# Get ArtemisBLEController object\n",
    "ble = get_ble_controller()\n",
    "\n",
    "# Connect to the Artemis Device\n",
    "ble.connect()"
   ]
  },
  {
   "cell_type": "markdown",
   "metadata": {},
   "source": [
    "## Task 1\n",
    "*Send an ECHO command with a string value from the computer to the Artemis board, and receive an augmented string on the computer.*"
   ]
  },
  {
   "cell_type": "markdown",
   "metadata": {},
   "source": [
    "### Arduino Code Changes\n",
    "```cpp\n",
    "/*\n",
    "* Add a prefix and postfix to the string value extracted from the command string\n",
    "*/\n",
    "case ECHO:\n",
    "\n",
    "  char char_arr[MAX_MSG_SIZE];\n",
    "\n",
    "  // Extract the next value from the command string as a character array\n",
    "  success = robot_cmd.get_next_value(char_arr);\n",
    "  if (!success)\n",
    "      return;\n",
    "\n",
    "  /*\n",
    "    * Your code goes here.\n",
    "    */\n",
    "  tx_estring_value.clear();\n",
    "  tx_estring_value.append(\"Robot says: \\\"\");\n",
    "  tx_estring_value.append(char_arr);\n",
    "  tx_estring_value.append(\"\\\"\");\n",
    "  tx_characteristic_string.writeValue(tx_estring_value.c_str());\n",
    "\n",
    "  Serial.print(\"Sent back: \");\n",
    "  Serial.println(tx_estring_value.c_str());\n",
    "\n",
    "  break;\n",
    "```"
   ]
  },
  {
   "cell_type": "markdown",
   "metadata": {},
   "source": [
    "### Python Command and Test"
   ]
  },
  {
   "cell_type": "code",
   "execution_count": 2,
   "metadata": {},
   "outputs": [
    {
     "name": "stdout",
     "output_type": "stream",
     "text": [
      "Robot says: \"Greetings, human\"\n"
     ]
    }
   ],
   "source": [
    "ble.send_command(CMD.ECHO, \"Greetings, human\")\n",
    "msg = ble.receive_string(ble.uuid['RX_STRING'])\n",
    "print(msg)"
   ]
  },
  {
   "cell_type": "markdown",
   "metadata": {},
   "source": [
    "## Task 2\n",
    "*Send three floats to the Artemis board using the SEND_THREE_FLOATS command and extract the three float values in the Arduino sketch.*"
   ]
  },
  {
   "cell_type": "markdown",
   "metadata": {},
   "source": [
    "### Arduino Code Changes\n",
    "```cpp\n",
    "/*\n",
    "* Extract three floats from the command string\n",
    "*/\n",
    "case SEND_THREE_FLOATS:\n",
    "  /*\n",
    "    * Your code goes here.\n",
    "    */\n",
    "    float float_1, float_2, float_3;\n",
    "    // Extract 3 floats in sequence, and fail if any one of them fails\n",
    "    success = robot_cmd.get_next_value(float_1);\n",
    "    if (!float_1) return;\n",
    "    success = robot_cmd.get_next_value(float_2);\n",
    "    if (!float_2) return;\n",
    "    success = robot_cmd.get_next_value(float_3);\n",
    "    if (!float_3) return;\n",
    "\n",
    "  Serial.print(\"Three floats: \");\n",
    "  Serial.print(float_1);\n",
    "  Serial.print(\", \");\n",
    "  Serial.print(float_2);\n",
    "  Serial.print(\", \");\n",
    "  Serial.println(float_3);\n",
    "  \n",
    "  break;\n",
    "```"
   ]
  },
  {
   "cell_type": "markdown",
   "metadata": {},
   "source": [
    "### Python Command and Test"
   ]
  },
  {
   "cell_type": "code",
   "execution_count": 3,
   "metadata": {},
   "outputs": [],
   "source": [
    "ble.send_command(CMD.SEND_THREE_FLOATS, \"10.23|9.21|7.11\")"
   ]
  },
  {
   "cell_type": "markdown",
   "metadata": {},
   "source": [
    "![three floats received](three-floats.png)"
   ]
  },
  {
   "cell_type": "markdown",
   "metadata": {},
   "source": [
    "## Task 3\n",
    "*Setup a notification handler in Python to receive the float value (the **BLEFloatCharactersitic** in Arduino) from the Artemis board. In the callback function, store the float value into a (global) variable such that it is updated every time the characteristic value changes. This way we do not have to explicitly use the `receive_float()` function to get the float value.*"
   ]
  },
  {
   "cell_type": "markdown",
   "metadata": {},
   "source": [
    "### Python Code Changes\n",
    "*Arduino code not modified*"
   ]
  },
  {
   "cell_type": "code",
   "execution_count": 4,
   "metadata": {},
   "outputs": [
    {
     "name": "stdout",
     "output_type": "stream",
     "text": [
      "2850.5\n",
      "2851.0\n",
      "2851.5\n",
      "2852.0\n",
      "2852.5\n",
      "2853.0\n"
     ]
    }
   ],
   "source": [
    "current_float_recv = 0.0\n",
    "\n",
    "# Record received float notifications \n",
    "def handle_recv_float(uuid, val):\n",
    "  global current_float_recv\n",
    "  print(ble.bytearray_to_float(val))\n",
    "\n",
    "ble.start_notify(ble.uuid['RX_FLOAT'], handle_recv_float)\n",
    "\n",
    "# Wait for three seconds before stopping notifications\n",
    "# to avoid flooding the notebook output\n",
    "time.sleep(3)\n",
    "ble.stop_notify(ble.uuid['RX_FLOAT'])"
   ]
  },
  {
   "cell_type": "markdown",
   "metadata": {},
   "source": [
    "## Task 4\n",
    "*In your report, briefly explain the difference between the two approaches:*\n",
    "\n",
    "  1. *Receive a float value in Python using `receive_float()` on a characteristic that is defined as `BLEFloatCharactersitic` in the Arduino side*\n",
    "  2. *Receive a float value in Python using `receive_string()` (and subsequently converting it to a float type in Python) on a characteristic that is defined as a `BLECStringCharactersitic` in the Arduino side*\n"
   ]
  },
  {
   "cell_type": "markdown",
   "metadata": {},
   "source": [
    "Approach 1 receives the float by directly interpreting the byte array the Arduino sends as a floating-point value, likely according to IEEE 754.\n",
    "\n",
    "Approach 2 receives the \"float\" by receiving a string and interpreting that as a float by a character-wise conversion, which restricts one to sending numbers with a number of characters less or equal to the longest possible string one can send.\n",
    "\n",
    "The main practical difference here is that using `receive_float()` in Approach 1 will allow one to express a far larger range of numbers than using `receive_string()` and converting afterwards given the same amount of data sent over Bluetooth. \n",
    "\n",
    "Here's why:\n",
    "- Assuming the Artemis is using a 32-bit single-precision floating point number, [one can express numbers from ±10^-38 to about ±3*10^38 to 7 decimal places](https://en.wikipedia.org/wiki/Single-precision_floating-point_format)\n",
    "- Each character of a string takes 8 bits, so we have at most 4 characters to work with. Assuming the string represents a human-readable number,\n",
    "  - The maximum number we can represent is `\"9999\"`\n",
    "  - The minimum number we can represent is `\"-999\"`\n",
    "  - The smallest increment we can represent is `\".001\"`\n",
    "\n",
    "Based on these assumptions, it's better to use Approach 1."
   ]
  }
 ],
 "metadata": {
  "interpreter": {
   "hash": "2a99d6230749d8e8138a680d1d6f34b94ccb994f92a885b639b5527a4e78a0b2"
  },
  "kernelspec": {
   "display_name": "Python 3 (ipykernel)",
   "language": "python",
   "name": "python3"
  },
  "language_info": {
   "codemirror_mode": {
    "name": "ipython",
    "version": 3
   },
   "file_extension": ".py",
   "mimetype": "text/x-python",
   "name": "python",
   "nbconvert_exporter": "python",
   "pygments_lexer": "ipython3",
   "version": "3.9.10"
  }
 },
 "nbformat": 4,
 "nbformat_minor": 4
}
